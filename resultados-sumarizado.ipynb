{
 "cells": [
  {
   "cell_type": "code",
   "execution_count": 1,
   "metadata": {
    "collapsed": true
   },
   "outputs": [],
   "source": [
    "import pandas as pd"
   ]
  },
  {
   "cell_type": "code",
   "execution_count": 2,
   "metadata": {
    "collapsed": true
   },
   "outputs": [],
   "source": [
    "%matplotlib inline"
   ]
  },
  {
   "cell_type": "code",
   "execution_count": 62,
   "metadata": {
    "collapsed": true
   },
   "outputs": [],
   "source": [
    "from matplotlib.ticker import FuncFormatter"
   ]
  },
  {
   "cell_type": "code",
   "execution_count": 63,
   "metadata": {
    "collapsed": true
   },
   "outputs": [],
   "source": [
    "def money(x,pos):\n",
    "    'The 2 args are the value and tick position'\n",
    "    return \"${:.0f}\".format(x)"
   ]
  },
  {
   "cell_type": "code",
   "execution_count": 64,
   "metadata": {
    "collapsed": true
   },
   "outputs": [],
   "source": [
    "formatter = FuncFormatter(money)"
   ]
  },
  {
   "cell_type": "code",
   "execution_count": null,
   "metadata": {
    "collapsed": true
   },
   "outputs": [],
   "source": []
  },
  {
   "cell_type": "code",
   "execution_count": 3,
   "metadata": {
    "collapsed": true
   },
   "outputs": [],
   "source": [
    "resultados = pd.read_csv(\"https://raw.githubusercontent.com/carlos-teles/w-min-dados/master/resultados.csv\")"
   ]
  },
  {
   "cell_type": "code",
   "execution_count": 4,
   "metadata": {},
   "outputs": [
    {
     "name": "stdout",
     "output_type": "stream",
     "text": [
      "<class 'pandas.core.frame.DataFrame'>\n",
      "RangeIndex: 17 entries, 0 to 16\n",
      "Data columns (total 5 columns):\n",
      "TYPE           17 non-null object\n",
      "TITLE          17 non-null object\n",
      "SUBJECT        17 non-null object\n",
      "DESCRIPTION    17 non-null object\n",
      "RESULT         17 non-null object\n",
      "dtypes: object(5)\n",
      "memory usage: 752.0+ bytes\n"
     ]
    }
   ],
   "source": [
    "resultados.info()"
   ]
  },
  {
   "cell_type": "code",
   "execution_count": 22,
   "metadata": {},
   "outputs": [
    {
     "data": {
      "text/html": [
       "<div>\n",
       "<style>\n",
       "    .dataframe thead tr:only-child th {\n",
       "        text-align: right;\n",
       "    }\n",
       "\n",
       "    .dataframe thead th {\n",
       "        text-align: left;\n",
       "    }\n",
       "\n",
       "    .dataframe tbody tr th {\n",
       "        vertical-align: top;\n",
       "    }\n",
       "</style>\n",
       "<table border=\"1\" class=\"dataframe\">\n",
       "  <thead>\n",
       "    <tr style=\"text-align: right;\">\n",
       "      <th></th>\n",
       "      <th>TITLE</th>\n",
       "      <th>0</th>\n",
       "    </tr>\n",
       "  </thead>\n",
       "  <tbody>\n",
       "    <tr>\n",
       "      <th>0</th>\n",
       "      <td>PROPOSITION 051 - SCHOOL BONDS. FUNDING FOR K-...</td>\n",
       "      <td>1</td>\n",
       "    </tr>\n",
       "    <tr>\n",
       "      <th>1</th>\n",
       "      <td>PROPOSITION 052 - STATE FEES ON HOSPITALS. FED...</td>\n",
       "      <td>1</td>\n",
       "    </tr>\n",
       "    <tr>\n",
       "      <th>2</th>\n",
       "      <td>PROPOSITION 053 - REVENUE BONDS. STATEWIDE VOT...</td>\n",
       "      <td>1</td>\n",
       "    </tr>\n",
       "    <tr>\n",
       "      <th>3</th>\n",
       "      <td>PROPOSITION 054 - LEGISLATURE. LEGISLATION AND...</td>\n",
       "      <td>1</td>\n",
       "    </tr>\n",
       "    <tr>\n",
       "      <th>4</th>\n",
       "      <td>PROPOSITION 055 - TAX EXTENSION TO FUND EDUCAT...</td>\n",
       "      <td>1</td>\n",
       "    </tr>\n",
       "    <tr>\n",
       "      <th>5</th>\n",
       "      <td>PROPOSITION 056 - CIGARETTE TAX TO FUND HEALTH...</td>\n",
       "      <td>1</td>\n",
       "    </tr>\n",
       "    <tr>\n",
       "      <th>6</th>\n",
       "      <td>PROPOSITION 057 - CRIMINAL SENTENCES. JUVENILE...</td>\n",
       "      <td>1</td>\n",
       "    </tr>\n",
       "    <tr>\n",
       "      <th>7</th>\n",
       "      <td>PROPOSITION 058 - SB 1174 (CHAPTER 753, STATUT...</td>\n",
       "      <td>1</td>\n",
       "    </tr>\n",
       "    <tr>\n",
       "      <th>8</th>\n",
       "      <td>PROPOSITION 059- SB 254 (CHAPTER 20, STATUTES ...</td>\n",
       "      <td>1</td>\n",
       "    </tr>\n",
       "    <tr>\n",
       "      <th>9</th>\n",
       "      <td>PROPOSITION 060- ADULT FILMS. CONDOMS. HEALTH ...</td>\n",
       "      <td>1</td>\n",
       "    </tr>\n",
       "    <tr>\n",
       "      <th>10</th>\n",
       "      <td>PROPOSITION 061- STATE PRESCRIPTION DRUG PURCH...</td>\n",
       "      <td>1</td>\n",
       "    </tr>\n",
       "    <tr>\n",
       "      <th>11</th>\n",
       "      <td>PROPOSITION 062- DEATH PENALTY. INITIATIVE STA...</td>\n",
       "      <td>1</td>\n",
       "    </tr>\n",
       "    <tr>\n",
       "      <th>12</th>\n",
       "      <td>PROPOSITION 063- FIREARMS. AMMUNITION SALES. I...</td>\n",
       "      <td>1</td>\n",
       "    </tr>\n",
       "    <tr>\n",
       "      <th>13</th>\n",
       "      <td>PROPOSITION 064- MARIJUANA LEGALIZATION. INITI...</td>\n",
       "      <td>1</td>\n",
       "    </tr>\n",
       "    <tr>\n",
       "      <th>14</th>\n",
       "      <td>PROPOSITION 065- CARRY-OUT BAGS. CHARGES. INIT...</td>\n",
       "      <td>1</td>\n",
       "    </tr>\n",
       "    <tr>\n",
       "      <th>15</th>\n",
       "      <td>PROPOSITION 066- DEATH PENALTY. PROCEDURES. IN...</td>\n",
       "      <td>1</td>\n",
       "    </tr>\n",
       "    <tr>\n",
       "      <th>16</th>\n",
       "      <td>PROPOSITION 067- REFERENDUM TO OVERTURN BAN ON...</td>\n",
       "      <td>1</td>\n",
       "    </tr>\n",
       "  </tbody>\n",
       "</table>\n",
       "</div>"
      ],
      "text/plain": [
       "                                                TITLE  0\n",
       "0   PROPOSITION 051 - SCHOOL BONDS. FUNDING FOR K-...  1\n",
       "1   PROPOSITION 052 - STATE FEES ON HOSPITALS. FED...  1\n",
       "2   PROPOSITION 053 - REVENUE BONDS. STATEWIDE VOT...  1\n",
       "3   PROPOSITION 054 - LEGISLATURE. LEGISLATION AND...  1\n",
       "4   PROPOSITION 055 - TAX EXTENSION TO FUND EDUCAT...  1\n",
       "5   PROPOSITION 056 - CIGARETTE TAX TO FUND HEALTH...  1\n",
       "6   PROPOSITION 057 - CRIMINAL SENTENCES. JUVENILE...  1\n",
       "7   PROPOSITION 058 - SB 1174 (CHAPTER 753, STATUT...  1\n",
       "8   PROPOSITION 059- SB 254 (CHAPTER 20, STATUTES ...  1\n",
       "9   PROPOSITION 060- ADULT FILMS. CONDOMS. HEALTH ...  1\n",
       "10  PROPOSITION 061- STATE PRESCRIPTION DRUG PURCH...  1\n",
       "11  PROPOSITION 062- DEATH PENALTY. INITIATIVE STA...  1\n",
       "12  PROPOSITION 063- FIREARMS. AMMUNITION SALES. I...  1\n",
       "13  PROPOSITION 064- MARIJUANA LEGALIZATION. INITI...  1\n",
       "14  PROPOSITION 065- CARRY-OUT BAGS. CHARGES. INIT...  1\n",
       "15  PROPOSITION 066- DEATH PENALTY. PROCEDURES. IN...  1\n",
       "16  PROPOSITION 067- REFERENDUM TO OVERTURN BAN ON...  1"
      ]
     },
     "execution_count": 22,
     "metadata": {},
     "output_type": "execute_result"
    }
   ],
   "source": [
    "resultados.groupby(\"TITLE\").size().reset_index()"
   ]
  },
  {
   "cell_type": "code",
   "execution_count": 25,
   "metadata": {
    "collapsed": true
   },
   "outputs": [],
   "source": [
    "appr = resultados[resultados.RESULT == 'APPROVED']"
   ]
  },
  {
   "cell_type": "code",
   "execution_count": 26,
   "metadata": {
    "collapsed": true
   },
   "outputs": [],
   "source": [
    "defeat = resultados[resultados.RESULT == 'DEFEATED']"
   ]
  },
  {
   "cell_type": "code",
   "execution_count": 43,
   "metadata": {},
   "outputs": [
    {
     "data": {
      "text/html": [
       "<div>\n",
       "<style>\n",
       "    .dataframe thead tr:only-child th {\n",
       "        text-align: right;\n",
       "    }\n",
       "\n",
       "    .dataframe thead th {\n",
       "        text-align: left;\n",
       "    }\n",
       "\n",
       "    .dataframe tbody tr th {\n",
       "        vertical-align: top;\n",
       "    }\n",
       "</style>\n",
       "<table border=\"1\" class=\"dataframe\">\n",
       "  <thead>\n",
       "    <tr style=\"text-align: right;\">\n",
       "      <th></th>\n",
       "      <th>TYPE</th>\n",
       "      <th>TITLE</th>\n",
       "      <th>SUBJECT</th>\n",
       "      <th>DESCRIPTION</th>\n",
       "      <th>RESULT</th>\n",
       "    </tr>\n",
       "  </thead>\n",
       "  <tbody>\n",
       "    <tr>\n",
       "      <th>0</th>\n",
       "      <td>CISS</td>\n",
       "      <td>PROPOSITION 051 - SCHOOL BONDS. FUNDING FOR K-...</td>\n",
       "      <td>Education</td>\n",
       "      <td>$9 billion in bonds for education and schools</td>\n",
       "      <td>APPROVED</td>\n",
       "    </tr>\n",
       "    <tr>\n",
       "      <th>1</th>\n",
       "      <td>CICA/SS</td>\n",
       "      <td>PROPOSITION 052 - STATE FEES ON HOSPITALS. FED...</td>\n",
       "      <td>Healthcare</td>\n",
       "      <td>Voter approval of changes to the hospital fee ...</td>\n",
       "      <td>APPROVED</td>\n",
       "    </tr>\n",
       "    <tr>\n",
       "      <th>3</th>\n",
       "      <td>CICA/SS</td>\n",
       "      <td>PROPOSITION 054 - LEGISLATURE. LEGISLATION AND...</td>\n",
       "      <td>Accountability</td>\n",
       "      <td>Conditions under which legislative bills can b...</td>\n",
       "      <td>APPROVED</td>\n",
       "    </tr>\n",
       "    <tr>\n",
       "      <th>4</th>\n",
       "      <td>CICA</td>\n",
       "      <td>PROPOSITION 055 - TAX EXTENSION TO FUND EDUCAT...</td>\n",
       "      <td>Taxes</td>\n",
       "      <td>Extension of personal income tax on incomes ov...</td>\n",
       "      <td>APPROVED</td>\n",
       "    </tr>\n",
       "    <tr>\n",
       "      <th>5</th>\n",
       "      <td>CICA</td>\n",
       "      <td>PROPOSITION 056 - CIGARETTE TAX TO FUND HEALTH...</td>\n",
       "      <td>Tobacco</td>\n",
       "      <td>Increase the cigarette tax by $2.00 per pack</td>\n",
       "      <td>APPROVED</td>\n",
       "    </tr>\n",
       "    <tr>\n",
       "      <th>6</th>\n",
       "      <td>CICA/SS</td>\n",
       "      <td>PROPOSITION 057 - CRIMINAL SENTENCES. JUVENILE...</td>\n",
       "      <td>Trials</td>\n",
       "      <td>Felons convicted of non-violent crimes and juv...</td>\n",
       "      <td>APPROVED</td>\n",
       "    </tr>\n",
       "    <tr>\n",
       "      <th>7</th>\n",
       "      <td>LRSS</td>\n",
       "      <td>PROPOSITION 058 - SB 1174 (CHAPTER 753, STATUT...</td>\n",
       "      <td>Education</td>\n",
       "      <td>Education Bilingual education in public schools</td>\n",
       "      <td>APPROVED</td>\n",
       "    </tr>\n",
       "    <tr>\n",
       "      <th>8</th>\n",
       "      <td>AQ</td>\n",
       "      <td>PROPOSITION 059- SB 254 (CHAPTER 20, STATUTES ...</td>\n",
       "      <td>Campaign finance</td>\n",
       "      <td>State's position on Citizens United v. Federal...</td>\n",
       "      <td>APPROVED</td>\n",
       "    </tr>\n",
       "    <tr>\n",
       "      <th>12</th>\n",
       "      <td>CISS</td>\n",
       "      <td>PROPOSITION 063- FIREARMS. AMMUNITION SALES. I...</td>\n",
       "      <td>Firearms</td>\n",
       "      <td>Background checks for ammunition purchases</td>\n",
       "      <td>APPROVED</td>\n",
       "    </tr>\n",
       "    <tr>\n",
       "      <th>13</th>\n",
       "      <td>CISS</td>\n",
       "      <td>PROPOSITION 064- MARIJUANA LEGALIZATION. INITI...</td>\n",
       "      <td>Marijuana</td>\n",
       "      <td>Legalization of marijuana and hemp</td>\n",
       "      <td>APPROVED</td>\n",
       "    </tr>\n",
       "    <tr>\n",
       "      <th>15</th>\n",
       "      <td>CISS</td>\n",
       "      <td>PROPOSITION 066- DEATH PENALTY. PROCEDURES. IN...</td>\n",
       "      <td>Death penalty</td>\n",
       "      <td>Death penalty procedures</td>\n",
       "      <td>APPROVED</td>\n",
       "    </tr>\n",
       "    <tr>\n",
       "      <th>16</th>\n",
       "      <td>VR</td>\n",
       "      <td>PROPOSITION 067- REFERENDUM TO OVERTURN BAN ON...</td>\n",
       "      <td>Business reg</td>\n",
       "      <td>Prohibition on plastic single-use carryout bags</td>\n",
       "      <td>APPROVED</td>\n",
       "    </tr>\n",
       "  </tbody>\n",
       "</table>\n",
       "</div>"
      ],
      "text/plain": [
       "       TYPE                                              TITLE  \\\n",
       "0      CISS  PROPOSITION 051 - SCHOOL BONDS. FUNDING FOR K-...   \n",
       "1   CICA/SS  PROPOSITION 052 - STATE FEES ON HOSPITALS. FED...   \n",
       "3   CICA/SS  PROPOSITION 054 - LEGISLATURE. LEGISLATION AND...   \n",
       "4      CICA  PROPOSITION 055 - TAX EXTENSION TO FUND EDUCAT...   \n",
       "5      CICA  PROPOSITION 056 - CIGARETTE TAX TO FUND HEALTH...   \n",
       "6   CICA/SS  PROPOSITION 057 - CRIMINAL SENTENCES. JUVENILE...   \n",
       "7      LRSS  PROPOSITION 058 - SB 1174 (CHAPTER 753, STATUT...   \n",
       "8        AQ  PROPOSITION 059- SB 254 (CHAPTER 20, STATUTES ...   \n",
       "12     CISS  PROPOSITION 063- FIREARMS. AMMUNITION SALES. I...   \n",
       "13     CISS  PROPOSITION 064- MARIJUANA LEGALIZATION. INITI...   \n",
       "15     CISS  PROPOSITION 066- DEATH PENALTY. PROCEDURES. IN...   \n",
       "16       VR  PROPOSITION 067- REFERENDUM TO OVERTURN BAN ON...   \n",
       "\n",
       "             SUBJECT                                        DESCRIPTION  \\\n",
       "0          Education      $9 billion in bonds for education and schools   \n",
       "1         Healthcare  Voter approval of changes to the hospital fee ...   \n",
       "3     Accountability  Conditions under which legislative bills can b...   \n",
       "4              Taxes  Extension of personal income tax on incomes ov...   \n",
       "5            Tobacco       Increase the cigarette tax by $2.00 per pack   \n",
       "6             Trials  Felons convicted of non-violent crimes and juv...   \n",
       "7          Education    Education Bilingual education in public schools   \n",
       "8   Campaign finance  State's position on Citizens United v. Federal...   \n",
       "12          Firearms         Background checks for ammunition purchases   \n",
       "13         Marijuana                 Legalization of marijuana and hemp   \n",
       "15     Death penalty                           Death penalty procedures   \n",
       "16      Business reg    Prohibition on plastic single-use carryout bags   \n",
       "\n",
       "      RESULT  \n",
       "0   APPROVED  \n",
       "1   APPROVED  \n",
       "3   APPROVED  \n",
       "4   APPROVED  \n",
       "5   APPROVED  \n",
       "6   APPROVED  \n",
       "7   APPROVED  \n",
       "8   APPROVED  \n",
       "12  APPROVED  \n",
       "13  APPROVED  \n",
       "15  APPROVED  \n",
       "16  APPROVED  "
      ]
     },
     "execution_count": 43,
     "metadata": {},
     "output_type": "execute_result"
    }
   ],
   "source": [
    "appr.head(15)"
   ]
  },
  {
   "cell_type": "code",
   "execution_count": null,
   "metadata": {
    "collapsed": true
   },
   "outputs": [],
   "source": []
  },
  {
   "cell_type": "code",
   "execution_count": null,
   "metadata": {
    "collapsed": true
   },
   "outputs": [],
   "source": []
  },
  {
   "cell_type": "code",
   "execution_count": 42,
   "metadata": {},
   "outputs": [
    {
     "data": {
      "text/html": [
       "<div>\n",
       "<style>\n",
       "    .dataframe thead tr:only-child th {\n",
       "        text-align: right;\n",
       "    }\n",
       "\n",
       "    .dataframe thead th {\n",
       "        text-align: left;\n",
       "    }\n",
       "\n",
       "    .dataframe tbody tr th {\n",
       "        vertical-align: top;\n",
       "    }\n",
       "</style>\n",
       "<table border=\"1\" class=\"dataframe\">\n",
       "  <thead>\n",
       "    <tr style=\"text-align: right;\">\n",
       "      <th></th>\n",
       "      <th>TYPE</th>\n",
       "      <th>TITLE</th>\n",
       "      <th>SUBJECT</th>\n",
       "      <th>DESCRIPTION</th>\n",
       "      <th>RESULT</th>\n",
       "    </tr>\n",
       "  </thead>\n",
       "  <tbody>\n",
       "    <tr>\n",
       "      <th>2</th>\n",
       "      <td>CICA</td>\n",
       "      <td>PROPOSITION 053 - REVENUE BONDS. STATEWIDE VOT...</td>\n",
       "      <td>Elections/Bonds</td>\n",
       "      <td>Projects that cost more than $2 billion</td>\n",
       "      <td>DEFEATED</td>\n",
       "    </tr>\n",
       "    <tr>\n",
       "      <th>9</th>\n",
       "      <td>CISS</td>\n",
       "      <td>PROPOSITION 060- ADULT FILMS. CONDOMS. HEALTH ...</td>\n",
       "      <td>Movies</td>\n",
       "      <td>Require the use of condoms in pornographic films</td>\n",
       "      <td>DEFEATED</td>\n",
       "    </tr>\n",
       "    <tr>\n",
       "      <th>10</th>\n",
       "      <td>CISS</td>\n",
       "      <td>PROPOSITION 061- STATE PRESCRIPTION DRUG PURCH...</td>\n",
       "      <td>Healthcare</td>\n",
       "      <td>Prescription drug price regulations</td>\n",
       "      <td>DEFEATED</td>\n",
       "    </tr>\n",
       "    <tr>\n",
       "      <th>11</th>\n",
       "      <td>CISS</td>\n",
       "      <td>PROPOSITION 062- DEATH PENALTY. INITIATIVE STA...</td>\n",
       "      <td>Death penalty</td>\n",
       "      <td>Repeal the death penalty</td>\n",
       "      <td>DEFEATED</td>\n",
       "    </tr>\n",
       "    <tr>\n",
       "      <th>14</th>\n",
       "      <td>CISS</td>\n",
       "      <td>PROPOSITION 065- CARRY-OUT BAGS. CHARGES. INIT...</td>\n",
       "      <td>Environment</td>\n",
       "      <td>Grocery and retail carry-out bags</td>\n",
       "      <td>DEFEATED</td>\n",
       "    </tr>\n",
       "  </tbody>\n",
       "</table>\n",
       "</div>"
      ],
      "text/plain": [
       "    TYPE                                              TITLE          SUBJECT  \\\n",
       "2   CICA  PROPOSITION 053 - REVENUE BONDS. STATEWIDE VOT...  Elections/Bonds   \n",
       "9   CISS  PROPOSITION 060- ADULT FILMS. CONDOMS. HEALTH ...           Movies   \n",
       "10  CISS  PROPOSITION 061- STATE PRESCRIPTION DRUG PURCH...       Healthcare   \n",
       "11  CISS  PROPOSITION 062- DEATH PENALTY. INITIATIVE STA...    Death penalty   \n",
       "14  CISS  PROPOSITION 065- CARRY-OUT BAGS. CHARGES. INIT...      Environment   \n",
       "\n",
       "                                         DESCRIPTION    RESULT  \n",
       "2            Projects that cost more than $2 billion  DEFEATED  \n",
       "9   Require the use of condoms in pornographic films  DEFEATED  \n",
       "10               Prescription drug price regulations  DEFEATED  \n",
       "11                          Repeal the death penalty  DEFEATED  \n",
       "14                 Grocery and retail carry-out bags  DEFEATED  "
      ]
     },
     "execution_count": 42,
     "metadata": {},
     "output_type": "execute_result"
    }
   ],
   "source": [
    "defeat.head(10)"
   ]
  },
  {
   "cell_type": "code",
   "execution_count": null,
   "metadata": {
    "collapsed": true
   },
   "outputs": [],
   "source": []
  },
  {
   "cell_type": "code",
   "execution_count": 29,
   "metadata": {
    "collapsed": true
   },
   "outputs": [],
   "source": [
    "propTIT51 = resultados[resultados.TITLE == 'PROPOSITION 051 - SCHOOL BONDS. FUNDING FOR K-12 SCHOOL AND COMMUNITY COLLEGE FACILITIES. INITIATIVE STATUTORY AMENDMENT.']"
   ]
  },
  {
   "cell_type": "code",
   "execution_count": 30,
   "metadata": {},
   "outputs": [
    {
     "data": {
      "text/html": [
       "<div>\n",
       "<style>\n",
       "    .dataframe thead tr:only-child th {\n",
       "        text-align: right;\n",
       "    }\n",
       "\n",
       "    .dataframe thead th {\n",
       "        text-align: left;\n",
       "    }\n",
       "\n",
       "    .dataframe tbody tr th {\n",
       "        vertical-align: top;\n",
       "    }\n",
       "</style>\n",
       "<table border=\"1\" class=\"dataframe\">\n",
       "  <thead>\n",
       "    <tr style=\"text-align: right;\">\n",
       "      <th></th>\n",
       "      <th>TYPE</th>\n",
       "      <th>TITLE</th>\n",
       "      <th>SUBJECT</th>\n",
       "      <th>DESCRIPTION</th>\n",
       "      <th>RESULT</th>\n",
       "    </tr>\n",
       "  </thead>\n",
       "  <tbody>\n",
       "    <tr>\n",
       "      <th>0</th>\n",
       "      <td>CISS</td>\n",
       "      <td>PROPOSITION 051 - SCHOOL BONDS. FUNDING FOR K-...</td>\n",
       "      <td>Education</td>\n",
       "      <td>$9 billion in bonds for education and schools</td>\n",
       "      <td>APPROVED</td>\n",
       "    </tr>\n",
       "  </tbody>\n",
       "</table>\n",
       "</div>"
      ],
      "text/plain": [
       "   TYPE                                              TITLE    SUBJECT  \\\n",
       "0  CISS  PROPOSITION 051 - SCHOOL BONDS. FUNDING FOR K-...  Education   \n",
       "\n",
       "                                     DESCRIPTION    RESULT  \n",
       "0  $9 billion in bonds for education and schools  APPROVED  "
      ]
     },
     "execution_count": 30,
     "metadata": {},
     "output_type": "execute_result"
    }
   ],
   "source": [
    "propTIT51.head()"
   ]
  },
  {
   "cell_type": "code",
   "execution_count": 32,
   "metadata": {
    "collapsed": true
   },
   "outputs": [],
   "source": [
    "propTIT52 = resultados[resultados.TITLE == 'PROPOSITION 052 - STATE FEES ON HOSPITALS. FEDERAL MEDI-CAL MATCHING FUNDS. INITIATIVE STATUTORY AND CONSTITUTIONAL AMENDMENT.']"
   ]
  },
  {
   "cell_type": "code",
   "execution_count": 33,
   "metadata": {},
   "outputs": [
    {
     "data": {
      "text/html": [
       "<div>\n",
       "<style>\n",
       "    .dataframe thead tr:only-child th {\n",
       "        text-align: right;\n",
       "    }\n",
       "\n",
       "    .dataframe thead th {\n",
       "        text-align: left;\n",
       "    }\n",
       "\n",
       "    .dataframe tbody tr th {\n",
       "        vertical-align: top;\n",
       "    }\n",
       "</style>\n",
       "<table border=\"1\" class=\"dataframe\">\n",
       "  <thead>\n",
       "    <tr style=\"text-align: right;\">\n",
       "      <th></th>\n",
       "      <th>TYPE</th>\n",
       "      <th>TITLE</th>\n",
       "      <th>SUBJECT</th>\n",
       "      <th>DESCRIPTION</th>\n",
       "      <th>RESULT</th>\n",
       "    </tr>\n",
       "  </thead>\n",
       "  <tbody>\n",
       "    <tr>\n",
       "      <th>1</th>\n",
       "      <td>CICA/SS</td>\n",
       "      <td>PROPOSITION 052 - STATE FEES ON HOSPITALS. FED...</td>\n",
       "      <td>Healthcare</td>\n",
       "      <td>Voter approval of changes to the hospital fee ...</td>\n",
       "      <td>APPROVED</td>\n",
       "    </tr>\n",
       "  </tbody>\n",
       "</table>\n",
       "</div>"
      ],
      "text/plain": [
       "      TYPE                                              TITLE     SUBJECT  \\\n",
       "1  CICA/SS  PROPOSITION 052 - STATE FEES ON HOSPITALS. FED...  Healthcare   \n",
       "\n",
       "                                         DESCRIPTION    RESULT  \n",
       "1  Voter approval of changes to the hospital fee ...  APPROVED  "
      ]
     },
     "execution_count": 33,
     "metadata": {},
     "output_type": "execute_result"
    }
   ],
   "source": [
    "propTIT52.head()"
   ]
  },
  {
   "cell_type": "code",
   "execution_count": 34,
   "metadata": {
    "collapsed": true
   },
   "outputs": [],
   "source": [
    "propTIT53 = resultados[resultados.TITLE == 'PROPOSITION 053 - REVENUE BONDS. STATEWIDE VOTER APPROVAL. INITIATIVE CONSTITUTIONAL AMENDMENT.']"
   ]
  },
  {
   "cell_type": "code",
   "execution_count": 35,
   "metadata": {},
   "outputs": [
    {
     "data": {
      "text/html": [
       "<div>\n",
       "<style>\n",
       "    .dataframe thead tr:only-child th {\n",
       "        text-align: right;\n",
       "    }\n",
       "\n",
       "    .dataframe thead th {\n",
       "        text-align: left;\n",
       "    }\n",
       "\n",
       "    .dataframe tbody tr th {\n",
       "        vertical-align: top;\n",
       "    }\n",
       "</style>\n",
       "<table border=\"1\" class=\"dataframe\">\n",
       "  <thead>\n",
       "    <tr style=\"text-align: right;\">\n",
       "      <th></th>\n",
       "      <th>TYPE</th>\n",
       "      <th>TITLE</th>\n",
       "      <th>SUBJECT</th>\n",
       "      <th>DESCRIPTION</th>\n",
       "      <th>RESULT</th>\n",
       "    </tr>\n",
       "  </thead>\n",
       "  <tbody>\n",
       "    <tr>\n",
       "      <th>2</th>\n",
       "      <td>CICA</td>\n",
       "      <td>PROPOSITION 053 - REVENUE BONDS. STATEWIDE VOT...</td>\n",
       "      <td>Elections/Bonds</td>\n",
       "      <td>Projects that cost more than $2 billion</td>\n",
       "      <td>DEFEATED</td>\n",
       "    </tr>\n",
       "  </tbody>\n",
       "</table>\n",
       "</div>"
      ],
      "text/plain": [
       "   TYPE                                              TITLE          SUBJECT  \\\n",
       "2  CICA  PROPOSITION 053 - REVENUE BONDS. STATEWIDE VOT...  Elections/Bonds   \n",
       "\n",
       "                               DESCRIPTION    RESULT  \n",
       "2  Projects that cost more than $2 billion  DEFEATED  "
      ]
     },
     "execution_count": 35,
     "metadata": {},
     "output_type": "execute_result"
    }
   ],
   "source": [
    "propTIT53.head()"
   ]
  },
  {
   "cell_type": "code",
   "execution_count": 36,
   "metadata": {
    "collapsed": true
   },
   "outputs": [],
   "source": [
    "propTIT64 = resultados[resultados.TITLE == 'PROPOSITION 064- MARIJUANA LEGALIZATION. INITIATIVE STATUTE.']"
   ]
  },
  {
   "cell_type": "code",
   "execution_count": 37,
   "metadata": {},
   "outputs": [
    {
     "data": {
      "text/html": [
       "<div>\n",
       "<style>\n",
       "    .dataframe thead tr:only-child th {\n",
       "        text-align: right;\n",
       "    }\n",
       "\n",
       "    .dataframe thead th {\n",
       "        text-align: left;\n",
       "    }\n",
       "\n",
       "    .dataframe tbody tr th {\n",
       "        vertical-align: top;\n",
       "    }\n",
       "</style>\n",
       "<table border=\"1\" class=\"dataframe\">\n",
       "  <thead>\n",
       "    <tr style=\"text-align: right;\">\n",
       "      <th></th>\n",
       "      <th>TYPE</th>\n",
       "      <th>TITLE</th>\n",
       "      <th>SUBJECT</th>\n",
       "      <th>DESCRIPTION</th>\n",
       "      <th>RESULT</th>\n",
       "    </tr>\n",
       "  </thead>\n",
       "  <tbody>\n",
       "    <tr>\n",
       "      <th>13</th>\n",
       "      <td>CISS</td>\n",
       "      <td>PROPOSITION 064- MARIJUANA LEGALIZATION. INITI...</td>\n",
       "      <td>Marijuana</td>\n",
       "      <td>Legalization of marijuana and hemp</td>\n",
       "      <td>APPROVED</td>\n",
       "    </tr>\n",
       "  </tbody>\n",
       "</table>\n",
       "</div>"
      ],
      "text/plain": [
       "    TYPE                                              TITLE    SUBJECT  \\\n",
       "13  CISS  PROPOSITION 064- MARIJUANA LEGALIZATION. INITI...  Marijuana   \n",
       "\n",
       "                           DESCRIPTION    RESULT  \n",
       "13  Legalization of marijuana and hemp  APPROVED  "
      ]
     },
     "execution_count": 37,
     "metadata": {},
     "output_type": "execute_result"
    }
   ],
   "source": [
    "propTIT64.head()"
   ]
  },
  {
   "cell_type": "code",
   "execution_count": 8,
   "metadata": {},
   "outputs": [
    {
     "data": {
      "text/html": [
       "<div>\n",
       "<style>\n",
       "    .dataframe thead tr:only-child th {\n",
       "        text-align: right;\n",
       "    }\n",
       "\n",
       "    .dataframe thead th {\n",
       "        text-align: left;\n",
       "    }\n",
       "\n",
       "    .dataframe tbody tr th {\n",
       "        vertical-align: top;\n",
       "    }\n",
       "</style>\n",
       "<table border=\"1\" class=\"dataframe\">\n",
       "  <thead>\n",
       "    <tr style=\"text-align: right;\">\n",
       "      <th></th>\n",
       "      <th>SUBJECT</th>\n",
       "      <th>0</th>\n",
       "    </tr>\n",
       "  </thead>\n",
       "  <tbody>\n",
       "    <tr>\n",
       "      <th>0</th>\n",
       "      <td>Accountability</td>\n",
       "      <td>1</td>\n",
       "    </tr>\n",
       "    <tr>\n",
       "      <th>1</th>\n",
       "      <td>Business reg</td>\n",
       "      <td>1</td>\n",
       "    </tr>\n",
       "    <tr>\n",
       "      <th>2</th>\n",
       "      <td>Campaign finance</td>\n",
       "      <td>1</td>\n",
       "    </tr>\n",
       "    <tr>\n",
       "      <th>3</th>\n",
       "      <td>Death penalty</td>\n",
       "      <td>2</td>\n",
       "    </tr>\n",
       "    <tr>\n",
       "      <th>4</th>\n",
       "      <td>Education</td>\n",
       "      <td>2</td>\n",
       "    </tr>\n",
       "    <tr>\n",
       "      <th>5</th>\n",
       "      <td>Elections/Bonds</td>\n",
       "      <td>1</td>\n",
       "    </tr>\n",
       "    <tr>\n",
       "      <th>6</th>\n",
       "      <td>Environment</td>\n",
       "      <td>1</td>\n",
       "    </tr>\n",
       "    <tr>\n",
       "      <th>7</th>\n",
       "      <td>Firearms</td>\n",
       "      <td>1</td>\n",
       "    </tr>\n",
       "    <tr>\n",
       "      <th>8</th>\n",
       "      <td>Healthcare</td>\n",
       "      <td>2</td>\n",
       "    </tr>\n",
       "    <tr>\n",
       "      <th>9</th>\n",
       "      <td>Marijuana</td>\n",
       "      <td>1</td>\n",
       "    </tr>\n",
       "    <tr>\n",
       "      <th>10</th>\n",
       "      <td>Movies</td>\n",
       "      <td>1</td>\n",
       "    </tr>\n",
       "    <tr>\n",
       "      <th>11</th>\n",
       "      <td>Taxes</td>\n",
       "      <td>1</td>\n",
       "    </tr>\n",
       "    <tr>\n",
       "      <th>12</th>\n",
       "      <td>Tobacco</td>\n",
       "      <td>1</td>\n",
       "    </tr>\n",
       "    <tr>\n",
       "      <th>13</th>\n",
       "      <td>Trials</td>\n",
       "      <td>1</td>\n",
       "    </tr>\n",
       "  </tbody>\n",
       "</table>\n",
       "</div>"
      ],
      "text/plain": [
       "             SUBJECT  0\n",
       "0     Accountability  1\n",
       "1       Business reg  1\n",
       "2   Campaign finance  1\n",
       "3      Death penalty  2\n",
       "4          Education  2\n",
       "5    Elections/Bonds  1\n",
       "6        Environment  1\n",
       "7           Firearms  1\n",
       "8         Healthcare  2\n",
       "9          Marijuana  1\n",
       "10            Movies  1\n",
       "11             Taxes  1\n",
       "12           Tobacco  1\n",
       "13            Trials  1"
      ]
     },
     "execution_count": 8,
     "metadata": {},
     "output_type": "execute_result"
    }
   ],
   "source": [
    "resultados.groupby(\"SUBJECT\").size().reset_index()"
   ]
  },
  {
   "cell_type": "code",
   "execution_count": 9,
   "metadata": {
    "collapsed": true
   },
   "outputs": [],
   "source": [
    "p51 = pd.read_csv(\"https://raw.githubusercontent.com/carlos-teles/w-min-dados/master/prop_51_contributions.csv\")"
   ]
  },
  {
   "cell_type": "code",
   "execution_count": 10,
   "metadata": {
    "collapsed": true
   },
   "outputs": [],
   "source": [
    "p52 = pd.read_csv(\"https://raw.githubusercontent.com/carlos-teles/w-min-dados/master/prop_52_contributions.csv\")"
   ]
  },
  {
   "cell_type": "code",
   "execution_count": 11,
   "metadata": {
    "collapsed": true
   },
   "outputs": [],
   "source": [
    "p53 = pd.read_csv(\"https://raw.githubusercontent.com/carlos-teles/w-min-dados/master/prop_53_contributions.csv\")"
   ]
  },
  {
   "cell_type": "code",
   "execution_count": 12,
   "metadata": {
    "collapsed": true
   },
   "outputs": [],
   "source": [
    "p64 = pd.read_csv(\"https://raw.githubusercontent.com/carlos-teles/w-min-dados/master/prop_64_contributions.csv\")"
   ]
  },
  {
   "cell_type": "code",
   "execution_count": 13,
   "metadata": {},
   "outputs": [
    {
     "name": "stdout",
     "output_type": "stream",
     "text": [
      "<class 'pandas.core.frame.DataFrame'>\n",
      "RangeIndex: 1073 entries, 0 to 1072\n",
      "Data columns (total 14 columns):\n",
      "FILING_ID             1073 non-null int64\n",
      "COMMITTEE_ID          1073 non-null int64\n",
      "COMMITTEE_NAME        1073 non-null object\n",
      "COMMITTEE_POSITION    1073 non-null object\n",
      "AMEND_ID              1073 non-null int64\n",
      "FIRST_NAME            56 non-null object\n",
      "LAST_NAME             1073 non-null object\n",
      "CITY                  1073 non-null object\n",
      "STATE                 1073 non-null object\n",
      "ZIPCODE               1073 non-null object\n",
      "EMPLOYER              61 non-null object\n",
      "OCCUPATION            62 non-null object\n",
      "DATE                  1073 non-null object\n",
      "AMOUNT                1073 non-null float64\n",
      "dtypes: float64(1), int64(3), object(10)\n",
      "memory usage: 117.4+ KB\n"
     ]
    }
   ],
   "source": [
    "p51.info()"
   ]
  },
  {
   "cell_type": "code",
   "execution_count": 15,
   "metadata": {},
   "outputs": [
    {
     "data": {
      "text/html": [
       "<div>\n",
       "<style>\n",
       "    .dataframe thead tr:only-child th {\n",
       "        text-align: right;\n",
       "    }\n",
       "\n",
       "    .dataframe thead th {\n",
       "        text-align: left;\n",
       "    }\n",
       "\n",
       "    .dataframe tbody tr th {\n",
       "        vertical-align: top;\n",
       "    }\n",
       "</style>\n",
       "<table border=\"1\" class=\"dataframe\">\n",
       "  <thead>\n",
       "    <tr style=\"text-align: right;\">\n",
       "      <th></th>\n",
       "      <th>index</th>\n",
       "      <th>COMMITTEE_NAME</th>\n",
       "    </tr>\n",
       "  </thead>\n",
       "  <tbody>\n",
       "    <tr>\n",
       "      <th>0</th>\n",
       "      <td>Yes on Proposition 51 - Californians for Quali...</td>\n",
       "      <td>866</td>\n",
       "    </tr>\n",
       "    <tr>\n",
       "      <th>1</th>\n",
       "      <td>Community College Facility Coalition Issues Co...</td>\n",
       "      <td>165</td>\n",
       "    </tr>\n",
       "    <tr>\n",
       "      <th>2</th>\n",
       "      <td>Torlakson's Invest in California a Ballot Meas...</td>\n",
       "      <td>42</td>\n",
       "    </tr>\n",
       "  </tbody>\n",
       "</table>\n",
       "</div>"
      ],
      "text/plain": [
       "                                               index  COMMITTEE_NAME\n",
       "0  Yes on Proposition 51 - Californians for Quali...             866\n",
       "1  Community College Facility Coalition Issues Co...             165\n",
       "2  Torlakson's Invest in California a Ballot Meas...              42"
      ]
     },
     "execution_count": 15,
     "metadata": {},
     "output_type": "execute_result"
    }
   ],
   "source": [
    "p51.COMMITTEE_NAME.value_counts().reset_index()"
   ]
  },
  {
   "cell_type": "code",
   "execution_count": 16,
   "metadata": {},
   "outputs": [
    {
     "data": {
      "text/html": [
       "<div>\n",
       "<style>\n",
       "    .dataframe thead tr:only-child th {\n",
       "        text-align: right;\n",
       "    }\n",
       "\n",
       "    .dataframe thead th {\n",
       "        text-align: left;\n",
       "    }\n",
       "\n",
       "    .dataframe tbody tr th {\n",
       "        vertical-align: top;\n",
       "    }\n",
       "</style>\n",
       "<table border=\"1\" class=\"dataframe\">\n",
       "  <thead>\n",
       "    <tr style=\"text-align: right;\">\n",
       "      <th></th>\n",
       "      <th>index</th>\n",
       "      <th>COMMITTEE_NAME</th>\n",
       "    </tr>\n",
       "  </thead>\n",
       "  <tbody>\n",
       "    <tr>\n",
       "      <th>0</th>\n",
       "      <td>Yes on Proposition 52 - A Coalition of Califor...</td>\n",
       "      <td>142</td>\n",
       "    </tr>\n",
       "    <tr>\n",
       "      <th>1</th>\n",
       "      <td>Californians for Hospital Accountability and Q...</td>\n",
       "      <td>3</td>\n",
       "    </tr>\n",
       "  </tbody>\n",
       "</table>\n",
       "</div>"
      ],
      "text/plain": [
       "                                               index  COMMITTEE_NAME\n",
       "0  Yes on Proposition 52 - A Coalition of Califor...             142\n",
       "1  Californians for Hospital Accountability and Q...               3"
      ]
     },
     "execution_count": 16,
     "metadata": {},
     "output_type": "execute_result"
    }
   ],
   "source": [
    "p52.COMMITTEE_NAME.value_counts().reset_index()"
   ]
  },
  {
   "cell_type": "code",
   "execution_count": 17,
   "metadata": {},
   "outputs": [
    {
     "data": {
      "text/html": [
       "<div>\n",
       "<style>\n",
       "    .dataframe thead tr:only-child th {\n",
       "        text-align: right;\n",
       "    }\n",
       "\n",
       "    .dataframe thead th {\n",
       "        text-align: left;\n",
       "    }\n",
       "\n",
       "    .dataframe tbody tr th {\n",
       "        vertical-align: top;\n",
       "    }\n",
       "</style>\n",
       "<table border=\"1\" class=\"dataframe\">\n",
       "  <thead>\n",
       "    <tr style=\"text-align: right;\">\n",
       "      <th></th>\n",
       "      <th>index</th>\n",
       "      <th>COMMITTEE_NAME</th>\n",
       "    </tr>\n",
       "  </thead>\n",
       "  <tbody>\n",
       "    <tr>\n",
       "      <th>0</th>\n",
       "      <td>No on Prop 53 - Californians to Protect Local ...</td>\n",
       "      <td>187</td>\n",
       "    </tr>\n",
       "    <tr>\n",
       "      <th>1</th>\n",
       "      <td>Yes on 53 - Stop Blank Checks</td>\n",
       "      <td>7</td>\n",
       "    </tr>\n",
       "    <tr>\n",
       "      <th>2</th>\n",
       "      <td>No on 53, Neighbors Defending Local Control</td>\n",
       "      <td>1</td>\n",
       "    </tr>\n",
       "  </tbody>\n",
       "</table>\n",
       "</div>"
      ],
      "text/plain": [
       "                                               index  COMMITTEE_NAME\n",
       "0  No on Prop 53 - Californians to Protect Local ...             187\n",
       "1                      Yes on 53 - Stop Blank Checks               7\n",
       "2        No on 53, Neighbors Defending Local Control               1"
      ]
     },
     "execution_count": 17,
     "metadata": {},
     "output_type": "execute_result"
    }
   ],
   "source": [
    "p53.COMMITTEE_NAME.value_counts().reset_index()"
   ]
  },
  {
   "cell_type": "code",
   "execution_count": 18,
   "metadata": {},
   "outputs": [
    {
     "data": {
      "text/html": [
       "<div>\n",
       "<style>\n",
       "    .dataframe thead tr:only-child th {\n",
       "        text-align: right;\n",
       "    }\n",
       "\n",
       "    .dataframe thead th {\n",
       "        text-align: left;\n",
       "    }\n",
       "\n",
       "    .dataframe tbody tr th {\n",
       "        vertical-align: top;\n",
       "    }\n",
       "</style>\n",
       "<table border=\"1\" class=\"dataframe\">\n",
       "  <thead>\n",
       "    <tr style=\"text-align: right;\">\n",
       "      <th></th>\n",
       "      <th>index</th>\n",
       "      <th>COMMITTEE_NAME</th>\n",
       "    </tr>\n",
       "  </thead>\n",
       "  <tbody>\n",
       "    <tr>\n",
       "      <th>0</th>\n",
       "      <td>Californians for Responsible Marijuana Reform,...</td>\n",
       "      <td>422</td>\n",
       "    </tr>\n",
       "    <tr>\n",
       "      <th>1</th>\n",
       "      <td>Yes on 64, Californians to Control, Regulate a...</td>\n",
       "      <td>250</td>\n",
       "    </tr>\n",
       "    <tr>\n",
       "      <th>2</th>\n",
       "      <td>No on Prop. 64, Sponsored by California Public...</td>\n",
       "      <td>88</td>\n",
       "    </tr>\n",
       "    <tr>\n",
       "      <th>3</th>\n",
       "      <td>Marijuana Policy Project of California</td>\n",
       "      <td>40</td>\n",
       "    </tr>\n",
       "    <tr>\n",
       "      <th>4</th>\n",
       "      <td>The Adult Use Campaign for Proposition 64</td>\n",
       "      <td>26</td>\n",
       "    </tr>\n",
       "    <tr>\n",
       "      <th>5</th>\n",
       "      <td>New Approach PAC (MPO)</td>\n",
       "      <td>9</td>\n",
       "    </tr>\n",
       "    <tr>\n",
       "      <th>6</th>\n",
       "      <td>Fund for Policy Reform (Nonprofit 501(C)(4))</td>\n",
       "      <td>8</td>\n",
       "    </tr>\n",
       "    <tr>\n",
       "      <th>7</th>\n",
       "      <td>Drug Policy Action - Non Profit 501c4, Yes on ...</td>\n",
       "      <td>7</td>\n",
       "    </tr>\n",
       "    <tr>\n",
       "      <th>8</th>\n",
       "      <td>Sam Action, Inc., a Committee Against Proposit...</td>\n",
       "      <td>6</td>\n",
       "    </tr>\n",
       "    <tr>\n",
       "      <th>9</th>\n",
       "      <td>Californians for Sensible Reform, Sponsored by...</td>\n",
       "      <td>2</td>\n",
       "    </tr>\n",
       "  </tbody>\n",
       "</table>\n",
       "</div>"
      ],
      "text/plain": [
       "                                               index  COMMITTEE_NAME\n",
       "0  Californians for Responsible Marijuana Reform,...             422\n",
       "1  Yes on 64, Californians to Control, Regulate a...             250\n",
       "2  No on Prop. 64, Sponsored by California Public...              88\n",
       "3             Marijuana Policy Project of California              40\n",
       "4          The Adult Use Campaign for Proposition 64              26\n",
       "5                             New Approach PAC (MPO)               9\n",
       "6       Fund for Policy Reform (Nonprofit 501(C)(4))               8\n",
       "7  Drug Policy Action - Non Profit 501c4, Yes on ...               7\n",
       "8  Sam Action, Inc., a Committee Against Proposit...               6\n",
       "9  Californians for Sensible Reform, Sponsored by...               2"
      ]
     },
     "execution_count": 18,
     "metadata": {},
     "output_type": "execute_result"
    }
   ],
   "source": [
    "p64.COMMITTEE_NAME.value_counts().reset_index()"
   ]
  },
  {
   "cell_type": "code",
   "execution_count": 39,
   "metadata": {},
   "outputs": [
    {
     "data": {
      "text/html": [
       "<div>\n",
       "<style>\n",
       "    .dataframe thead tr:only-child th {\n",
       "        text-align: right;\n",
       "    }\n",
       "\n",
       "    .dataframe thead th {\n",
       "        text-align: left;\n",
       "    }\n",
       "\n",
       "    .dataframe tbody tr th {\n",
       "        vertical-align: top;\n",
       "    }\n",
       "</style>\n",
       "<table border=\"1\" class=\"dataframe\">\n",
       "  <thead>\n",
       "    <tr style=\"text-align: right;\">\n",
       "      <th></th>\n",
       "      <th>COMMITTEE_NAME</th>\n",
       "      <th>FILING_ID</th>\n",
       "      <th>COMMITTEE_ID</th>\n",
       "      <th>AMEND_ID</th>\n",
       "      <th>AMOUNT</th>\n",
       "    </tr>\n",
       "  </thead>\n",
       "  <tbody>\n",
       "    <tr>\n",
       "      <th>0</th>\n",
       "      <td>Community College Facility Coalition Issues Co...</td>\n",
       "      <td>340770785</td>\n",
       "      <td>201362700</td>\n",
       "      <td>84</td>\n",
       "      <td>340637.21</td>\n",
       "    </tr>\n",
       "    <tr>\n",
       "      <th>1</th>\n",
       "      <td>Torlakson's Invest in California a Ballot Meas...</td>\n",
       "      <td>77429874</td>\n",
       "      <td>53857482</td>\n",
       "      <td>30</td>\n",
       "      <td>112500.00</td>\n",
       "    </tr>\n",
       "    <tr>\n",
       "      <th>2</th>\n",
       "      <td>Yes on Proposition 51 - Californians for Quali...</td>\n",
       "      <td>1791672525</td>\n",
       "      <td>1190290154</td>\n",
       "      <td>548</td>\n",
       "      <td>11880644.00</td>\n",
       "    </tr>\n",
       "  </tbody>\n",
       "</table>\n",
       "</div>"
      ],
      "text/plain": [
       "                                      COMMITTEE_NAME   FILING_ID  \\\n",
       "0  Community College Facility Coalition Issues Co...   340770785   \n",
       "1  Torlakson's Invest in California a Ballot Meas...    77429874   \n",
       "2  Yes on Proposition 51 - Californians for Quali...  1791672525   \n",
       "\n",
       "   COMMITTEE_ID  AMEND_ID       AMOUNT  \n",
       "0     201362700        84    340637.21  \n",
       "1      53857482        30    112500.00  \n",
       "2    1190290154       548  11880644.00  "
      ]
     },
     "execution_count": 39,
     "metadata": {},
     "output_type": "execute_result"
    }
   ],
   "source": [
    "p51.groupby(\"COMMITTEE_NAME\").sum().reset_index()"
   ]
  },
  {
   "cell_type": "code",
   "execution_count": 44,
   "metadata": {},
   "outputs": [
    {
     "data": {
      "text/html": [
       "<div>\n",
       "<style>\n",
       "    .dataframe thead tr:only-child th {\n",
       "        text-align: right;\n",
       "    }\n",
       "\n",
       "    .dataframe thead th {\n",
       "        text-align: left;\n",
       "    }\n",
       "\n",
       "    .dataframe tbody tr th {\n",
       "        vertical-align: top;\n",
       "    }\n",
       "</style>\n",
       "<table border=\"1\" class=\"dataframe\">\n",
       "  <thead>\n",
       "    <tr style=\"text-align: right;\">\n",
       "      <th></th>\n",
       "      <th>COMMITTEE_NAME</th>\n",
       "      <th>FILING_ID</th>\n",
       "      <th>COMMITTEE_ID</th>\n",
       "      <th>AMEND_ID</th>\n",
       "      <th>FIRST_NAME</th>\n",
       "      <th>EMPLOYER</th>\n",
       "      <th>OCCUPATION</th>\n",
       "      <th>AMOUNT</th>\n",
       "    </tr>\n",
       "  </thead>\n",
       "  <tbody>\n",
       "    <tr>\n",
       "      <th>0</th>\n",
       "      <td>Californians for Hospital Accountability and Q...</td>\n",
       "      <td>6171556</td>\n",
       "      <td>4144464</td>\n",
       "      <td>1</td>\n",
       "      <td>NaN</td>\n",
       "      <td>NaN</td>\n",
       "      <td>NaN</td>\n",
       "      <td>3526622.28</td>\n",
       "    </tr>\n",
       "    <tr>\n",
       "      <th>1</th>\n",
       "      <td>Yes on Proposition 52 - A Coalition of Califor...</td>\n",
       "      <td>264813390</td>\n",
       "      <td>193542166</td>\n",
       "      <td>210</td>\n",
       "      <td>NaN</td>\n",
       "      <td>NaN</td>\n",
       "      <td>NaN</td>\n",
       "      <td>59939023.70</td>\n",
       "    </tr>\n",
       "  </tbody>\n",
       "</table>\n",
       "</div>"
      ],
      "text/plain": [
       "                                      COMMITTEE_NAME  FILING_ID  COMMITTEE_ID  \\\n",
       "0  Californians for Hospital Accountability and Q...    6171556       4144464   \n",
       "1  Yes on Proposition 52 - A Coalition of Califor...  264813390     193542166   \n",
       "\n",
       "   AMEND_ID  FIRST_NAME  EMPLOYER  OCCUPATION       AMOUNT  \n",
       "0         1         NaN       NaN         NaN   3526622.28  \n",
       "1       210         NaN       NaN         NaN  59939023.70  "
      ]
     },
     "execution_count": 44,
     "metadata": {},
     "output_type": "execute_result"
    }
   ],
   "source": [
    "p52.groupby(\"COMMITTEE_NAME\").sum().reset_index()"
   ]
  },
  {
   "cell_type": "code",
   "execution_count": 45,
   "metadata": {},
   "outputs": [
    {
     "data": {
      "text/html": [
       "<div>\n",
       "<style>\n",
       "    .dataframe thead tr:only-child th {\n",
       "        text-align: right;\n",
       "    }\n",
       "\n",
       "    .dataframe thead th {\n",
       "        text-align: left;\n",
       "    }\n",
       "\n",
       "    .dataframe tbody tr th {\n",
       "        vertical-align: top;\n",
       "    }\n",
       "</style>\n",
       "<table border=\"1\" class=\"dataframe\">\n",
       "  <thead>\n",
       "    <tr style=\"text-align: right;\">\n",
       "      <th></th>\n",
       "      <th>COMMITTEE_NAME</th>\n",
       "      <th>FILING_ID</th>\n",
       "      <th>COMMITTEE_ID</th>\n",
       "      <th>AMEND_ID</th>\n",
       "      <th>ZIPCODE</th>\n",
       "      <th>AMOUNT</th>\n",
       "    </tr>\n",
       "  </thead>\n",
       "  <tbody>\n",
       "    <tr>\n",
       "      <th>0</th>\n",
       "      <td>No on 53, Neighbors Defending Local Control</td>\n",
       "      <td>2083513</td>\n",
       "      <td>1389930</td>\n",
       "      <td>0</td>\n",
       "      <td>95841</td>\n",
       "      <td>10000</td>\n",
       "    </tr>\n",
       "    <tr>\n",
       "      <th>1</th>\n",
       "      <td>No on Prop 53 - Californians to Protect Local ...</td>\n",
       "      <td>395191286</td>\n",
       "      <td>257849625</td>\n",
       "      <td>5</td>\n",
       "      <td>16274756</td>\n",
       "      <td>21290500</td>\n",
       "    </tr>\n",
       "    <tr>\n",
       "      <th>2</th>\n",
       "      <td>Yes on 53 - Stop Blank Checks</td>\n",
       "      <td>13996818</td>\n",
       "      <td>9632280</td>\n",
       "      <td>2</td>\n",
       "      <td>666484</td>\n",
       "      <td>3500000</td>\n",
       "    </tr>\n",
       "  </tbody>\n",
       "</table>\n",
       "</div>"
      ],
      "text/plain": [
       "                                      COMMITTEE_NAME  FILING_ID  COMMITTEE_ID  \\\n",
       "0        No on 53, Neighbors Defending Local Control    2083513       1389930   \n",
       "1  No on Prop 53 - Californians to Protect Local ...  395191286     257849625   \n",
       "2                      Yes on 53 - Stop Blank Checks   13996818       9632280   \n",
       "\n",
       "   AMEND_ID   ZIPCODE    AMOUNT  \n",
       "0         0     95841     10000  \n",
       "1         5  16274756  21290500  \n",
       "2         2    666484   3500000  "
      ]
     },
     "execution_count": 45,
     "metadata": {},
     "output_type": "execute_result"
    }
   ],
   "source": [
    "p53.groupby(\"COMMITTEE_NAME\").sum().reset_index()"
   ]
  },
  {
   "cell_type": "code",
   "execution_count": 46,
   "metadata": {},
   "outputs": [
    {
     "data": {
      "text/html": [
       "<div>\n",
       "<style>\n",
       "    .dataframe thead tr:only-child th {\n",
       "        text-align: right;\n",
       "    }\n",
       "\n",
       "    .dataframe thead th {\n",
       "        text-align: left;\n",
       "    }\n",
       "\n",
       "    .dataframe tbody tr th {\n",
       "        vertical-align: top;\n",
       "    }\n",
       "</style>\n",
       "<table border=\"1\" class=\"dataframe\">\n",
       "  <thead>\n",
       "    <tr style=\"text-align: right;\">\n",
       "      <th></th>\n",
       "      <th>COMMITTEE_NAME</th>\n",
       "      <th>FILING_ID</th>\n",
       "      <th>COMMITTEE_ID</th>\n",
       "      <th>AMEND_ID</th>\n",
       "      <th>AMOUNT</th>\n",
       "    </tr>\n",
       "  </thead>\n",
       "  <tbody>\n",
       "    <tr>\n",
       "      <th>0</th>\n",
       "      <td>Californians for Responsible Marijuana Reform,...</td>\n",
       "      <td>876902256</td>\n",
       "      <td>567080646</td>\n",
       "      <td>166</td>\n",
       "      <td>886445.51</td>\n",
       "    </tr>\n",
       "    <tr>\n",
       "      <th>1</th>\n",
       "      <td>Californians for Sensible Reform, Sponsored by...</td>\n",
       "      <td>4064871</td>\n",
       "      <td>2752154</td>\n",
       "      <td>0</td>\n",
       "      <td>850000.00</td>\n",
       "    </tr>\n",
       "    <tr>\n",
       "      <th>2</th>\n",
       "      <td>Drug Policy Action - Non Profit 501c4, Yes on ...</td>\n",
       "      <td>14507100</td>\n",
       "      <td>9698542</td>\n",
       "      <td>0</td>\n",
       "      <td>4470000.00</td>\n",
       "    </tr>\n",
       "    <tr>\n",
       "      <th>3</th>\n",
       "      <td>Fund for Policy Reform (Nonprofit 501(C)(4))</td>\n",
       "      <td>16665452</td>\n",
       "      <td>11085960</td>\n",
       "      <td>0</td>\n",
       "      <td>6140000.00</td>\n",
       "    </tr>\n",
       "    <tr>\n",
       "      <th>4</th>\n",
       "      <td>Marijuana Policy Project of California</td>\n",
       "      <td>82568267</td>\n",
       "      <td>54874200</td>\n",
       "      <td>12</td>\n",
       "      <td>739200.00</td>\n",
       "    </tr>\n",
       "    <tr>\n",
       "      <th>5</th>\n",
       "      <td>New Approach PAC (MPO)</td>\n",
       "      <td>18687891</td>\n",
       "      <td>12442725</td>\n",
       "      <td>0</td>\n",
       "      <td>3865000.00</td>\n",
       "    </tr>\n",
       "    <tr>\n",
       "      <th>6</th>\n",
       "      <td>No on Prop. 64, Sponsored by California Public...</td>\n",
       "      <td>183230413</td>\n",
       "      <td>121665984</td>\n",
       "      <td>105</td>\n",
       "      <td>1130930.00</td>\n",
       "    </tr>\n",
       "    <tr>\n",
       "      <th>7</th>\n",
       "      <td>Sam Action, Inc., a Committee Against Proposit...</td>\n",
       "      <td>12422904</td>\n",
       "      <td>8326734</td>\n",
       "      <td>4</td>\n",
       "      <td>1364000.00</td>\n",
       "    </tr>\n",
       "    <tr>\n",
       "      <th>8</th>\n",
       "      <td>The Adult Use Campaign for Proposition 64</td>\n",
       "      <td>54510796</td>\n",
       "      <td>36050560</td>\n",
       "      <td>0</td>\n",
       "      <td>17089.00</td>\n",
       "    </tr>\n",
       "    <tr>\n",
       "      <th>9</th>\n",
       "      <td>Yes on 64, Californians to Control, Regulate a...</td>\n",
       "      <td>521100259</td>\n",
       "      <td>345452000</td>\n",
       "      <td>289</td>\n",
       "      <td>15734047.00</td>\n",
       "    </tr>\n",
       "  </tbody>\n",
       "</table>\n",
       "</div>"
      ],
      "text/plain": [
       "                                      COMMITTEE_NAME  FILING_ID  COMMITTEE_ID  \\\n",
       "0  Californians for Responsible Marijuana Reform,...  876902256     567080646   \n",
       "1  Californians for Sensible Reform, Sponsored by...    4064871       2752154   \n",
       "2  Drug Policy Action - Non Profit 501c4, Yes on ...   14507100       9698542   \n",
       "3       Fund for Policy Reform (Nonprofit 501(C)(4))   16665452      11085960   \n",
       "4             Marijuana Policy Project of California   82568267      54874200   \n",
       "5                             New Approach PAC (MPO)   18687891      12442725   \n",
       "6  No on Prop. 64, Sponsored by California Public...  183230413     121665984   \n",
       "7  Sam Action, Inc., a Committee Against Proposit...   12422904       8326734   \n",
       "8          The Adult Use Campaign for Proposition 64   54510796      36050560   \n",
       "9  Yes on 64, Californians to Control, Regulate a...  521100259     345452000   \n",
       "\n",
       "   AMEND_ID       AMOUNT  \n",
       "0       166    886445.51  \n",
       "1         0    850000.00  \n",
       "2         0   4470000.00  \n",
       "3         0   6140000.00  \n",
       "4        12    739200.00  \n",
       "5         0   3865000.00  \n",
       "6       105   1130930.00  \n",
       "7         4   1364000.00  \n",
       "8         0     17089.00  \n",
       "9       289  15734047.00  "
      ]
     },
     "execution_count": 46,
     "metadata": {},
     "output_type": "execute_result"
    }
   ],
   "source": [
    "p64.groupby(\"COMMITTEE_NAME\").sum().reset_index()"
   ]
  },
  {
   "cell_type": "code",
   "execution_count": 54,
   "metadata": {},
   "outputs": [],
   "source": [
    "p51.drop(['FILING_ID','COMMITTEE_ID','AMEND_ID'], axis=1, inplace=True)"
   ]
  },
  {
   "cell_type": "code",
   "execution_count": 57,
   "metadata": {},
   "outputs": [
    {
     "data": {
      "text/plain": [
       "<matplotlib.axes._subplots.AxesSubplot at 0x7fad6fe698d0>"
      ]
     },
     "execution_count": 57,
     "metadata": {},
     "output_type": "execute_result"
    },
    {
     "data": {
      "image/png": "[encoded data removed]",
      "text/plain": [
       "<matplotlib.figure.Figure at 0x7fad6ff07710>"
      ]
     },
     "metadata": {},
     "output_type": "display_data"
    }
   ],
   "source": [
    "p51.groupby(\"COMMITTEE_NAME\").sum().plot.barh()"
   ]
  },
  {
   "cell_type": "code",
   "execution_count": 58,
   "metadata": {
    "collapsed": true
   },
   "outputs": [],
   "source": [
    "p52.drop(['FILING_ID','COMMITTEE_ID','AMEND_ID','FIRST_NAME','EMPLOYER','OCCUPATION'], axis=1, inplace=True)"
   ]
  },
  {
   "cell_type": "code",
   "execution_count": 59,
   "metadata": {},
   "outputs": [
    {
     "data": {
      "text/plain": [
       "<matplotlib.axes._subplots.AxesSubplot at 0x7fad6fc1b610>"
      ]
     },
     "execution_count": 59,
     "metadata": {},
     "output_type": "execute_result"
    },
    {
     "data": {
      "image/png": "[encoded data removed]",
      "text/plain": [
       "<matplotlib.figure.Figure at 0x7fad6fc39d50>"
      ]
     },
     "metadata": {},
     "output_type": "display_data"
    }
   ],
   "source": [
    "p52.groupby(\"COMMITTEE_NAME\").sum().plot.barh()"
   ]
  },
  {
   "cell_type": "code",
   "execution_count": 60,
   "metadata": {
    "collapsed": true
   },
   "outputs": [],
   "source": [
    "p53.drop(['FILING_ID','COMMITTEE_ID','AMEND_ID','ZIPCODE'], axis=1, inplace=True)"
   ]
  },
  {
   "cell_type": "code",
   "execution_count": 61,
   "metadata": {},
   "outputs": [
    {
     "data": {
      "text/plain": [
       "<matplotlib.axes._subplots.AxesSubplot at 0x7fad6f943850>"
      ]
     },
     "execution_count": 61,
     "metadata": {},
     "output_type": "execute_result"
    },
    {
     "data": {
      "image/png": "[encoded data removed]",
      "text/plain": [
       "<matplotlib.figure.Figure at 0x7fad6f7562d0>"
      ]
     },
     "metadata": {},
     "output_type": "display_data"
    }
   ],
   "source": [
    "p53.groupby(\"COMMITTEE_NAME\").sum().plot.barh()"
   ]
  },
  {
   "cell_type": "code",
   "execution_count": 65,
   "metadata": {
    "collapsed": true
   },
   "outputs": [],
   "source": [
    "p64.drop(['FILING_ID','COMMITTEE_ID','AMEND_ID'], axis=1, inplace=True)"
   ]
  },
  {
   "cell_type": "code",
   "execution_count": 67,
   "metadata": {},
   "outputs": [
    {
     "data": {
      "text/plain": [
       "<matplotlib.axes._subplots.AxesSubplot at 0x7fad6f3a9190>"
      ]
     },
     "execution_count": 67,
     "metadata": {},
     "output_type": "execute_result"
    },
    {
     "data": {
      "image/png": "[encoded data removed]",
      "text/plain": [
       "<matplotlib.figure.Figure at 0x7fad6f776590>"
      ]
     },
     "metadata": {},
     "output_type": "display_data"
    }
   ],
   "source": [
    "p64.groupby(\"COMMITTEE_NAME\").sum().plot.bar()"
   ]
  },
  {
   "cell_type": "code",
   "execution_count": 68,
   "metadata": {},
   "outputs": [
    {
     "name": "stdout",
     "output_type": "stream",
     "text": [
      "<class 'pandas.core.frame.DataFrame'>\n",
      "RangeIndex: 1073 entries, 0 to 1072\n",
      "Data columns (total 11 columns):\n",
      "COMMITTEE_NAME        1073 non-null object\n",
      "COMMITTEE_POSITION    1073 non-null object\n",
      "FIRST_NAME            56 non-null object\n",
      "LAST_NAME             1073 non-null object\n",
      "CITY                  1073 non-null object\n",
      "STATE                 1073 non-null object\n",
      "ZIPCODE               1073 non-null object\n",
      "EMPLOYER              61 non-null object\n",
      "OCCUPATION            62 non-null object\n",
      "DATE                  1073 non-null object\n",
      "AMOUNT                1073 non-null float64\n",
      "dtypes: float64(1), object(10)\n",
      "memory usage: 92.3+ KB\n"
     ]
    }
   ],
   "source": [
    "p51.info()"
   ]
  },
  {
   "cell_type": "code",
   "execution_count": 70,
   "metadata": {
    "collapsed": true
   },
   "outputs": [],
   "source": [
    "top_supporters51 = p51.groupby(\n",
    "    [\"FIRST_NAME\", \"LAST_NAME\"]\n",
    ").sum().reset_index().sort_values(\"AMOUNT\", ascending=False).head(10)"
   ]
  },
  {
   "cell_type": "code",
   "execution_count": 71,
   "metadata": {},
   "outputs": [
    {
     "data": {
      "text/html": [
       "<div>\n",
       "<style>\n",
       "    .dataframe thead tr:only-child th {\n",
       "        text-align: right;\n",
       "    }\n",
       "\n",
       "    .dataframe thead th {\n",
       "        text-align: left;\n",
       "    }\n",
       "\n",
       "    .dataframe tbody tr th {\n",
       "        vertical-align: top;\n",
       "    }\n",
       "</style>\n",
       "<table border=\"1\" class=\"dataframe\">\n",
       "  <thead>\n",
       "    <tr style=\"text-align: right;\">\n",
       "      <th></th>\n",
       "      <th>FIRST_NAME</th>\n",
       "      <th>LAST_NAME</th>\n",
       "      <th>AMOUNT</th>\n",
       "    </tr>\n",
       "  </thead>\n",
       "  <tbody>\n",
       "    <tr>\n",
       "      <th>53</th>\n",
       "      <td>Thomas P.</td>\n",
       "      <td>Winn</td>\n",
       "      <td>10000.0</td>\n",
       "    </tr>\n",
       "    <tr>\n",
       "      <th>34</th>\n",
       "      <td>Lenny T.</td>\n",
       "      <td>Mendonca</td>\n",
       "      <td>10000.0</td>\n",
       "    </tr>\n",
       "    <tr>\n",
       "      <th>0</th>\n",
       "      <td>Alexander H.</td>\n",
       "      <td>Murdoch</td>\n",
       "      <td>2500.0</td>\n",
       "    </tr>\n",
       "    <tr>\n",
       "      <th>7</th>\n",
       "      <td>Chester J.</td>\n",
       "      <td>Pipkin</td>\n",
       "      <td>2500.0</td>\n",
       "    </tr>\n",
       "    <tr>\n",
       "      <th>35</th>\n",
       "      <td>Lesley</td>\n",
       "      <td>Miles</td>\n",
       "      <td>1500.0</td>\n",
       "    </tr>\n",
       "    <tr>\n",
       "      <th>16</th>\n",
       "      <td>Diego</td>\n",
       "      <td>Barragan</td>\n",
       "      <td>1000.0</td>\n",
       "    </tr>\n",
       "    <tr>\n",
       "      <th>51</th>\n",
       "      <td>Ted</td>\n",
       "      <td>Rozzi</td>\n",
       "      <td>1000.0</td>\n",
       "    </tr>\n",
       "    <tr>\n",
       "      <th>50</th>\n",
       "      <td>Steven E.</td>\n",
       "      <td>LaMar</td>\n",
       "      <td>1000.0</td>\n",
       "    </tr>\n",
       "    <tr>\n",
       "      <th>48</th>\n",
       "      <td>Stan</td>\n",
       "      <td>Butts</td>\n",
       "      <td>1000.0</td>\n",
       "    </tr>\n",
       "    <tr>\n",
       "      <th>46</th>\n",
       "      <td>STEVE</td>\n",
       "      <td>RATCHYE</td>\n",
       "      <td>1000.0</td>\n",
       "    </tr>\n",
       "  </tbody>\n",
       "</table>\n",
       "</div>"
      ],
      "text/plain": [
       "      FIRST_NAME LAST_NAME   AMOUNT\n",
       "53     Thomas P.      Winn  10000.0\n",
       "34      Lenny T.  Mendonca  10000.0\n",
       "0   Alexander H.   Murdoch   2500.0\n",
       "7     Chester J.    Pipkin   2500.0\n",
       "35        Lesley     Miles   1500.0\n",
       "16         Diego  Barragan   1000.0\n",
       "51           Ted     Rozzi   1000.0\n",
       "50     Steven E.     LaMar   1000.0\n",
       "48          Stan     Butts   1000.0\n",
       "46         STEVE   RATCHYE   1000.0"
      ]
     },
     "execution_count": 71,
     "metadata": {},
     "output_type": "execute_result"
    }
   ],
   "source": [
    "top_supporters51.head(10)"
   ]
  },
  {
   "cell_type": "code",
   "execution_count": 73,
   "metadata": {},
   "outputs": [],
   "source": [
    "top_supporters52 = p52.groupby(\n",
    "    [\"LAST_NAME\"]\n",
    ").sum().reset_index().sort_values(\"AMOUNT\", ascending=False).head(10)"
   ]
  },
  {
   "cell_type": "code",
   "execution_count": 74,
   "metadata": {},
   "outputs": [
    {
     "data": {
      "text/html": [
       "<div>\n",
       "<style>\n",
       "    .dataframe thead tr:only-child th {\n",
       "        text-align: right;\n",
       "    }\n",
       "\n",
       "    .dataframe thead th {\n",
       "        text-align: left;\n",
       "    }\n",
       "\n",
       "    .dataframe tbody tr th {\n",
       "        vertical-align: top;\n",
       "    }\n",
       "</style>\n",
       "<table border=\"1\" class=\"dataframe\">\n",
       "  <thead>\n",
       "    <tr style=\"text-align: right;\">\n",
       "      <th></th>\n",
       "      <th>LAST_NAME</th>\n",
       "      <th>AMOUNT</th>\n",
       "    </tr>\n",
       "  </thead>\n",
       "  <tbody>\n",
       "    <tr>\n",
       "      <th>8</th>\n",
       "      <td>California Health Foundation and Trust</td>\n",
       "      <td>11501974.67</td>\n",
       "    </tr>\n",
       "    <tr>\n",
       "      <th>27</th>\n",
       "      <td>Dignity Health</td>\n",
       "      <td>8478390.00</td>\n",
       "    </tr>\n",
       "    <tr>\n",
       "      <th>78</th>\n",
       "      <td>Sutter Health</td>\n",
       "      <td>4160670.00</td>\n",
       "    </tr>\n",
       "    <tr>\n",
       "      <th>14</th>\n",
       "      <td>Childrens Hospital Los Angeles</td>\n",
       "      <td>3418305.00</td>\n",
       "    </tr>\n",
       "    <tr>\n",
       "      <th>74</th>\n",
       "      <td>Service Employees International Union - United...</td>\n",
       "      <td>3201622.28</td>\n",
       "    </tr>\n",
       "    <tr>\n",
       "      <th>1</th>\n",
       "      <td>Adventist Health</td>\n",
       "      <td>3020143.00</td>\n",
       "    </tr>\n",
       "    <tr>\n",
       "      <th>47</th>\n",
       "      <td>Loma Linda University Medical Center</td>\n",
       "      <td>2416560.00</td>\n",
       "    </tr>\n",
       "    <tr>\n",
       "      <th>11</th>\n",
       "      <td>Children's Hospital Central California</td>\n",
       "      <td>2013968.00</td>\n",
       "    </tr>\n",
       "    <tr>\n",
       "      <th>22</th>\n",
       "      <td>Community Medical Centers</td>\n",
       "      <td>1963985.00</td>\n",
       "    </tr>\n",
       "    <tr>\n",
       "      <th>53</th>\n",
       "      <td>Memorial Health Services - Memorial Care Healt...</td>\n",
       "      <td>1668562.00</td>\n",
       "    </tr>\n",
       "  </tbody>\n",
       "</table>\n",
       "</div>"
      ],
      "text/plain": [
       "                                            LAST_NAME       AMOUNT\n",
       "8              California Health Foundation and Trust  11501974.67\n",
       "27                                     Dignity Health   8478390.00\n",
       "78                                      Sutter Health   4160670.00\n",
       "14                     Childrens Hospital Los Angeles   3418305.00\n",
       "74  Service Employees International Union - United...   3201622.28\n",
       "1                                    Adventist Health   3020143.00\n",
       "47               Loma Linda University Medical Center   2416560.00\n",
       "11             Children's Hospital Central California   2013968.00\n",
       "22                          Community Medical Centers   1963985.00\n",
       "53  Memorial Health Services - Memorial Care Healt...   1668562.00"
      ]
     },
     "execution_count": 74,
     "metadata": {},
     "output_type": "execute_result"
    }
   ],
   "source": [
    "top_supporters52.head(10)"
   ]
  },
  {
   "cell_type": "code",
   "execution_count": 75,
   "metadata": {
    "collapsed": true
   },
   "outputs": [],
   "source": [
    "top_supporters53 = p53.groupby(\n",
    "    [\"FIRST_NAME\", \"LAST_NAME\"]\n",
    ").sum().reset_index().sort_values(\"AMOUNT\", ascending=False).head(10)"
   ]
  },
  {
   "cell_type": "code",
   "execution_count": 76,
   "metadata": {},
   "outputs": [
    {
     "data": {
      "text/html": [
       "<div>\n",
       "<style>\n",
       "    .dataframe thead tr:only-child th {\n",
       "        text-align: right;\n",
       "    }\n",
       "\n",
       "    .dataframe thead th {\n",
       "        text-align: left;\n",
       "    }\n",
       "\n",
       "    .dataframe tbody tr th {\n",
       "        vertical-align: top;\n",
       "    }\n",
       "</style>\n",
       "<table border=\"1\" class=\"dataframe\">\n",
       "  <thead>\n",
       "    <tr style=\"text-align: right;\">\n",
       "      <th></th>\n",
       "      <th>FIRST_NAME</th>\n",
       "      <th>LAST_NAME</th>\n",
       "      <th>AMOUNT</th>\n",
       "    </tr>\n",
       "  </thead>\n",
       "  <tbody>\n",
       "    <tr>\n",
       "      <th>3</th>\n",
       "      <td>DEAN A.</td>\n",
       "      <td>CORTOPASSI</td>\n",
       "      <td>2000000</td>\n",
       "    </tr>\n",
       "    <tr>\n",
       "      <th>17</th>\n",
       "      <td>JOAN</td>\n",
       "      <td>CORTOPASSI</td>\n",
       "      <td>1500000</td>\n",
       "    </tr>\n",
       "    <tr>\n",
       "      <th>24</th>\n",
       "      <td>L. John</td>\n",
       "      <td>Doerr, III</td>\n",
       "      <td>1000000</td>\n",
       "    </tr>\n",
       "    <tr>\n",
       "      <th>0</th>\n",
       "      <td>A. Jerrold</td>\n",
       "      <td>Perenchio and affiliated entities</td>\n",
       "      <td>500000</td>\n",
       "    </tr>\n",
       "    <tr>\n",
       "      <th>12</th>\n",
       "      <td>George M.</td>\n",
       "      <td>Marcus and Affiliated Entities</td>\n",
       "      <td>250000</td>\n",
       "    </tr>\n",
       "    <tr>\n",
       "      <th>9</th>\n",
       "      <td>Eric</td>\n",
       "      <td>Schmidt</td>\n",
       "      <td>200000</td>\n",
       "    </tr>\n",
       "    <tr>\n",
       "      <th>34</th>\n",
       "      <td>Thomas</td>\n",
       "      <td>Girardi</td>\n",
       "      <td>100000</td>\n",
       "    </tr>\n",
       "    <tr>\n",
       "      <th>1</th>\n",
       "      <td>Casey</td>\n",
       "      <td>Wasserman</td>\n",
       "      <td>100000</td>\n",
       "    </tr>\n",
       "    <tr>\n",
       "      <th>18</th>\n",
       "      <td>Jeffrey</td>\n",
       "      <td>Katzenberg</td>\n",
       "      <td>100000</td>\n",
       "    </tr>\n",
       "    <tr>\n",
       "      <th>25</th>\n",
       "      <td>Larry C.</td>\n",
       "      <td>Flynt</td>\n",
       "      <td>100000</td>\n",
       "    </tr>\n",
       "  </tbody>\n",
       "</table>\n",
       "</div>"
      ],
      "text/plain": [
       "    FIRST_NAME                          LAST_NAME   AMOUNT\n",
       "3      DEAN A.                         CORTOPASSI  2000000\n",
       "17        JOAN                         CORTOPASSI  1500000\n",
       "24     L. John                         Doerr, III  1000000\n",
       "0   A. Jerrold  Perenchio and affiliated entities   500000\n",
       "12   George M.     Marcus and Affiliated Entities   250000\n",
       "9         Eric                            Schmidt   200000\n",
       "34      Thomas                            Girardi   100000\n",
       "1        Casey                          Wasserman   100000\n",
       "18     Jeffrey                         Katzenberg   100000\n",
       "25    Larry C.                              Flynt   100000"
      ]
     },
     "execution_count": 76,
     "metadata": {},
     "output_type": "execute_result"
    }
   ],
   "source": [
    "top_supporters53.head(10)"
   ]
  },
  {
   "cell_type": "code",
   "execution_count": 77,
   "metadata": {
    "collapsed": true
   },
   "outputs": [],
   "source": [
    "top_supporters64 = p64.groupby(\n",
    "    [\"FIRST_NAME\", \"LAST_NAME\"]\n",
    ").sum().reset_index().sort_values(\"AMOUNT\", ascending=False).head(10)"
   ]
  },
  {
   "cell_type": "code",
   "execution_count": 78,
   "metadata": {},
   "outputs": [
    {
     "data": {
      "text/html": [
       "<div>\n",
       "<style>\n",
       "    .dataframe thead tr:only-child th {\n",
       "        text-align: right;\n",
       "    }\n",
       "\n",
       "    .dataframe thead th {\n",
       "        text-align: left;\n",
       "    }\n",
       "\n",
       "    .dataframe tbody tr th {\n",
       "        vertical-align: top;\n",
       "    }\n",
       "</style>\n",
       "<table border=\"1\" class=\"dataframe\">\n",
       "  <thead>\n",
       "    <tr style=\"text-align: right;\">\n",
       "      <th></th>\n",
       "      <th>FIRST_NAME</th>\n",
       "      <th>LAST_NAME</th>\n",
       "      <th>AMOUNT</th>\n",
       "    </tr>\n",
       "  </thead>\n",
       "  <tbody>\n",
       "    <tr>\n",
       "      <th>478</th>\n",
       "      <td>Sean</td>\n",
       "      <td>Parker and affiliated entities</td>\n",
       "      <td>7250000.0</td>\n",
       "    </tr>\n",
       "    <tr>\n",
       "      <th>477</th>\n",
       "      <td>Sean</td>\n",
       "      <td>Parker</td>\n",
       "      <td>1500000.0</td>\n",
       "    </tr>\n",
       "    <tr>\n",
       "      <th>277</th>\n",
       "      <td>Julie</td>\n",
       "      <td>Schauer</td>\n",
       "      <td>1364000.0</td>\n",
       "    </tr>\n",
       "    <tr>\n",
       "      <th>108</th>\n",
       "      <td>Daniel</td>\n",
       "      <td>Lewis</td>\n",
       "      <td>1250000.0</td>\n",
       "    </tr>\n",
       "    <tr>\n",
       "      <th>192</th>\n",
       "      <td>Henry</td>\n",
       "      <td>van Ameringen</td>\n",
       "      <td>1000000.0</td>\n",
       "    </tr>\n",
       "    <tr>\n",
       "      <th>401</th>\n",
       "      <td>Nicholas</td>\n",
       "      <td>Pritzker</td>\n",
       "      <td>900000.0</td>\n",
       "    </tr>\n",
       "    <tr>\n",
       "      <th>417</th>\n",
       "      <td>Peter</td>\n",
       "      <td>Thiel</td>\n",
       "      <td>300000.0</td>\n",
       "    </tr>\n",
       "    <tr>\n",
       "      <th>452</th>\n",
       "      <td>Roger</td>\n",
       "      <td>Jenkins</td>\n",
       "      <td>75000.0</td>\n",
       "    </tr>\n",
       "    <tr>\n",
       "      <th>23</th>\n",
       "      <td>Angela</td>\n",
       "      <td>Howard</td>\n",
       "      <td>65000.0</td>\n",
       "    </tr>\n",
       "    <tr>\n",
       "      <th>318</th>\n",
       "      <td>Lawrence</td>\n",
       "      <td>Hess</td>\n",
       "      <td>30000.0</td>\n",
       "    </tr>\n",
       "  </tbody>\n",
       "</table>\n",
       "</div>"
      ],
      "text/plain": [
       "    FIRST_NAME                       LAST_NAME     AMOUNT\n",
       "478       Sean  Parker and affiliated entities  7250000.0\n",
       "477       Sean                          Parker  1500000.0\n",
       "277      Julie                         Schauer  1364000.0\n",
       "108     Daniel                           Lewis  1250000.0\n",
       "192      Henry                   van Ameringen  1000000.0\n",
       "401   Nicholas                        Pritzker   900000.0\n",
       "417      Peter                           Thiel   300000.0\n",
       "452      Roger                         Jenkins    75000.0\n",
       "23      Angela                          Howard    65000.0\n",
       "318   Lawrence                            Hess    30000.0"
      ]
     },
     "execution_count": 78,
     "metadata": {},
     "output_type": "execute_result"
    }
   ],
   "source": [
    "top_supporters64.head(10)"
   ]
  },
  {
   "cell_type": "code",
   "execution_count": null,
   "metadata": {
    "collapsed": true
   },
   "outputs": [],
   "source": []
  },
  {
   "cell_type": "code",
   "execution_count": null,
   "metadata": {
    "collapsed": true
   },
   "outputs": [],
   "source": []
  },
  {
   "cell_type": "code",
   "execution_count": null,
   "metadata": {
    "collapsed": true
   },
   "outputs": [],
   "source": []
  },
  {
   "cell_type": "code",
   "execution_count": null,
   "metadata": {
    "collapsed": true
   },
   "outputs": [],
   "source": []
  },
  {
   "cell_type": "markdown",
   "metadata": {},
   "source": []
  },
  {
   "cell_type": "code",
   "execution_count": null,
   "metadata": {
    "collapsed": true
   },
   "outputs": [],
   "source": []
  },
  {
   "cell_type": "code",
   "execution_count": null,
   "metadata": {
    "collapsed": true
   },
   "outputs": [],
   "source": []
  },
  {
   "cell_type": "code",
   "execution_count": null,
   "metadata": {
    "collapsed": true
   },
   "outputs": [],
   "source": []
  },
  {
   "cell_type": "code",
   "execution_count": null,
   "metadata": {
    "collapsed": true
   },
   "outputs": [],
   "source": []
  },
  {
   "cell_type": "code",
   "execution_count": null,
   "metadata": {
    "collapsed": true
   },
   "outputs": [],
   "source": []
  },
  {
   "cell_type": "code",
   "execution_count": null,
   "metadata": {
    "collapsed": true
   },
   "outputs": [],
   "source": []
  },
  {
   "cell_type": "code",
   "execution_count": null,
   "metadata": {
    "collapsed": true
   },
   "outputs": [],
   "source": []
  },
  {
   "cell_type": "code",
   "execution_count": null,
   "metadata": {
    "collapsed": true
   },
   "outputs": [],
   "source": []
  },
  {
   "cell_type": "code",
   "execution_count": null,
   "metadata": {
    "collapsed": true
   },
   "outputs": [],
   "source": []
  },
  {
   "cell_type": "code",
   "execution_count": null,
   "metadata": {
    "collapsed": true
   },
   "outputs": [],
   "source": []
  }
 ],
 "metadata": {
  "kernelspec": {
   "display_name": "Python 2",
   "language": "python",
   "name": "python2"
  },
  "language_info": {
   "codemirror_mode": {
    "name": "ipython",
    "version": 2
   },
   "file_extension": ".py",
   "mimetype": "text/x-python",
   "name": "python",
   "nbconvert_exporter": "python",
   "pygments_lexer": "ipython2",
   "version": "2.7.12"
  }
 },
 "nbformat": 4,
 "nbformat_minor": 2
}
