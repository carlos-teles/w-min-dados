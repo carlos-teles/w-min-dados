{
 "cells": [
  {
   "cell_type": "code",
   "execution_count": 2,
   "metadata": {
    "collapsed": true
   },
   "outputs": [],
   "source": [
    "import os\n",
    "import subprocess\n",
    "import sys\n",
    "import pandas as pd\n",
    "import numpy as np\n",
    "from sklearn.tree import DecisionTreeClassifier, export_graphviz\n",
    "from sklearn.model_selection import train_test_split\n",
    "from sklearn.metrics import accuracy_score\n",
    "from sklearn.metrics import confusion_matrix\n",
    "from sklearn.metrics import classification_report\n",
    "from sklearn.preprocessing import LabelEncoder\n",
    "from sklearn.preprocessing import OneHotEncoder\n",
    "import matplotlib.pyplot as plt\n",
    "\n",
    "%matplotlib inline"
   ]
  },
  {
   "cell_type": "code",
   "execution_count": 3,
   "metadata": {
    "collapsed": true
   },
   "outputs": [],
   "source": [
    "def define_pjpf( row ):\n",
    "        if row['FIRST_NAME'] == 'PJ':\n",
    "                return 'PJ'\n",
    "        else:\n",
    "                return 'PF'"
   ]
  },
  {
   "cell_type": "code",
   "execution_count": 4,
   "metadata": {
    "collapsed": true
   },
   "outputs": [],
   "source": [
    "resultados = pd.read_csv(\"resultados.csv\")"
   ]
  },
  {
   "cell_type": "code",
   "execution_count": 5,
   "metadata": {},
   "outputs": [
    {
     "name": "stdout",
     "output_type": "stream",
     "text": [
      "<class 'pandas.core.frame.DataFrame'>\n",
      "RangeIndex: 17 entries, 0 to 16\n",
      "Data columns (total 6 columns):\n",
      "TYPE              17 non-null object\n",
      "TITLE             17 non-null object\n",
      "SUBJECT           17 non-null object\n",
      "DESCRIPTION       17 non-null object\n",
      "RESULT            17 non-null object\n",
      "ID_PROPOSITION    17 non-null int64\n",
      "dtypes: int64(1), object(5)\n",
      "memory usage: 888.0+ bytes\n"
     ]
    }
   ],
   "source": [
    "resultados.info()"
   ]
  },
  {
   "cell_type": "code",
   "execution_count": 6,
   "metadata": {
    "collapsed": true
   },
   "outputs": [],
   "source": [
    "appr = resultados[resultados.RESULT == 'APPROVED']"
   ]
  },
  {
   "cell_type": "code",
   "execution_count": 7,
   "metadata": {
    "collapsed": true
   },
   "outputs": [],
   "source": [
    "defeat = resultados[resultados.RESULT == 'DEFEATED']"
   ]
  },
  {
   "cell_type": "code",
   "execution_count": 8,
   "metadata": {},
   "outputs": [
    {
     "data": {
      "text/html": [
       "<div>\n",
       "<style>\n",
       "    .dataframe thead tr:only-child th {\n",
       "        text-align: right;\n",
       "    }\n",
       "\n",
       "    .dataframe thead th {\n",
       "        text-align: left;\n",
       "    }\n",
       "\n",
       "    .dataframe tbody tr th {\n",
       "        vertical-align: top;\n",
       "    }\n",
       "</style>\n",
       "<table border=\"1\" class=\"dataframe\">\n",
       "  <thead>\n",
       "    <tr style=\"text-align: right;\">\n",
       "      <th></th>\n",
       "      <th>TYPE</th>\n",
       "      <th>TITLE</th>\n",
       "      <th>SUBJECT</th>\n",
       "      <th>DESCRIPTION</th>\n",
       "      <th>RESULT</th>\n",
       "      <th>ID_PROPOSITION</th>\n",
       "    </tr>\n",
       "  </thead>\n",
       "  <tbody>\n",
       "    <tr>\n",
       "      <th>0</th>\n",
       "      <td>CISS</td>\n",
       "      <td>PROPOSITION 051 - SCHOOL BONDS. FUNDING FOR K-...</td>\n",
       "      <td>Education</td>\n",
       "      <td>$9 billion in bonds for education and schools</td>\n",
       "      <td>APPROVED</td>\n",
       "      <td>51</td>\n",
       "    </tr>\n",
       "    <tr>\n",
       "      <th>1</th>\n",
       "      <td>CICA/SS</td>\n",
       "      <td>PROPOSITION 052 - STATE FEES ON HOSPITALS. FED...</td>\n",
       "      <td>Healthcare</td>\n",
       "      <td>Voter approval of changes to the hospital fee ...</td>\n",
       "      <td>APPROVED</td>\n",
       "      <td>52</td>\n",
       "    </tr>\n",
       "    <tr>\n",
       "      <th>3</th>\n",
       "      <td>CICA/SS</td>\n",
       "      <td>PROPOSITION 054 - LEGISLATURE. LEGISLATION AND...</td>\n",
       "      <td>Accountability</td>\n",
       "      <td>Conditions under which legislative bills can b...</td>\n",
       "      <td>APPROVED</td>\n",
       "      <td>54</td>\n",
       "    </tr>\n",
       "    <tr>\n",
       "      <th>4</th>\n",
       "      <td>CICA</td>\n",
       "      <td>PROPOSITION 055 - TAX EXTENSION TO FUND EDUCAT...</td>\n",
       "      <td>Taxes</td>\n",
       "      <td>Extension of personal income tax on incomes ov...</td>\n",
       "      <td>APPROVED</td>\n",
       "      <td>55</td>\n",
       "    </tr>\n",
       "    <tr>\n",
       "      <th>5</th>\n",
       "      <td>CICA</td>\n",
       "      <td>PROPOSITION 056 - CIGARETTE TAX TO FUND HEALTH...</td>\n",
       "      <td>Tobacco</td>\n",
       "      <td>Increase the cigarette tax by $2.00 per pack</td>\n",
       "      <td>APPROVED</td>\n",
       "      <td>56</td>\n",
       "    </tr>\n",
       "    <tr>\n",
       "      <th>6</th>\n",
       "      <td>CICA/SS</td>\n",
       "      <td>PROPOSITION 057 - CRIMINAL SENTENCES. JUVENILE...</td>\n",
       "      <td>Trials</td>\n",
       "      <td>Felons convicted of non-violent crimes and juv...</td>\n",
       "      <td>APPROVED</td>\n",
       "      <td>57</td>\n",
       "    </tr>\n",
       "    <tr>\n",
       "      <th>7</th>\n",
       "      <td>LRSS</td>\n",
       "      <td>PROPOSITION 058 - SB 1174 (CHAPTER 753, STATUT...</td>\n",
       "      <td>Education</td>\n",
       "      <td>Education Bilingual education in public schools</td>\n",
       "      <td>APPROVED</td>\n",
       "      <td>58</td>\n",
       "    </tr>\n",
       "    <tr>\n",
       "      <th>8</th>\n",
       "      <td>AQ</td>\n",
       "      <td>PROPOSITION 059- SB 254 (CHAPTER 20, STATUTES ...</td>\n",
       "      <td>Campaign finance</td>\n",
       "      <td>State's position on Citizens United v. Federal...</td>\n",
       "      <td>APPROVED</td>\n",
       "      <td>59</td>\n",
       "    </tr>\n",
       "    <tr>\n",
       "      <th>12</th>\n",
       "      <td>CISS</td>\n",
       "      <td>PROPOSITION 063- FIREARMS. AMMUNITION SALES. I...</td>\n",
       "      <td>Firearms</td>\n",
       "      <td>Background checks for ammunition purchases</td>\n",
       "      <td>APPROVED</td>\n",
       "      <td>63</td>\n",
       "    </tr>\n",
       "    <tr>\n",
       "      <th>13</th>\n",
       "      <td>CISS</td>\n",
       "      <td>PROPOSITION 064- MARIJUANA LEGALIZATION. INITI...</td>\n",
       "      <td>Marijuana</td>\n",
       "      <td>Legalization of marijuana and hemp</td>\n",
       "      <td>APPROVED</td>\n",
       "      <td>64</td>\n",
       "    </tr>\n",
       "    <tr>\n",
       "      <th>15</th>\n",
       "      <td>CISS</td>\n",
       "      <td>PROPOSITION 066- DEATH PENALTY. PROCEDURES. IN...</td>\n",
       "      <td>Death penalty</td>\n",
       "      <td>Death penalty procedures</td>\n",
       "      <td>APPROVED</td>\n",
       "      <td>66</td>\n",
       "    </tr>\n",
       "    <tr>\n",
       "      <th>16</th>\n",
       "      <td>VR</td>\n",
       "      <td>PROPOSITION 067- REFERENDUM TO OVERTURN BAN ON...</td>\n",
       "      <td>Business reg</td>\n",
       "      <td>Prohibition on plastic single-use carryout bags</td>\n",
       "      <td>APPROVED</td>\n",
       "      <td>67</td>\n",
       "    </tr>\n",
       "  </tbody>\n",
       "</table>\n",
       "</div>"
      ],
      "text/plain": [
       "       TYPE                                              TITLE  \\\n",
       "0      CISS  PROPOSITION 051 - SCHOOL BONDS. FUNDING FOR K-...   \n",
       "1   CICA/SS  PROPOSITION 052 - STATE FEES ON HOSPITALS. FED...   \n",
       "3   CICA/SS  PROPOSITION 054 - LEGISLATURE. LEGISLATION AND...   \n",
       "4      CICA  PROPOSITION 055 - TAX EXTENSION TO FUND EDUCAT...   \n",
       "5      CICA  PROPOSITION 056 - CIGARETTE TAX TO FUND HEALTH...   \n",
       "6   CICA/SS  PROPOSITION 057 - CRIMINAL SENTENCES. JUVENILE...   \n",
       "7      LRSS  PROPOSITION 058 - SB 1174 (CHAPTER 753, STATUT...   \n",
       "8        AQ  PROPOSITION 059- SB 254 (CHAPTER 20, STATUTES ...   \n",
       "12     CISS  PROPOSITION 063- FIREARMS. AMMUNITION SALES. I...   \n",
       "13     CISS  PROPOSITION 064- MARIJUANA LEGALIZATION. INITI...   \n",
       "15     CISS  PROPOSITION 066- DEATH PENALTY. PROCEDURES. IN...   \n",
       "16       VR  PROPOSITION 067- REFERENDUM TO OVERTURN BAN ON...   \n",
       "\n",
       "             SUBJECT                                        DESCRIPTION  \\\n",
       "0          Education      $9 billion in bonds for education and schools   \n",
       "1         Healthcare  Voter approval of changes to the hospital fee ...   \n",
       "3     Accountability  Conditions under which legislative bills can b...   \n",
       "4              Taxes  Extension of personal income tax on incomes ov...   \n",
       "5            Tobacco       Increase the cigarette tax by $2.00 per pack   \n",
       "6             Trials  Felons convicted of non-violent crimes and juv...   \n",
       "7          Education    Education Bilingual education in public schools   \n",
       "8   Campaign finance  State's position on Citizens United v. Federal...   \n",
       "12          Firearms         Background checks for ammunition purchases   \n",
       "13         Marijuana                 Legalization of marijuana and hemp   \n",
       "15     Death penalty                           Death penalty procedures   \n",
       "16      Business reg    Prohibition on plastic single-use carryout bags   \n",
       "\n",
       "      RESULT  ID_PROPOSITION  \n",
       "0   APPROVED              51  \n",
       "1   APPROVED              52  \n",
       "3   APPROVED              54  \n",
       "4   APPROVED              55  \n",
       "5   APPROVED              56  \n",
       "6   APPROVED              57  \n",
       "7   APPROVED              58  \n",
       "8   APPROVED              59  \n",
       "12  APPROVED              63  \n",
       "13  APPROVED              64  \n",
       "15  APPROVED              66  \n",
       "16  APPROVED              67  "
      ]
     },
     "execution_count": 8,
     "metadata": {},
     "output_type": "execute_result"
    }
   ],
   "source": [
    "appr.head(15)"
   ]
  },
  {
   "cell_type": "code",
   "execution_count": 9,
   "metadata": {},
   "outputs": [
    {
     "data": {
      "text/html": [
       "<div>\n",
       "<style>\n",
       "    .dataframe thead tr:only-child th {\n",
       "        text-align: right;\n",
       "    }\n",
       "\n",
       "    .dataframe thead th {\n",
       "        text-align: left;\n",
       "    }\n",
       "\n",
       "    .dataframe tbody tr th {\n",
       "        vertical-align: top;\n",
       "    }\n",
       "</style>\n",
       "<table border=\"1\" class=\"dataframe\">\n",
       "  <thead>\n",
       "    <tr style=\"text-align: right;\">\n",
       "      <th></th>\n",
       "      <th>TYPE</th>\n",
       "      <th>TITLE</th>\n",
       "      <th>SUBJECT</th>\n",
       "      <th>DESCRIPTION</th>\n",
       "      <th>RESULT</th>\n",
       "      <th>ID_PROPOSITION</th>\n",
       "    </tr>\n",
       "  </thead>\n",
       "  <tbody>\n",
       "    <tr>\n",
       "      <th>2</th>\n",
       "      <td>CICA</td>\n",
       "      <td>PROPOSITION 053 - REVENUE BONDS. STATEWIDE VOT...</td>\n",
       "      <td>Elections/Bonds</td>\n",
       "      <td>Projects that cost more than $2 billion</td>\n",
       "      <td>DEFEATED</td>\n",
       "      <td>53</td>\n",
       "    </tr>\n",
       "    <tr>\n",
       "      <th>9</th>\n",
       "      <td>CISS</td>\n",
       "      <td>PROPOSITION 060- ADULT FILMS. CONDOMS. HEALTH ...</td>\n",
       "      <td>Movies</td>\n",
       "      <td>Require the use of condoms in pornographic films</td>\n",
       "      <td>DEFEATED</td>\n",
       "      <td>60</td>\n",
       "    </tr>\n",
       "    <tr>\n",
       "      <th>10</th>\n",
       "      <td>CISS</td>\n",
       "      <td>PROPOSITION 061- STATE PRESCRIPTION DRUG PURCH...</td>\n",
       "      <td>Healthcare</td>\n",
       "      <td>Prescription drug price regulations</td>\n",
       "      <td>DEFEATED</td>\n",
       "      <td>61</td>\n",
       "    </tr>\n",
       "    <tr>\n",
       "      <th>11</th>\n",
       "      <td>CISS</td>\n",
       "      <td>PROPOSITION 062- DEATH PENALTY. INITIATIVE STA...</td>\n",
       "      <td>Death penalty</td>\n",
       "      <td>Repeal the death penalty</td>\n",
       "      <td>DEFEATED</td>\n",
       "      <td>62</td>\n",
       "    </tr>\n",
       "    <tr>\n",
       "      <th>14</th>\n",
       "      <td>CISS</td>\n",
       "      <td>PROPOSITION 065- CARRY-OUT BAGS. CHARGES. INIT...</td>\n",
       "      <td>Environment</td>\n",
       "      <td>Grocery and retail carry-out bags</td>\n",
       "      <td>DEFEATED</td>\n",
       "      <td>65</td>\n",
       "    </tr>\n",
       "  </tbody>\n",
       "</table>\n",
       "</div>"
      ],
      "text/plain": [
       "    TYPE                                              TITLE          SUBJECT  \\\n",
       "2   CICA  PROPOSITION 053 - REVENUE BONDS. STATEWIDE VOT...  Elections/Bonds   \n",
       "9   CISS  PROPOSITION 060- ADULT FILMS. CONDOMS. HEALTH ...           Movies   \n",
       "10  CISS  PROPOSITION 061- STATE PRESCRIPTION DRUG PURCH...       Healthcare   \n",
       "11  CISS  PROPOSITION 062- DEATH PENALTY. INITIATIVE STA...    Death penalty   \n",
       "14  CISS  PROPOSITION 065- CARRY-OUT BAGS. CHARGES. INIT...      Environment   \n",
       "\n",
       "                                         DESCRIPTION    RESULT  ID_PROPOSITION  \n",
       "2            Projects that cost more than $2 billion  DEFEATED              53  \n",
       "9   Require the use of condoms in pornographic films  DEFEATED              60  \n",
       "10               Prescription drug price regulations  DEFEATED              61  \n",
       "11                          Repeal the death penalty  DEFEATED              62  \n",
       "14                 Grocery and retail carry-out bags  DEFEATED              65  "
      ]
     },
     "execution_count": 9,
     "metadata": {},
     "output_type": "execute_result"
    }
   ],
   "source": [
    "defeat.head(10)"
   ]
  },
  {
   "cell_type": "code",
   "execution_count": 10,
   "metadata": {},
   "outputs": [
    {
     "data": {
      "text/html": [
       "<div>\n",
       "<style>\n",
       "    .dataframe thead tr:only-child th {\n",
       "        text-align: right;\n",
       "    }\n",
       "\n",
       "    .dataframe thead th {\n",
       "        text-align: left;\n",
       "    }\n",
       "\n",
       "    .dataframe tbody tr th {\n",
       "        vertical-align: top;\n",
       "    }\n",
       "</style>\n",
       "<table border=\"1\" class=\"dataframe\">\n",
       "  <thead>\n",
       "    <tr style=\"text-align: right;\">\n",
       "      <th></th>\n",
       "      <th>TYPE</th>\n",
       "      <th>TITLE</th>\n",
       "      <th>SUBJECT</th>\n",
       "      <th>DESCRIPTION</th>\n",
       "      <th>RESULT</th>\n",
       "      <th>ID_PROPOSITION</th>\n",
       "    </tr>\n",
       "  </thead>\n",
       "  <tbody>\n",
       "    <tr>\n",
       "      <th>0</th>\n",
       "      <td>CISS</td>\n",
       "      <td>PROPOSITION 051 - SCHOOL BONDS. FUNDING FOR K-...</td>\n",
       "      <td>Education</td>\n",
       "      <td>$9 billion in bonds for education and schools</td>\n",
       "      <td>APPROVED</td>\n",
       "      <td>51</td>\n",
       "    </tr>\n",
       "    <tr>\n",
       "      <th>1</th>\n",
       "      <td>CICA/SS</td>\n",
       "      <td>PROPOSITION 052 - STATE FEES ON HOSPITALS. FED...</td>\n",
       "      <td>Healthcare</td>\n",
       "      <td>Voter approval of changes to the hospital fee ...</td>\n",
       "      <td>APPROVED</td>\n",
       "      <td>52</td>\n",
       "    </tr>\n",
       "    <tr>\n",
       "      <th>2</th>\n",
       "      <td>CICA</td>\n",
       "      <td>PROPOSITION 053 - REVENUE BONDS. STATEWIDE VOT...</td>\n",
       "      <td>Elections/Bonds</td>\n",
       "      <td>Projects that cost more than $2 billion</td>\n",
       "      <td>DEFEATED</td>\n",
       "      <td>53</td>\n",
       "    </tr>\n",
       "    <tr>\n",
       "      <th>3</th>\n",
       "      <td>CICA/SS</td>\n",
       "      <td>PROPOSITION 054 - LEGISLATURE. LEGISLATION AND...</td>\n",
       "      <td>Accountability</td>\n",
       "      <td>Conditions under which legislative bills can b...</td>\n",
       "      <td>APPROVED</td>\n",
       "      <td>54</td>\n",
       "    </tr>\n",
       "    <tr>\n",
       "      <th>4</th>\n",
       "      <td>CICA</td>\n",
       "      <td>PROPOSITION 055 - TAX EXTENSION TO FUND EDUCAT...</td>\n",
       "      <td>Taxes</td>\n",
       "      <td>Extension of personal income tax on incomes ov...</td>\n",
       "      <td>APPROVED</td>\n",
       "      <td>55</td>\n",
       "    </tr>\n",
       "  </tbody>\n",
       "</table>\n",
       "</div>"
      ],
      "text/plain": [
       "      TYPE                                              TITLE  \\\n",
       "0     CISS  PROPOSITION 051 - SCHOOL BONDS. FUNDING FOR K-...   \n",
       "1  CICA/SS  PROPOSITION 052 - STATE FEES ON HOSPITALS. FED...   \n",
       "2     CICA  PROPOSITION 053 - REVENUE BONDS. STATEWIDE VOT...   \n",
       "3  CICA/SS  PROPOSITION 054 - LEGISLATURE. LEGISLATION AND...   \n",
       "4     CICA  PROPOSITION 055 - TAX EXTENSION TO FUND EDUCAT...   \n",
       "\n",
       "           SUBJECT                                        DESCRIPTION  \\\n",
       "0        Education      $9 billion in bonds for education and schools   \n",
       "1       Healthcare  Voter approval of changes to the hospital fee ...   \n",
       "2  Elections/Bonds            Projects that cost more than $2 billion   \n",
       "3   Accountability  Conditions under which legislative bills can b...   \n",
       "4            Taxes  Extension of personal income tax on incomes ov...   \n",
       "\n",
       "     RESULT  ID_PROPOSITION  \n",
       "0  APPROVED              51  \n",
       "1  APPROVED              52  \n",
       "2  DEFEATED              53  \n",
       "3  APPROVED              54  \n",
       "4  APPROVED              55  "
      ]
     },
     "execution_count": 10,
     "metadata": {},
     "output_type": "execute_result"
    }
   ],
   "source": [
    "resultados.head(5)"
   ]
  },
  {
   "cell_type": "code",
   "execution_count": 11,
   "metadata": {
    "collapsed": true
   },
   "outputs": [],
   "source": [
    "pAllProp = pd.read_csv(\"all_prop.csv\")"
   ]
  },
  {
   "cell_type": "code",
   "execution_count": 12,
   "metadata": {},
   "outputs": [
    {
     "name": "stdout",
     "output_type": "stream",
     "text": [
      "<class 'pandas.core.frame.DataFrame'>\n",
      "RangeIndex: 86786 entries, 0 to 86785\n",
      "Data columns (total 15 columns):\n",
      "FILING_ID             86786 non-null int64\n",
      "COMMITTEE_ID          86786 non-null int64\n",
      "COMMITTEE_NAME        86786 non-null object\n",
      "COMMITTEE_POSITION    86786 non-null object\n",
      "AMEND_ID              86786 non-null int64\n",
      "FIRST_NAME            83652 non-null object\n",
      "LAST_NAME             86786 non-null object\n",
      "CITY                  86773 non-null object\n",
      "STATE                 86766 non-null object\n",
      "ZIPCODE               86770 non-null object\n",
      "EMPLOYER              80993 non-null object\n",
      "OCCUPATION            83576 non-null object\n",
      "DATE                  86786 non-null object\n",
      "AMOUNT                86786 non-null float64\n",
      "ID_PROPOSITION        86786 non-null int64\n",
      "dtypes: float64(1), int64(4), object(10)\n",
      "memory usage: 9.9+ MB\n"
     ]
    }
   ],
   "source": [
    "pAllProp.info()"
   ]
  },
  {
   "cell_type": "code",
   "execution_count": 13,
   "metadata": {},
   "outputs": [
    {
     "data": {
      "text/html": [
       "<div>\n",
       "<style>\n",
       "    .dataframe thead tr:only-child th {\n",
       "        text-align: right;\n",
       "    }\n",
       "\n",
       "    .dataframe thead th {\n",
       "        text-align: left;\n",
       "    }\n",
       "\n",
       "    .dataframe tbody tr th {\n",
       "        vertical-align: top;\n",
       "    }\n",
       "</style>\n",
       "<table border=\"1\" class=\"dataframe\">\n",
       "  <thead>\n",
       "    <tr style=\"text-align: right;\">\n",
       "      <th></th>\n",
       "      <th>FILING_ID</th>\n",
       "      <th>COMMITTEE_ID</th>\n",
       "      <th>COMMITTEE_NAME</th>\n",
       "      <th>COMMITTEE_POSITION</th>\n",
       "      <th>AMEND_ID</th>\n",
       "      <th>FIRST_NAME</th>\n",
       "      <th>LAST_NAME</th>\n",
       "      <th>CITY</th>\n",
       "      <th>STATE</th>\n",
       "      <th>ZIPCODE</th>\n",
       "      <th>EMPLOYER</th>\n",
       "      <th>OCCUPATION</th>\n",
       "      <th>DATE</th>\n",
       "      <th>AMOUNT</th>\n",
       "      <th>ID_PROPOSITION</th>\n",
       "    </tr>\n",
       "  </thead>\n",
       "  <tbody>\n",
       "    <tr>\n",
       "      <th>0</th>\n",
       "      <td>1680654</td>\n",
       "      <td>1220380</td>\n",
       "      <td>Community College Facility Coalition Issues Co...</td>\n",
       "      <td>SUPPORT</td>\n",
       "      <td>0</td>\n",
       "      <td>NaN</td>\n",
       "      <td>COMMUNITY COLLEGE FACILITY COALITION</td>\n",
       "      <td>SACRAMENTO</td>\n",
       "      <td>CA</td>\n",
       "      <td>95814</td>\n",
       "      <td>NaN</td>\n",
       "      <td>NaN</td>\n",
       "      <td>4/13/2012 12:00:00 AM</td>\n",
       "      <td>75000.0</td>\n",
       "      <td>51</td>\n",
       "    </tr>\n",
       "    <tr>\n",
       "      <th>1</th>\n",
       "      <td>2012862</td>\n",
       "      <td>1220380</td>\n",
       "      <td>Community College Facility Coalition Issues Co...</td>\n",
       "      <td>SUPPORT</td>\n",
       "      <td>0</td>\n",
       "      <td>NaN</td>\n",
       "      <td>DOVETAIL DECISION CONSULTANTS, INC.</td>\n",
       "      <td>San Anselmo</td>\n",
       "      <td>CA</td>\n",
       "      <td>94960</td>\n",
       "      <td>NaN</td>\n",
       "      <td>NaN</td>\n",
       "      <td>12/17/2015 12:00:00 AM</td>\n",
       "      <td>100.0</td>\n",
       "      <td>51</td>\n",
       "    </tr>\n",
       "    <tr>\n",
       "      <th>2</th>\n",
       "      <td>2012862</td>\n",
       "      <td>1220380</td>\n",
       "      <td>Community College Facility Coalition Issues Co...</td>\n",
       "      <td>SUPPORT</td>\n",
       "      <td>0</td>\n",
       "      <td>ERIC</td>\n",
       "      <td>MITTLESTEAD</td>\n",
       "      <td>Exeter</td>\n",
       "      <td>CA</td>\n",
       "      <td>93221</td>\n",
       "      <td>KERN COUNTY COLLEGE DISTRICT</td>\n",
       "      <td>COLLEGE ADMINISTRATOR</td>\n",
       "      <td>12/17/2015 12:00:00 AM</td>\n",
       "      <td>250.0</td>\n",
       "      <td>51</td>\n",
       "    </tr>\n",
       "  </tbody>\n",
       "</table>\n",
       "</div>"
      ],
      "text/plain": [
       "   FILING_ID  COMMITTEE_ID                                     COMMITTEE_NAME  \\\n",
       "0    1680654       1220380  Community College Facility Coalition Issues Co...   \n",
       "1    2012862       1220380  Community College Facility Coalition Issues Co...   \n",
       "2    2012862       1220380  Community College Facility Coalition Issues Co...   \n",
       "\n",
       "  COMMITTEE_POSITION  AMEND_ID FIRST_NAME  \\\n",
       "0            SUPPORT         0        NaN   \n",
       "1            SUPPORT         0        NaN   \n",
       "2            SUPPORT         0       ERIC   \n",
       "\n",
       "                              LAST_NAME         CITY STATE ZIPCODE  \\\n",
       "0  COMMUNITY COLLEGE FACILITY COALITION   SACRAMENTO    CA   95814   \n",
       "1   DOVETAIL DECISION CONSULTANTS, INC.  San Anselmo    CA   94960   \n",
       "2                           MITTLESTEAD       Exeter    CA   93221   \n",
       "\n",
       "                       EMPLOYER             OCCUPATION  \\\n",
       "0                           NaN                    NaN   \n",
       "1                           NaN                    NaN   \n",
       "2  KERN COUNTY COLLEGE DISTRICT  COLLEGE ADMINISTRATOR   \n",
       "\n",
       "                     DATE   AMOUNT  ID_PROPOSITION  \n",
       "0   4/13/2012 12:00:00 AM  75000.0              51  \n",
       "1  12/17/2015 12:00:00 AM    100.0              51  \n",
       "2  12/17/2015 12:00:00 AM    250.0              51  "
      ]
     },
     "execution_count": 13,
     "metadata": {},
     "output_type": "execute_result"
    }
   ],
   "source": [
    "pAllProp.head(3)"
   ]
  },
  {
   "cell_type": "code",
   "execution_count": 14,
   "metadata": {
    "collapsed": true
   },
   "outputs": [],
   "source": [
    "resTotAllProp = pd.merge(left=resultados, right=pAllProp, left_on='ID_PROPOSITION', right_on='ID_PROPOSITION')"
   ]
  },
  {
   "cell_type": "code",
   "execution_count": 15,
   "metadata": {
    "collapsed": true
   },
   "outputs": [],
   "source": [
    "groupbyID_PROPOSITION = resTotAllProp.groupby('ID_PROPOSITION').apply(lambda x: len(x))"
   ]
  },
  {
   "cell_type": "code",
   "execution_count": 16,
   "metadata": {},
   "outputs": [
    {
     "data": {
      "text/plain": [
       "<matplotlib.axes._subplots.AxesSubplot at 0x7f8702d31890>"
      ]
     },
     "execution_count": 16,
     "metadata": {},
     "output_type": "execute_result"
    },
    {
     "data": {
      "image/png": "[encoded data removed]",
      "text/plain": [
       "<matplotlib.figure.Figure at 0x7f8702d46450>"
      ]
     },
     "metadata": {},
     "output_type": "display_data"
    }
   ],
   "source": [
    "groupbyID_PROPOSITION.plot(kind='bar', grid=False, title=\"QUANTIDADE DE CONTRIBUICOES POR PROPOSICOES\")"
   ]
  },
  {
   "cell_type": "code",
   "execution_count": null,
   "metadata": {
    "collapsed": true
   },
   "outputs": [],
   "source": []
  },
  {
   "cell_type": "code",
   "execution_count": null,
   "metadata": {
    "collapsed": true
   },
   "outputs": [],
   "source": []
  },
  {
   "cell_type": "code",
   "execution_count": null,
   "metadata": {
    "collapsed": true
   },
   "outputs": [],
   "source": []
  },
  {
   "cell_type": "code",
   "execution_count": 17,
   "metadata": {
    "collapsed": true
   },
   "outputs": [],
   "source": [
    "groupbyRESULT = resTotAllProp.groupby('RESULT').apply(lambda x: len(x))"
   ]
  },
  {
   "cell_type": "code",
   "execution_count": 18,
   "metadata": {},
   "outputs": [
    {
     "data": {
      "text/plain": [
       "<matplotlib.axes._subplots.AxesSubplot at 0x7f8702607c10>"
      ]
     },
     "execution_count": 18,
     "metadata": {},
     "output_type": "execute_result"
    },
    {
     "data": {
      "image/png": "[encoded data removed]",
      "text/plain": [
       "<matplotlib.figure.Figure at 0x7f87380e8190>"
      ]
     },
     "metadata": {},
     "output_type": "display_data"
    }
   ],
   "source": [
    "groupbyRESULT.plot(kind='pie', grid=False, title=\"PROPOSICOES\")"
   ]
  },
  {
   "cell_type": "code",
   "execution_count": 19,
   "metadata": {
    "collapsed": true
   },
   "outputs": [],
   "source": [
    "groupbyPROPAMOUNT = resTotAllProp.groupby(['AMOUNT']).ID_PROPOSITION.value_counts()"
   ]
  },
  {
   "cell_type": "code",
   "execution_count": 20,
   "metadata": {},
   "outputs": [
    {
     "data": {
      "text/plain": [
       "AMOUNT      ID_PROPOSITION\n",
       "-8478390.0  52                1\n",
       "-150000.0   64                1\n",
       "-27000.0    51                1\n",
       "-15000.0    63                1\n",
       "-9000.0     51                1\n",
       "Name: ID_PROPOSITION, dtype: int64"
      ]
     },
     "execution_count": 20,
     "metadata": {},
     "output_type": "execute_result"
    }
   ],
   "source": [
    "groupbyPROPAMOUNT.head(5)"
   ]
  },
  {
   "cell_type": "code",
   "execution_count": 21,
   "metadata": {},
   "outputs": [
    {
     "data": {
      "text/html": [
       "<div>\n",
       "<style>\n",
       "    .dataframe thead tr:only-child th {\n",
       "        text-align: right;\n",
       "    }\n",
       "\n",
       "    .dataframe thead th {\n",
       "        text-align: left;\n",
       "    }\n",
       "\n",
       "    .dataframe tbody tr th {\n",
       "        vertical-align: top;\n",
       "    }\n",
       "</style>\n",
       "<table border=\"1\" class=\"dataframe\">\n",
       "  <thead>\n",
       "    <tr style=\"text-align: right;\">\n",
       "      <th>ID_PROPOSITION</th>\n",
       "      <th>51</th>\n",
       "      <th>52</th>\n",
       "      <th>53</th>\n",
       "      <th>54</th>\n",
       "      <th>55</th>\n",
       "      <th>56</th>\n",
       "      <th>57</th>\n",
       "      <th>58</th>\n",
       "      <th>59</th>\n",
       "      <th>60</th>\n",
       "      <th>61</th>\n",
       "      <th>62</th>\n",
       "      <th>63</th>\n",
       "      <th>64</th>\n",
       "      <th>65</th>\n",
       "      <th>66</th>\n",
       "      <th>67</th>\n",
       "    </tr>\n",
       "    <tr>\n",
       "      <th>AMOUNT</th>\n",
       "      <th></th>\n",
       "      <th></th>\n",
       "      <th></th>\n",
       "      <th></th>\n",
       "      <th></th>\n",
       "      <th></th>\n",
       "      <th></th>\n",
       "      <th></th>\n",
       "      <th></th>\n",
       "      <th></th>\n",
       "      <th></th>\n",
       "      <th></th>\n",
       "      <th></th>\n",
       "      <th></th>\n",
       "      <th></th>\n",
       "      <th></th>\n",
       "      <th></th>\n",
       "    </tr>\n",
       "  </thead>\n",
       "  <tbody>\n",
       "    <tr>\n",
       "      <th>-8478390.00</th>\n",
       "      <td>NaN</td>\n",
       "      <td>1.0</td>\n",
       "      <td>NaN</td>\n",
       "      <td>NaN</td>\n",
       "      <td>NaN</td>\n",
       "      <td>NaN</td>\n",
       "      <td>NaN</td>\n",
       "      <td>NaN</td>\n",
       "      <td>NaN</td>\n",
       "      <td>NaN</td>\n",
       "      <td>NaN</td>\n",
       "      <td>NaN</td>\n",
       "      <td>NaN</td>\n",
       "      <td>NaN</td>\n",
       "      <td>NaN</td>\n",
       "      <td>NaN</td>\n",
       "      <td>NaN</td>\n",
       "    </tr>\n",
       "    <tr>\n",
       "      <th>-150000.00</th>\n",
       "      <td>NaN</td>\n",
       "      <td>NaN</td>\n",
       "      <td>NaN</td>\n",
       "      <td>NaN</td>\n",
       "      <td>NaN</td>\n",
       "      <td>NaN</td>\n",
       "      <td>NaN</td>\n",
       "      <td>NaN</td>\n",
       "      <td>NaN</td>\n",
       "      <td>NaN</td>\n",
       "      <td>NaN</td>\n",
       "      <td>NaN</td>\n",
       "      <td>NaN</td>\n",
       "      <td>1.0</td>\n",
       "      <td>NaN</td>\n",
       "      <td>NaN</td>\n",
       "      <td>NaN</td>\n",
       "    </tr>\n",
       "    <tr>\n",
       "      <th>-27000.00</th>\n",
       "      <td>1.0</td>\n",
       "      <td>NaN</td>\n",
       "      <td>NaN</td>\n",
       "      <td>NaN</td>\n",
       "      <td>NaN</td>\n",
       "      <td>NaN</td>\n",
       "      <td>NaN</td>\n",
       "      <td>NaN</td>\n",
       "      <td>NaN</td>\n",
       "      <td>NaN</td>\n",
       "      <td>NaN</td>\n",
       "      <td>NaN</td>\n",
       "      <td>NaN</td>\n",
       "      <td>NaN</td>\n",
       "      <td>NaN</td>\n",
       "      <td>NaN</td>\n",
       "      <td>NaN</td>\n",
       "    </tr>\n",
       "    <tr>\n",
       "      <th>-15000.00</th>\n",
       "      <td>NaN</td>\n",
       "      <td>NaN</td>\n",
       "      <td>NaN</td>\n",
       "      <td>NaN</td>\n",
       "      <td>NaN</td>\n",
       "      <td>NaN</td>\n",
       "      <td>NaN</td>\n",
       "      <td>NaN</td>\n",
       "      <td>NaN</td>\n",
       "      <td>NaN</td>\n",
       "      <td>NaN</td>\n",
       "      <td>NaN</td>\n",
       "      <td>1.0</td>\n",
       "      <td>NaN</td>\n",
       "      <td>NaN</td>\n",
       "      <td>NaN</td>\n",
       "      <td>NaN</td>\n",
       "    </tr>\n",
       "    <tr>\n",
       "      <th>-9000.00</th>\n",
       "      <td>1.0</td>\n",
       "      <td>NaN</td>\n",
       "      <td>NaN</td>\n",
       "      <td>NaN</td>\n",
       "      <td>NaN</td>\n",
       "      <td>NaN</td>\n",
       "      <td>NaN</td>\n",
       "      <td>NaN</td>\n",
       "      <td>NaN</td>\n",
       "      <td>NaN</td>\n",
       "      <td>NaN</td>\n",
       "      <td>NaN</td>\n",
       "      <td>NaN</td>\n",
       "      <td>NaN</td>\n",
       "      <td>NaN</td>\n",
       "      <td>NaN</td>\n",
       "      <td>NaN</td>\n",
       "    </tr>\n",
       "    <tr>\n",
       "      <th>-5000.00</th>\n",
       "      <td>NaN</td>\n",
       "      <td>NaN</td>\n",
       "      <td>NaN</td>\n",
       "      <td>NaN</td>\n",
       "      <td>NaN</td>\n",
       "      <td>NaN</td>\n",
       "      <td>NaN</td>\n",
       "      <td>NaN</td>\n",
       "      <td>NaN</td>\n",
       "      <td>NaN</td>\n",
       "      <td>NaN</td>\n",
       "      <td>NaN</td>\n",
       "      <td>1.0</td>\n",
       "      <td>NaN</td>\n",
       "      <td>NaN</td>\n",
       "      <td>NaN</td>\n",
       "      <td>NaN</td>\n",
       "    </tr>\n",
       "    <tr>\n",
       "      <th>-2500.00</th>\n",
       "      <td>NaN</td>\n",
       "      <td>NaN</td>\n",
       "      <td>NaN</td>\n",
       "      <td>NaN</td>\n",
       "      <td>NaN</td>\n",
       "      <td>NaN</td>\n",
       "      <td>NaN</td>\n",
       "      <td>NaN</td>\n",
       "      <td>NaN</td>\n",
       "      <td>NaN</td>\n",
       "      <td>NaN</td>\n",
       "      <td>NaN</td>\n",
       "      <td>1.0</td>\n",
       "      <td>NaN</td>\n",
       "      <td>NaN</td>\n",
       "      <td>NaN</td>\n",
       "      <td>NaN</td>\n",
       "    </tr>\n",
       "    <tr>\n",
       "      <th>-2450.00</th>\n",
       "      <td>NaN</td>\n",
       "      <td>NaN</td>\n",
       "      <td>NaN</td>\n",
       "      <td>NaN</td>\n",
       "      <td>NaN</td>\n",
       "      <td>NaN</td>\n",
       "      <td>NaN</td>\n",
       "      <td>NaN</td>\n",
       "      <td>NaN</td>\n",
       "      <td>NaN</td>\n",
       "      <td>NaN</td>\n",
       "      <td>NaN</td>\n",
       "      <td>1.0</td>\n",
       "      <td>NaN</td>\n",
       "      <td>NaN</td>\n",
       "      <td>NaN</td>\n",
       "      <td>NaN</td>\n",
       "    </tr>\n",
       "    <tr>\n",
       "      <th>-1000.00</th>\n",
       "      <td>NaN</td>\n",
       "      <td>NaN</td>\n",
       "      <td>NaN</td>\n",
       "      <td>NaN</td>\n",
       "      <td>NaN</td>\n",
       "      <td>NaN</td>\n",
       "      <td>NaN</td>\n",
       "      <td>NaN</td>\n",
       "      <td>NaN</td>\n",
       "      <td>1.0</td>\n",
       "      <td>NaN</td>\n",
       "      <td>1.0</td>\n",
       "      <td>1.0</td>\n",
       "      <td>NaN</td>\n",
       "      <td>NaN</td>\n",
       "      <td>1.0</td>\n",
       "      <td>NaN</td>\n",
       "    </tr>\n",
       "    <tr>\n",
       "      <th>-900.00</th>\n",
       "      <td>NaN</td>\n",
       "      <td>NaN</td>\n",
       "      <td>NaN</td>\n",
       "      <td>NaN</td>\n",
       "      <td>NaN</td>\n",
       "      <td>NaN</td>\n",
       "      <td>NaN</td>\n",
       "      <td>NaN</td>\n",
       "      <td>1.0</td>\n",
       "      <td>NaN</td>\n",
       "      <td>NaN</td>\n",
       "      <td>NaN</td>\n",
       "      <td>NaN</td>\n",
       "      <td>1.0</td>\n",
       "      <td>NaN</td>\n",
       "      <td>NaN</td>\n",
       "      <td>NaN</td>\n",
       "    </tr>\n",
       "    <tr>\n",
       "      <th>-500.00</th>\n",
       "      <td>NaN</td>\n",
       "      <td>NaN</td>\n",
       "      <td>NaN</td>\n",
       "      <td>NaN</td>\n",
       "      <td>NaN</td>\n",
       "      <td>NaN</td>\n",
       "      <td>1.0</td>\n",
       "      <td>NaN</td>\n",
       "      <td>NaN</td>\n",
       "      <td>NaN</td>\n",
       "      <td>NaN</td>\n",
       "      <td>NaN</td>\n",
       "      <td>3.0</td>\n",
       "      <td>NaN</td>\n",
       "      <td>NaN</td>\n",
       "      <td>NaN</td>\n",
       "      <td>NaN</td>\n",
       "    </tr>\n",
       "    <tr>\n",
       "      <th>-450.00</th>\n",
       "      <td>NaN</td>\n",
       "      <td>NaN</td>\n",
       "      <td>NaN</td>\n",
       "      <td>NaN</td>\n",
       "      <td>NaN</td>\n",
       "      <td>NaN</td>\n",
       "      <td>NaN</td>\n",
       "      <td>NaN</td>\n",
       "      <td>NaN</td>\n",
       "      <td>NaN</td>\n",
       "      <td>NaN</td>\n",
       "      <td>NaN</td>\n",
       "      <td>1.0</td>\n",
       "      <td>NaN</td>\n",
       "      <td>NaN</td>\n",
       "      <td>NaN</td>\n",
       "      <td>NaN</td>\n",
       "    </tr>\n",
       "    <tr>\n",
       "      <th>-300.00</th>\n",
       "      <td>NaN</td>\n",
       "      <td>NaN</td>\n",
       "      <td>NaN</td>\n",
       "      <td>NaN</td>\n",
       "      <td>NaN</td>\n",
       "      <td>NaN</td>\n",
       "      <td>NaN</td>\n",
       "      <td>NaN</td>\n",
       "      <td>NaN</td>\n",
       "      <td>NaN</td>\n",
       "      <td>NaN</td>\n",
       "      <td>NaN</td>\n",
       "      <td>1.0</td>\n",
       "      <td>NaN</td>\n",
       "      <td>NaN</td>\n",
       "      <td>NaN</td>\n",
       "      <td>NaN</td>\n",
       "    </tr>\n",
       "    <tr>\n",
       "      <th>-250.00</th>\n",
       "      <td>NaN</td>\n",
       "      <td>NaN</td>\n",
       "      <td>NaN</td>\n",
       "      <td>NaN</td>\n",
       "      <td>NaN</td>\n",
       "      <td>NaN</td>\n",
       "      <td>NaN</td>\n",
       "      <td>NaN</td>\n",
       "      <td>NaN</td>\n",
       "      <td>NaN</td>\n",
       "      <td>NaN</td>\n",
       "      <td>1.0</td>\n",
       "      <td>2.0</td>\n",
       "      <td>NaN</td>\n",
       "      <td>NaN</td>\n",
       "      <td>1.0</td>\n",
       "      <td>NaN</td>\n",
       "    </tr>\n",
       "    <tr>\n",
       "      <th>-109.34</th>\n",
       "      <td>NaN</td>\n",
       "      <td>NaN</td>\n",
       "      <td>NaN</td>\n",
       "      <td>NaN</td>\n",
       "      <td>NaN</td>\n",
       "      <td>NaN</td>\n",
       "      <td>NaN</td>\n",
       "      <td>NaN</td>\n",
       "      <td>1.0</td>\n",
       "      <td>NaN</td>\n",
       "      <td>NaN</td>\n",
       "      <td>NaN</td>\n",
       "      <td>NaN</td>\n",
       "      <td>NaN</td>\n",
       "      <td>NaN</td>\n",
       "      <td>NaN</td>\n",
       "      <td>NaN</td>\n",
       "    </tr>\n",
       "    <tr>\n",
       "      <th>-100.00</th>\n",
       "      <td>NaN</td>\n",
       "      <td>NaN</td>\n",
       "      <td>NaN</td>\n",
       "      <td>NaN</td>\n",
       "      <td>NaN</td>\n",
       "      <td>NaN</td>\n",
       "      <td>NaN</td>\n",
       "      <td>NaN</td>\n",
       "      <td>NaN</td>\n",
       "      <td>NaN</td>\n",
       "      <td>1.0</td>\n",
       "      <td>1.0</td>\n",
       "      <td>18.0</td>\n",
       "      <td>3.0</td>\n",
       "      <td>NaN</td>\n",
       "      <td>1.0</td>\n",
       "      <td>NaN</td>\n",
       "    </tr>\n",
       "    <tr>\n",
       "      <th>-50.00</th>\n",
       "      <td>NaN</td>\n",
       "      <td>NaN</td>\n",
       "      <td>NaN</td>\n",
       "      <td>NaN</td>\n",
       "      <td>NaN</td>\n",
       "      <td>NaN</td>\n",
       "      <td>NaN</td>\n",
       "      <td>NaN</td>\n",
       "      <td>1.0</td>\n",
       "      <td>NaN</td>\n",
       "      <td>NaN</td>\n",
       "      <td>NaN</td>\n",
       "      <td>1.0</td>\n",
       "      <td>2.0</td>\n",
       "      <td>NaN</td>\n",
       "      <td>NaN</td>\n",
       "      <td>NaN</td>\n",
       "    </tr>\n",
       "    <tr>\n",
       "      <th>-25.00</th>\n",
       "      <td>NaN</td>\n",
       "      <td>NaN</td>\n",
       "      <td>NaN</td>\n",
       "      <td>NaN</td>\n",
       "      <td>NaN</td>\n",
       "      <td>NaN</td>\n",
       "      <td>NaN</td>\n",
       "      <td>NaN</td>\n",
       "      <td>NaN</td>\n",
       "      <td>NaN</td>\n",
       "      <td>NaN</td>\n",
       "      <td>NaN</td>\n",
       "      <td>2.0</td>\n",
       "      <td>NaN</td>\n",
       "      <td>NaN</td>\n",
       "      <td>NaN</td>\n",
       "      <td>NaN</td>\n",
       "    </tr>\n",
       "    <tr>\n",
       "      <th>-20.00</th>\n",
       "      <td>NaN</td>\n",
       "      <td>NaN</td>\n",
       "      <td>NaN</td>\n",
       "      <td>NaN</td>\n",
       "      <td>NaN</td>\n",
       "      <td>NaN</td>\n",
       "      <td>NaN</td>\n",
       "      <td>NaN</td>\n",
       "      <td>NaN</td>\n",
       "      <td>NaN</td>\n",
       "      <td>NaN</td>\n",
       "      <td>NaN</td>\n",
       "      <td>4.0</td>\n",
       "      <td>NaN</td>\n",
       "      <td>NaN</td>\n",
       "      <td>NaN</td>\n",
       "      <td>NaN</td>\n",
       "    </tr>\n",
       "    <tr>\n",
       "      <th>0.00</th>\n",
       "      <td>NaN</td>\n",
       "      <td>NaN</td>\n",
       "      <td>NaN</td>\n",
       "      <td>NaN</td>\n",
       "      <td>NaN</td>\n",
       "      <td>NaN</td>\n",
       "      <td>NaN</td>\n",
       "      <td>NaN</td>\n",
       "      <td>NaN</td>\n",
       "      <td>NaN</td>\n",
       "      <td>NaN</td>\n",
       "      <td>NaN</td>\n",
       "      <td>14.0</td>\n",
       "      <td>NaN</td>\n",
       "      <td>NaN</td>\n",
       "      <td>NaN</td>\n",
       "      <td>1.0</td>\n",
       "    </tr>\n",
       "    <tr>\n",
       "      <th>1.00</th>\n",
       "      <td>NaN</td>\n",
       "      <td>NaN</td>\n",
       "      <td>NaN</td>\n",
       "      <td>NaN</td>\n",
       "      <td>NaN</td>\n",
       "      <td>NaN</td>\n",
       "      <td>NaN</td>\n",
       "      <td>NaN</td>\n",
       "      <td>NaN</td>\n",
       "      <td>NaN</td>\n",
       "      <td>9.0</td>\n",
       "      <td>NaN</td>\n",
       "      <td>8.0</td>\n",
       "      <td>NaN</td>\n",
       "      <td>NaN</td>\n",
       "      <td>NaN</td>\n",
       "      <td>NaN</td>\n",
       "    </tr>\n",
       "    <tr>\n",
       "      <th>1.50</th>\n",
       "      <td>NaN</td>\n",
       "      <td>NaN</td>\n",
       "      <td>NaN</td>\n",
       "      <td>NaN</td>\n",
       "      <td>NaN</td>\n",
       "      <td>NaN</td>\n",
       "      <td>NaN</td>\n",
       "      <td>NaN</td>\n",
       "      <td>NaN</td>\n",
       "      <td>NaN</td>\n",
       "      <td>NaN</td>\n",
       "      <td>4.0</td>\n",
       "      <td>NaN</td>\n",
       "      <td>NaN</td>\n",
       "      <td>NaN</td>\n",
       "      <td>4.0</td>\n",
       "      <td>NaN</td>\n",
       "    </tr>\n",
       "    <tr>\n",
       "      <th>2.00</th>\n",
       "      <td>NaN</td>\n",
       "      <td>NaN</td>\n",
       "      <td>NaN</td>\n",
       "      <td>NaN</td>\n",
       "      <td>NaN</td>\n",
       "      <td>NaN</td>\n",
       "      <td>NaN</td>\n",
       "      <td>NaN</td>\n",
       "      <td>NaN</td>\n",
       "      <td>NaN</td>\n",
       "      <td>6.0</td>\n",
       "      <td>NaN</td>\n",
       "      <td>6.0</td>\n",
       "      <td>NaN</td>\n",
       "      <td>NaN</td>\n",
       "      <td>NaN</td>\n",
       "      <td>NaN</td>\n",
       "    </tr>\n",
       "    <tr>\n",
       "      <th>2.30</th>\n",
       "      <td>NaN</td>\n",
       "      <td>NaN</td>\n",
       "      <td>NaN</td>\n",
       "      <td>NaN</td>\n",
       "      <td>NaN</td>\n",
       "      <td>NaN</td>\n",
       "      <td>NaN</td>\n",
       "      <td>NaN</td>\n",
       "      <td>NaN</td>\n",
       "      <td>NaN</td>\n",
       "      <td>NaN</td>\n",
       "      <td>NaN</td>\n",
       "      <td>2.0</td>\n",
       "      <td>NaN</td>\n",
       "      <td>NaN</td>\n",
       "      <td>NaN</td>\n",
       "      <td>NaN</td>\n",
       "    </tr>\n",
       "    <tr>\n",
       "      <th>3.00</th>\n",
       "      <td>NaN</td>\n",
       "      <td>NaN</td>\n",
       "      <td>NaN</td>\n",
       "      <td>NaN</td>\n",
       "      <td>NaN</td>\n",
       "      <td>NaN</td>\n",
       "      <td>NaN</td>\n",
       "      <td>NaN</td>\n",
       "      <td>1.0</td>\n",
       "      <td>NaN</td>\n",
       "      <td>53.0</td>\n",
       "      <td>42.0</td>\n",
       "      <td>NaN</td>\n",
       "      <td>NaN</td>\n",
       "      <td>NaN</td>\n",
       "      <td>42.0</td>\n",
       "      <td>NaN</td>\n",
       "    </tr>\n",
       "    <tr>\n",
       "      <th>3.34</th>\n",
       "      <td>NaN</td>\n",
       "      <td>NaN</td>\n",
       "      <td>NaN</td>\n",
       "      <td>NaN</td>\n",
       "      <td>NaN</td>\n",
       "      <td>NaN</td>\n",
       "      <td>NaN</td>\n",
       "      <td>NaN</td>\n",
       "      <td>1.0</td>\n",
       "      <td>NaN</td>\n",
       "      <td>NaN</td>\n",
       "      <td>NaN</td>\n",
       "      <td>NaN</td>\n",
       "      <td>NaN</td>\n",
       "      <td>NaN</td>\n",
       "      <td>NaN</td>\n",
       "      <td>NaN</td>\n",
       "    </tr>\n",
       "    <tr>\n",
       "      <th>4.00</th>\n",
       "      <td>NaN</td>\n",
       "      <td>NaN</td>\n",
       "      <td>NaN</td>\n",
       "      <td>NaN</td>\n",
       "      <td>NaN</td>\n",
       "      <td>NaN</td>\n",
       "      <td>NaN</td>\n",
       "      <td>NaN</td>\n",
       "      <td>NaN</td>\n",
       "      <td>NaN</td>\n",
       "      <td>1.0</td>\n",
       "      <td>3.0</td>\n",
       "      <td>NaN</td>\n",
       "      <td>NaN</td>\n",
       "      <td>NaN</td>\n",
       "      <td>3.0</td>\n",
       "      <td>NaN</td>\n",
       "    </tr>\n",
       "    <tr>\n",
       "      <th>4.30</th>\n",
       "      <td>NaN</td>\n",
       "      <td>NaN</td>\n",
       "      <td>NaN</td>\n",
       "      <td>NaN</td>\n",
       "      <td>NaN</td>\n",
       "      <td>NaN</td>\n",
       "      <td>NaN</td>\n",
       "      <td>NaN</td>\n",
       "      <td>NaN</td>\n",
       "      <td>NaN</td>\n",
       "      <td>1.0</td>\n",
       "      <td>NaN</td>\n",
       "      <td>NaN</td>\n",
       "      <td>NaN</td>\n",
       "      <td>NaN</td>\n",
       "      <td>NaN</td>\n",
       "      <td>NaN</td>\n",
       "    </tr>\n",
       "    <tr>\n",
       "      <th>5.00</th>\n",
       "      <td>NaN</td>\n",
       "      <td>NaN</td>\n",
       "      <td>NaN</td>\n",
       "      <td>NaN</td>\n",
       "      <td>NaN</td>\n",
       "      <td>NaN</td>\n",
       "      <td>NaN</td>\n",
       "      <td>NaN</td>\n",
       "      <td>8.0</td>\n",
       "      <td>1.0</td>\n",
       "      <td>66.0</td>\n",
       "      <td>234.0</td>\n",
       "      <td>196.0</td>\n",
       "      <td>NaN</td>\n",
       "      <td>NaN</td>\n",
       "      <td>234.0</td>\n",
       "      <td>NaN</td>\n",
       "    </tr>\n",
       "    <tr>\n",
       "      <th>5.40</th>\n",
       "      <td>NaN</td>\n",
       "      <td>NaN</td>\n",
       "      <td>NaN</td>\n",
       "      <td>NaN</td>\n",
       "      <td>NaN</td>\n",
       "      <td>NaN</td>\n",
       "      <td>NaN</td>\n",
       "      <td>NaN</td>\n",
       "      <td>1.0</td>\n",
       "      <td>NaN</td>\n",
       "      <td>2.0</td>\n",
       "      <td>3.0</td>\n",
       "      <td>NaN</td>\n",
       "      <td>NaN</td>\n",
       "      <td>NaN</td>\n",
       "      <td>3.0</td>\n",
       "      <td>NaN</td>\n",
       "    </tr>\n",
       "    <tr>\n",
       "      <th>...</th>\n",
       "      <td>...</td>\n",
       "      <td>...</td>\n",
       "      <td>...</td>\n",
       "      <td>...</td>\n",
       "      <td>...</td>\n",
       "      <td>...</td>\n",
       "      <td>...</td>\n",
       "      <td>...</td>\n",
       "      <td>...</td>\n",
       "      <td>...</td>\n",
       "      <td>...</td>\n",
       "      <td>...</td>\n",
       "      <td>...</td>\n",
       "      <td>...</td>\n",
       "      <td>...</td>\n",
       "      <td>...</td>\n",
       "      <td>...</td>\n",
       "    </tr>\n",
       "    <tr>\n",
       "      <th>2018768.00</th>\n",
       "      <td>NaN</td>\n",
       "      <td>NaN</td>\n",
       "      <td>NaN</td>\n",
       "      <td>NaN</td>\n",
       "      <td>NaN</td>\n",
       "      <td>NaN</td>\n",
       "      <td>NaN</td>\n",
       "      <td>NaN</td>\n",
       "      <td>NaN</td>\n",
       "      <td>NaN</td>\n",
       "      <td>1.0</td>\n",
       "      <td>NaN</td>\n",
       "      <td>NaN</td>\n",
       "      <td>NaN</td>\n",
       "      <td>NaN</td>\n",
       "      <td>NaN</td>\n",
       "      <td>NaN</td>\n",
       "    </tr>\n",
       "    <tr>\n",
       "      <th>2080335.00</th>\n",
       "      <td>NaN</td>\n",
       "      <td>2.0</td>\n",
       "      <td>NaN</td>\n",
       "      <td>NaN</td>\n",
       "      <td>NaN</td>\n",
       "      <td>NaN</td>\n",
       "      <td>NaN</td>\n",
       "      <td>NaN</td>\n",
       "      <td>NaN</td>\n",
       "      <td>NaN</td>\n",
       "      <td>NaN</td>\n",
       "      <td>NaN</td>\n",
       "      <td>NaN</td>\n",
       "      <td>NaN</td>\n",
       "      <td>NaN</td>\n",
       "      <td>NaN</td>\n",
       "      <td>NaN</td>\n",
       "    </tr>\n",
       "    <tr>\n",
       "      <th>2089646.00</th>\n",
       "      <td>NaN</td>\n",
       "      <td>NaN</td>\n",
       "      <td>NaN</td>\n",
       "      <td>NaN</td>\n",
       "      <td>NaN</td>\n",
       "      <td>NaN</td>\n",
       "      <td>NaN</td>\n",
       "      <td>NaN</td>\n",
       "      <td>NaN</td>\n",
       "      <td>NaN</td>\n",
       "      <td>1.0</td>\n",
       "      <td>NaN</td>\n",
       "      <td>NaN</td>\n",
       "      <td>NaN</td>\n",
       "      <td>NaN</td>\n",
       "      <td>NaN</td>\n",
       "      <td>NaN</td>\n",
       "    </tr>\n",
       "    <tr>\n",
       "      <th>2208395.00</th>\n",
       "      <td>NaN</td>\n",
       "      <td>NaN</td>\n",
       "      <td>NaN</td>\n",
       "      <td>NaN</td>\n",
       "      <td>NaN</td>\n",
       "      <td>NaN</td>\n",
       "      <td>NaN</td>\n",
       "      <td>NaN</td>\n",
       "      <td>NaN</td>\n",
       "      <td>NaN</td>\n",
       "      <td>2.0</td>\n",
       "      <td>NaN</td>\n",
       "      <td>NaN</td>\n",
       "      <td>NaN</td>\n",
       "      <td>NaN</td>\n",
       "      <td>NaN</td>\n",
       "      <td>NaN</td>\n",
       "    </tr>\n",
       "    <tr>\n",
       "      <th>2300000.00</th>\n",
       "      <td>NaN</td>\n",
       "      <td>NaN</td>\n",
       "      <td>NaN</td>\n",
       "      <td>NaN</td>\n",
       "      <td>NaN</td>\n",
       "      <td>1.0</td>\n",
       "      <td>NaN</td>\n",
       "      <td>NaN</td>\n",
       "      <td>NaN</td>\n",
       "      <td>NaN</td>\n",
       "      <td>NaN</td>\n",
       "      <td>NaN</td>\n",
       "      <td>NaN</td>\n",
       "      <td>NaN</td>\n",
       "      <td>NaN</td>\n",
       "      <td>NaN</td>\n",
       "      <td>NaN</td>\n",
       "    </tr>\n",
       "    <tr>\n",
       "      <th>2400000.00</th>\n",
       "      <td>NaN</td>\n",
       "      <td>NaN</td>\n",
       "      <td>1.0</td>\n",
       "      <td>NaN</td>\n",
       "      <td>NaN</td>\n",
       "      <td>NaN</td>\n",
       "      <td>NaN</td>\n",
       "      <td>NaN</td>\n",
       "      <td>NaN</td>\n",
       "      <td>NaN</td>\n",
       "      <td>NaN</td>\n",
       "      <td>NaN</td>\n",
       "      <td>NaN</td>\n",
       "      <td>NaN</td>\n",
       "      <td>NaN</td>\n",
       "      <td>NaN</td>\n",
       "      <td>NaN</td>\n",
       "    </tr>\n",
       "    <tr>\n",
       "      <th>2416560.00</th>\n",
       "      <td>NaN</td>\n",
       "      <td>1.0</td>\n",
       "      <td>NaN</td>\n",
       "      <td>NaN</td>\n",
       "      <td>NaN</td>\n",
       "      <td>NaN</td>\n",
       "      <td>NaN</td>\n",
       "      <td>NaN</td>\n",
       "      <td>NaN</td>\n",
       "      <td>NaN</td>\n",
       "      <td>NaN</td>\n",
       "      <td>NaN</td>\n",
       "      <td>NaN</td>\n",
       "      <td>NaN</td>\n",
       "      <td>NaN</td>\n",
       "      <td>NaN</td>\n",
       "      <td>NaN</td>\n",
       "    </tr>\n",
       "    <tr>\n",
       "      <th>2500000.00</th>\n",
       "      <td>NaN</td>\n",
       "      <td>NaN</td>\n",
       "      <td>NaN</td>\n",
       "      <td>NaN</td>\n",
       "      <td>2.0</td>\n",
       "      <td>1.0</td>\n",
       "      <td>NaN</td>\n",
       "      <td>NaN</td>\n",
       "      <td>NaN</td>\n",
       "      <td>NaN</td>\n",
       "      <td>NaN</td>\n",
       "      <td>NaN</td>\n",
       "      <td>NaN</td>\n",
       "      <td>NaN</td>\n",
       "      <td>NaN</td>\n",
       "      <td>NaN</td>\n",
       "      <td>NaN</td>\n",
       "    </tr>\n",
       "    <tr>\n",
       "      <th>2800000.00</th>\n",
       "      <td>NaN</td>\n",
       "      <td>NaN</td>\n",
       "      <td>NaN</td>\n",
       "      <td>NaN</td>\n",
       "      <td>NaN</td>\n",
       "      <td>NaN</td>\n",
       "      <td>NaN</td>\n",
       "      <td>NaN</td>\n",
       "      <td>NaN</td>\n",
       "      <td>NaN</td>\n",
       "      <td>5.0</td>\n",
       "      <td>NaN</td>\n",
       "      <td>NaN</td>\n",
       "      <td>NaN</td>\n",
       "      <td>NaN</td>\n",
       "      <td>NaN</td>\n",
       "      <td>NaN</td>\n",
       "    </tr>\n",
       "    <tr>\n",
       "      <th>2880000.00</th>\n",
       "      <td>NaN</td>\n",
       "      <td>NaN</td>\n",
       "      <td>NaN</td>\n",
       "      <td>NaN</td>\n",
       "      <td>NaN</td>\n",
       "      <td>NaN</td>\n",
       "      <td>NaN</td>\n",
       "      <td>NaN</td>\n",
       "      <td>NaN</td>\n",
       "      <td>NaN</td>\n",
       "      <td>2.0</td>\n",
       "      <td>NaN</td>\n",
       "      <td>NaN</td>\n",
       "      <td>NaN</td>\n",
       "      <td>NaN</td>\n",
       "      <td>NaN</td>\n",
       "      <td>NaN</td>\n",
       "    </tr>\n",
       "    <tr>\n",
       "      <th>3000000.00</th>\n",
       "      <td>NaN</td>\n",
       "      <td>1.0</td>\n",
       "      <td>NaN</td>\n",
       "      <td>NaN</td>\n",
       "      <td>1.0</td>\n",
       "      <td>NaN</td>\n",
       "      <td>NaN</td>\n",
       "      <td>NaN</td>\n",
       "      <td>NaN</td>\n",
       "      <td>NaN</td>\n",
       "      <td>1.0</td>\n",
       "      <td>NaN</td>\n",
       "      <td>NaN</td>\n",
       "      <td>NaN</td>\n",
       "      <td>NaN</td>\n",
       "      <td>NaN</td>\n",
       "      <td>NaN</td>\n",
       "    </tr>\n",
       "    <tr>\n",
       "      <th>3500000.00</th>\n",
       "      <td>NaN</td>\n",
       "      <td>NaN</td>\n",
       "      <td>NaN</td>\n",
       "      <td>NaN</td>\n",
       "      <td>NaN</td>\n",
       "      <td>1.0</td>\n",
       "      <td>NaN</td>\n",
       "      <td>NaN</td>\n",
       "      <td>NaN</td>\n",
       "      <td>NaN</td>\n",
       "      <td>NaN</td>\n",
       "      <td>NaN</td>\n",
       "      <td>NaN</td>\n",
       "      <td>NaN</td>\n",
       "      <td>NaN</td>\n",
       "      <td>NaN</td>\n",
       "      <td>NaN</td>\n",
       "    </tr>\n",
       "    <tr>\n",
       "      <th>4000000.00</th>\n",
       "      <td>NaN</td>\n",
       "      <td>NaN</td>\n",
       "      <td>NaN</td>\n",
       "      <td>NaN</td>\n",
       "      <td>1.0</td>\n",
       "      <td>NaN</td>\n",
       "      <td>NaN</td>\n",
       "      <td>NaN</td>\n",
       "      <td>NaN</td>\n",
       "      <td>NaN</td>\n",
       "      <td>1.0</td>\n",
       "      <td>NaN</td>\n",
       "      <td>NaN</td>\n",
       "      <td>1.0</td>\n",
       "      <td>NaN</td>\n",
       "      <td>NaN</td>\n",
       "      <td>NaN</td>\n",
       "    </tr>\n",
       "    <tr>\n",
       "      <th>4150000.00</th>\n",
       "      <td>NaN</td>\n",
       "      <td>NaN</td>\n",
       "      <td>NaN</td>\n",
       "      <td>NaN</td>\n",
       "      <td>NaN</td>\n",
       "      <td>NaN</td>\n",
       "      <td>NaN</td>\n",
       "      <td>NaN</td>\n",
       "      <td>NaN</td>\n",
       "      <td>NaN</td>\n",
       "      <td>4.0</td>\n",
       "      <td>NaN</td>\n",
       "      <td>NaN</td>\n",
       "      <td>NaN</td>\n",
       "      <td>NaN</td>\n",
       "      <td>NaN</td>\n",
       "      <td>NaN</td>\n",
       "    </tr>\n",
       "    <tr>\n",
       "      <th>4239195.00</th>\n",
       "      <td>NaN</td>\n",
       "      <td>2.0</td>\n",
       "      <td>NaN</td>\n",
       "      <td>NaN</td>\n",
       "      <td>NaN</td>\n",
       "      <td>NaN</td>\n",
       "      <td>NaN</td>\n",
       "      <td>NaN</td>\n",
       "      <td>NaN</td>\n",
       "      <td>NaN</td>\n",
       "      <td>NaN</td>\n",
       "      <td>NaN</td>\n",
       "      <td>NaN</td>\n",
       "      <td>NaN</td>\n",
       "      <td>NaN</td>\n",
       "      <td>NaN</td>\n",
       "      <td>NaN</td>\n",
       "    </tr>\n",
       "    <tr>\n",
       "      <th>5000000.00</th>\n",
       "      <td>NaN</td>\n",
       "      <td>NaN</td>\n",
       "      <td>NaN</td>\n",
       "      <td>NaN</td>\n",
       "      <td>NaN</td>\n",
       "      <td>NaN</td>\n",
       "      <td>NaN</td>\n",
       "      <td>NaN</td>\n",
       "      <td>NaN</td>\n",
       "      <td>NaN</td>\n",
       "      <td>2.0</td>\n",
       "      <td>NaN</td>\n",
       "      <td>NaN</td>\n",
       "      <td>NaN</td>\n",
       "      <td>NaN</td>\n",
       "      <td>NaN</td>\n",
       "      <td>NaN</td>\n",
       "    </tr>\n",
       "    <tr>\n",
       "      <th>5700000.00</th>\n",
       "      <td>NaN</td>\n",
       "      <td>NaN</td>\n",
       "      <td>NaN</td>\n",
       "      <td>NaN</td>\n",
       "      <td>NaN</td>\n",
       "      <td>NaN</td>\n",
       "      <td>NaN</td>\n",
       "      <td>NaN</td>\n",
       "      <td>NaN</td>\n",
       "      <td>NaN</td>\n",
       "      <td>2.0</td>\n",
       "      <td>NaN</td>\n",
       "      <td>NaN</td>\n",
       "      <td>NaN</td>\n",
       "      <td>NaN</td>\n",
       "      <td>NaN</td>\n",
       "      <td>NaN</td>\n",
       "    </tr>\n",
       "    <tr>\n",
       "      <th>5860000.00</th>\n",
       "      <td>NaN</td>\n",
       "      <td>NaN</td>\n",
       "      <td>NaN</td>\n",
       "      <td>NaN</td>\n",
       "      <td>NaN</td>\n",
       "      <td>NaN</td>\n",
       "      <td>NaN</td>\n",
       "      <td>NaN</td>\n",
       "      <td>NaN</td>\n",
       "      <td>NaN</td>\n",
       "      <td>1.0</td>\n",
       "      <td>NaN</td>\n",
       "      <td>NaN</td>\n",
       "      <td>NaN</td>\n",
       "      <td>NaN</td>\n",
       "      <td>NaN</td>\n",
       "      <td>NaN</td>\n",
       "    </tr>\n",
       "    <tr>\n",
       "      <th>6080000.00</th>\n",
       "      <td>NaN</td>\n",
       "      <td>NaN</td>\n",
       "      <td>NaN</td>\n",
       "      <td>NaN</td>\n",
       "      <td>NaN</td>\n",
       "      <td>1.0</td>\n",
       "      <td>NaN</td>\n",
       "      <td>NaN</td>\n",
       "      <td>NaN</td>\n",
       "      <td>NaN</td>\n",
       "      <td>NaN</td>\n",
       "      <td>NaN</td>\n",
       "      <td>NaN</td>\n",
       "      <td>NaN</td>\n",
       "      <td>NaN</td>\n",
       "      <td>NaN</td>\n",
       "      <td>NaN</td>\n",
       "    </tr>\n",
       "    <tr>\n",
       "      <th>7010000.00</th>\n",
       "      <td>NaN</td>\n",
       "      <td>NaN</td>\n",
       "      <td>NaN</td>\n",
       "      <td>NaN</td>\n",
       "      <td>NaN</td>\n",
       "      <td>1.0</td>\n",
       "      <td>NaN</td>\n",
       "      <td>NaN</td>\n",
       "      <td>NaN</td>\n",
       "      <td>NaN</td>\n",
       "      <td>NaN</td>\n",
       "      <td>NaN</td>\n",
       "      <td>NaN</td>\n",
       "      <td>NaN</td>\n",
       "      <td>NaN</td>\n",
       "      <td>NaN</td>\n",
       "      <td>NaN</td>\n",
       "    </tr>\n",
       "    <tr>\n",
       "      <th>7050000.00</th>\n",
       "      <td>NaN</td>\n",
       "      <td>NaN</td>\n",
       "      <td>NaN</td>\n",
       "      <td>NaN</td>\n",
       "      <td>NaN</td>\n",
       "      <td>1.0</td>\n",
       "      <td>NaN</td>\n",
       "      <td>NaN</td>\n",
       "      <td>NaN</td>\n",
       "      <td>NaN</td>\n",
       "      <td>NaN</td>\n",
       "      <td>NaN</td>\n",
       "      <td>NaN</td>\n",
       "      <td>NaN</td>\n",
       "      <td>NaN</td>\n",
       "      <td>NaN</td>\n",
       "      <td>NaN</td>\n",
       "    </tr>\n",
       "    <tr>\n",
       "      <th>8478390.00</th>\n",
       "      <td>NaN</td>\n",
       "      <td>1.0</td>\n",
       "      <td>NaN</td>\n",
       "      <td>NaN</td>\n",
       "      <td>NaN</td>\n",
       "      <td>NaN</td>\n",
       "      <td>NaN</td>\n",
       "      <td>NaN</td>\n",
       "      <td>NaN</td>\n",
       "      <td>NaN</td>\n",
       "      <td>NaN</td>\n",
       "      <td>NaN</td>\n",
       "      <td>NaN</td>\n",
       "      <td>NaN</td>\n",
       "      <td>NaN</td>\n",
       "      <td>NaN</td>\n",
       "      <td>NaN</td>\n",
       "    </tr>\n",
       "    <tr>\n",
       "      <th>8500000.00</th>\n",
       "      <td>NaN</td>\n",
       "      <td>NaN</td>\n",
       "      <td>NaN</td>\n",
       "      <td>NaN</td>\n",
       "      <td>1.0</td>\n",
       "      <td>NaN</td>\n",
       "      <td>NaN</td>\n",
       "      <td>NaN</td>\n",
       "      <td>NaN</td>\n",
       "      <td>NaN</td>\n",
       "      <td>NaN</td>\n",
       "      <td>NaN</td>\n",
       "      <td>NaN</td>\n",
       "      <td>NaN</td>\n",
       "      <td>NaN</td>\n",
       "      <td>NaN</td>\n",
       "      <td>NaN</td>\n",
       "    </tr>\n",
       "    <tr>\n",
       "      <th>8588736.00</th>\n",
       "      <td>NaN</td>\n",
       "      <td>NaN</td>\n",
       "      <td>NaN</td>\n",
       "      <td>NaN</td>\n",
       "      <td>NaN</td>\n",
       "      <td>1.0</td>\n",
       "      <td>NaN</td>\n",
       "      <td>NaN</td>\n",
       "      <td>NaN</td>\n",
       "      <td>NaN</td>\n",
       "      <td>NaN</td>\n",
       "      <td>NaN</td>\n",
       "      <td>NaN</td>\n",
       "      <td>NaN</td>\n",
       "      <td>NaN</td>\n",
       "      <td>NaN</td>\n",
       "      <td>NaN</td>\n",
       "    </tr>\n",
       "    <tr>\n",
       "      <th>9000000.00</th>\n",
       "      <td>NaN</td>\n",
       "      <td>NaN</td>\n",
       "      <td>NaN</td>\n",
       "      <td>NaN</td>\n",
       "      <td>NaN</td>\n",
       "      <td>1.0</td>\n",
       "      <td>NaN</td>\n",
       "      <td>NaN</td>\n",
       "      <td>NaN</td>\n",
       "      <td>NaN</td>\n",
       "      <td>NaN</td>\n",
       "      <td>NaN</td>\n",
       "      <td>NaN</td>\n",
       "      <td>NaN</td>\n",
       "      <td>NaN</td>\n",
       "      <td>NaN</td>\n",
       "      <td>NaN</td>\n",
       "    </tr>\n",
       "    <tr>\n",
       "      <th>9501974.67</th>\n",
       "      <td>NaN</td>\n",
       "      <td>1.0</td>\n",
       "      <td>NaN</td>\n",
       "      <td>NaN</td>\n",
       "      <td>NaN</td>\n",
       "      <td>NaN</td>\n",
       "      <td>NaN</td>\n",
       "      <td>NaN</td>\n",
       "      <td>NaN</td>\n",
       "      <td>NaN</td>\n",
       "      <td>NaN</td>\n",
       "      <td>NaN</td>\n",
       "      <td>NaN</td>\n",
       "      <td>NaN</td>\n",
       "      <td>NaN</td>\n",
       "      <td>NaN</td>\n",
       "      <td>NaN</td>\n",
       "    </tr>\n",
       "    <tr>\n",
       "      <th>9904752.00</th>\n",
       "      <td>NaN</td>\n",
       "      <td>NaN</td>\n",
       "      <td>NaN</td>\n",
       "      <td>NaN</td>\n",
       "      <td>NaN</td>\n",
       "      <td>1.0</td>\n",
       "      <td>NaN</td>\n",
       "      <td>NaN</td>\n",
       "      <td>NaN</td>\n",
       "      <td>NaN</td>\n",
       "      <td>NaN</td>\n",
       "      <td>NaN</td>\n",
       "      <td>NaN</td>\n",
       "      <td>NaN</td>\n",
       "      <td>NaN</td>\n",
       "      <td>NaN</td>\n",
       "      <td>NaN</td>\n",
       "    </tr>\n",
       "    <tr>\n",
       "      <th>9956700.00</th>\n",
       "      <td>NaN</td>\n",
       "      <td>NaN</td>\n",
       "      <td>NaN</td>\n",
       "      <td>NaN</td>\n",
       "      <td>NaN</td>\n",
       "      <td>1.0</td>\n",
       "      <td>NaN</td>\n",
       "      <td>NaN</td>\n",
       "      <td>NaN</td>\n",
       "      <td>NaN</td>\n",
       "      <td>NaN</td>\n",
       "      <td>NaN</td>\n",
       "      <td>NaN</td>\n",
       "      <td>NaN</td>\n",
       "      <td>NaN</td>\n",
       "      <td>NaN</td>\n",
       "      <td>NaN</td>\n",
       "    </tr>\n",
       "    <tr>\n",
       "      <th>10000000.00</th>\n",
       "      <td>NaN</td>\n",
       "      <td>NaN</td>\n",
       "      <td>NaN</td>\n",
       "      <td>NaN</td>\n",
       "      <td>1.0</td>\n",
       "      <td>NaN</td>\n",
       "      <td>NaN</td>\n",
       "      <td>NaN</td>\n",
       "      <td>NaN</td>\n",
       "      <td>NaN</td>\n",
       "      <td>NaN</td>\n",
       "      <td>NaN</td>\n",
       "      <td>NaN</td>\n",
       "      <td>NaN</td>\n",
       "      <td>NaN</td>\n",
       "      <td>NaN</td>\n",
       "      <td>NaN</td>\n",
       "    </tr>\n",
       "    <tr>\n",
       "      <th>12500000.00</th>\n",
       "      <td>NaN</td>\n",
       "      <td>NaN</td>\n",
       "      <td>NaN</td>\n",
       "      <td>NaN</td>\n",
       "      <td>1.0</td>\n",
       "      <td>NaN</td>\n",
       "      <td>NaN</td>\n",
       "      <td>NaN</td>\n",
       "      <td>NaN</td>\n",
       "      <td>NaN</td>\n",
       "      <td>NaN</td>\n",
       "      <td>NaN</td>\n",
       "      <td>NaN</td>\n",
       "      <td>NaN</td>\n",
       "      <td>NaN</td>\n",
       "      <td>NaN</td>\n",
       "      <td>NaN</td>\n",
       "    </tr>\n",
       "  </tbody>\n",
       "</table>\n",
       "<p>567 rows × 17 columns</p>\n",
       "</div>"
      ],
      "text/plain": [
       "ID_PROPOSITION   51   52   53  54   55   56   57  58   59   60    61     62  \\\n",
       "AMOUNT                                                                        \n",
       "-8478390.00     NaN  1.0  NaN NaN  NaN  NaN  NaN NaN  NaN  NaN   NaN    NaN   \n",
       "-150000.00      NaN  NaN  NaN NaN  NaN  NaN  NaN NaN  NaN  NaN   NaN    NaN   \n",
       "-27000.00       1.0  NaN  NaN NaN  NaN  NaN  NaN NaN  NaN  NaN   NaN    NaN   \n",
       "-15000.00       NaN  NaN  NaN NaN  NaN  NaN  NaN NaN  NaN  NaN   NaN    NaN   \n",
       "-9000.00        1.0  NaN  NaN NaN  NaN  NaN  NaN NaN  NaN  NaN   NaN    NaN   \n",
       "-5000.00        NaN  NaN  NaN NaN  NaN  NaN  NaN NaN  NaN  NaN   NaN    NaN   \n",
       "-2500.00        NaN  NaN  NaN NaN  NaN  NaN  NaN NaN  NaN  NaN   NaN    NaN   \n",
       "-2450.00        NaN  NaN  NaN NaN  NaN  NaN  NaN NaN  NaN  NaN   NaN    NaN   \n",
       "-1000.00        NaN  NaN  NaN NaN  NaN  NaN  NaN NaN  NaN  1.0   NaN    1.0   \n",
       "-900.00         NaN  NaN  NaN NaN  NaN  NaN  NaN NaN  1.0  NaN   NaN    NaN   \n",
       "-500.00         NaN  NaN  NaN NaN  NaN  NaN  1.0 NaN  NaN  NaN   NaN    NaN   \n",
       "-450.00         NaN  NaN  NaN NaN  NaN  NaN  NaN NaN  NaN  NaN   NaN    NaN   \n",
       "-300.00         NaN  NaN  NaN NaN  NaN  NaN  NaN NaN  NaN  NaN   NaN    NaN   \n",
       "-250.00         NaN  NaN  NaN NaN  NaN  NaN  NaN NaN  NaN  NaN   NaN    1.0   \n",
       "-109.34         NaN  NaN  NaN NaN  NaN  NaN  NaN NaN  1.0  NaN   NaN    NaN   \n",
       "-100.00         NaN  NaN  NaN NaN  NaN  NaN  NaN NaN  NaN  NaN   1.0    1.0   \n",
       "-50.00          NaN  NaN  NaN NaN  NaN  NaN  NaN NaN  1.0  NaN   NaN    NaN   \n",
       "-25.00          NaN  NaN  NaN NaN  NaN  NaN  NaN NaN  NaN  NaN   NaN    NaN   \n",
       "-20.00          NaN  NaN  NaN NaN  NaN  NaN  NaN NaN  NaN  NaN   NaN    NaN   \n",
       " 0.00           NaN  NaN  NaN NaN  NaN  NaN  NaN NaN  NaN  NaN   NaN    NaN   \n",
       " 1.00           NaN  NaN  NaN NaN  NaN  NaN  NaN NaN  NaN  NaN   9.0    NaN   \n",
       " 1.50           NaN  NaN  NaN NaN  NaN  NaN  NaN NaN  NaN  NaN   NaN    4.0   \n",
       " 2.00           NaN  NaN  NaN NaN  NaN  NaN  NaN NaN  NaN  NaN   6.0    NaN   \n",
       " 2.30           NaN  NaN  NaN NaN  NaN  NaN  NaN NaN  NaN  NaN   NaN    NaN   \n",
       " 3.00           NaN  NaN  NaN NaN  NaN  NaN  NaN NaN  1.0  NaN  53.0   42.0   \n",
       " 3.34           NaN  NaN  NaN NaN  NaN  NaN  NaN NaN  1.0  NaN   NaN    NaN   \n",
       " 4.00           NaN  NaN  NaN NaN  NaN  NaN  NaN NaN  NaN  NaN   1.0    3.0   \n",
       " 4.30           NaN  NaN  NaN NaN  NaN  NaN  NaN NaN  NaN  NaN   1.0    NaN   \n",
       " 5.00           NaN  NaN  NaN NaN  NaN  NaN  NaN NaN  8.0  1.0  66.0  234.0   \n",
       " 5.40           NaN  NaN  NaN NaN  NaN  NaN  NaN NaN  1.0  NaN   2.0    3.0   \n",
       "...             ...  ...  ...  ..  ...  ...  ...  ..  ...  ...   ...    ...   \n",
       " 2018768.00     NaN  NaN  NaN NaN  NaN  NaN  NaN NaN  NaN  NaN   1.0    NaN   \n",
       " 2080335.00     NaN  2.0  NaN NaN  NaN  NaN  NaN NaN  NaN  NaN   NaN    NaN   \n",
       " 2089646.00     NaN  NaN  NaN NaN  NaN  NaN  NaN NaN  NaN  NaN   1.0    NaN   \n",
       " 2208395.00     NaN  NaN  NaN NaN  NaN  NaN  NaN NaN  NaN  NaN   2.0    NaN   \n",
       " 2300000.00     NaN  NaN  NaN NaN  NaN  1.0  NaN NaN  NaN  NaN   NaN    NaN   \n",
       " 2400000.00     NaN  NaN  1.0 NaN  NaN  NaN  NaN NaN  NaN  NaN   NaN    NaN   \n",
       " 2416560.00     NaN  1.0  NaN NaN  NaN  NaN  NaN NaN  NaN  NaN   NaN    NaN   \n",
       " 2500000.00     NaN  NaN  NaN NaN  2.0  1.0  NaN NaN  NaN  NaN   NaN    NaN   \n",
       " 2800000.00     NaN  NaN  NaN NaN  NaN  NaN  NaN NaN  NaN  NaN   5.0    NaN   \n",
       " 2880000.00     NaN  NaN  NaN NaN  NaN  NaN  NaN NaN  NaN  NaN   2.0    NaN   \n",
       " 3000000.00     NaN  1.0  NaN NaN  1.0  NaN  NaN NaN  NaN  NaN   1.0    NaN   \n",
       " 3500000.00     NaN  NaN  NaN NaN  NaN  1.0  NaN NaN  NaN  NaN   NaN    NaN   \n",
       " 4000000.00     NaN  NaN  NaN NaN  1.0  NaN  NaN NaN  NaN  NaN   1.0    NaN   \n",
       " 4150000.00     NaN  NaN  NaN NaN  NaN  NaN  NaN NaN  NaN  NaN   4.0    NaN   \n",
       " 4239195.00     NaN  2.0  NaN NaN  NaN  NaN  NaN NaN  NaN  NaN   NaN    NaN   \n",
       " 5000000.00     NaN  NaN  NaN NaN  NaN  NaN  NaN NaN  NaN  NaN   2.0    NaN   \n",
       " 5700000.00     NaN  NaN  NaN NaN  NaN  NaN  NaN NaN  NaN  NaN   2.0    NaN   \n",
       " 5860000.00     NaN  NaN  NaN NaN  NaN  NaN  NaN NaN  NaN  NaN   1.0    NaN   \n",
       " 6080000.00     NaN  NaN  NaN NaN  NaN  1.0  NaN NaN  NaN  NaN   NaN    NaN   \n",
       " 7010000.00     NaN  NaN  NaN NaN  NaN  1.0  NaN NaN  NaN  NaN   NaN    NaN   \n",
       " 7050000.00     NaN  NaN  NaN NaN  NaN  1.0  NaN NaN  NaN  NaN   NaN    NaN   \n",
       " 8478390.00     NaN  1.0  NaN NaN  NaN  NaN  NaN NaN  NaN  NaN   NaN    NaN   \n",
       " 8500000.00     NaN  NaN  NaN NaN  1.0  NaN  NaN NaN  NaN  NaN   NaN    NaN   \n",
       " 8588736.00     NaN  NaN  NaN NaN  NaN  1.0  NaN NaN  NaN  NaN   NaN    NaN   \n",
       " 9000000.00     NaN  NaN  NaN NaN  NaN  1.0  NaN NaN  NaN  NaN   NaN    NaN   \n",
       " 9501974.67     NaN  1.0  NaN NaN  NaN  NaN  NaN NaN  NaN  NaN   NaN    NaN   \n",
       " 9904752.00     NaN  NaN  NaN NaN  NaN  1.0  NaN NaN  NaN  NaN   NaN    NaN   \n",
       " 9956700.00     NaN  NaN  NaN NaN  NaN  1.0  NaN NaN  NaN  NaN   NaN    NaN   \n",
       " 10000000.00    NaN  NaN  NaN NaN  1.0  NaN  NaN NaN  NaN  NaN   NaN    NaN   \n",
       " 12500000.00    NaN  NaN  NaN NaN  1.0  NaN  NaN NaN  NaN  NaN   NaN    NaN   \n",
       "\n",
       "ID_PROPOSITION     63   64  65     66   67  \n",
       "AMOUNT                                      \n",
       "-8478390.00       NaN  NaN NaN    NaN  NaN  \n",
       "-150000.00        NaN  1.0 NaN    NaN  NaN  \n",
       "-27000.00         NaN  NaN NaN    NaN  NaN  \n",
       "-15000.00         1.0  NaN NaN    NaN  NaN  \n",
       "-9000.00          NaN  NaN NaN    NaN  NaN  \n",
       "-5000.00          1.0  NaN NaN    NaN  NaN  \n",
       "-2500.00          1.0  NaN NaN    NaN  NaN  \n",
       "-2450.00          1.0  NaN NaN    NaN  NaN  \n",
       "-1000.00          1.0  NaN NaN    1.0  NaN  \n",
       "-900.00           NaN  1.0 NaN    NaN  NaN  \n",
       "-500.00           3.0  NaN NaN    NaN  NaN  \n",
       "-450.00           1.0  NaN NaN    NaN  NaN  \n",
       "-300.00           1.0  NaN NaN    NaN  NaN  \n",
       "-250.00           2.0  NaN NaN    1.0  NaN  \n",
       "-109.34           NaN  NaN NaN    NaN  NaN  \n",
       "-100.00          18.0  3.0 NaN    1.0  NaN  \n",
       "-50.00            1.0  2.0 NaN    NaN  NaN  \n",
       "-25.00            2.0  NaN NaN    NaN  NaN  \n",
       "-20.00            4.0  NaN NaN    NaN  NaN  \n",
       " 0.00            14.0  NaN NaN    NaN  1.0  \n",
       " 1.00             8.0  NaN NaN    NaN  NaN  \n",
       " 1.50             NaN  NaN NaN    4.0  NaN  \n",
       " 2.00             6.0  NaN NaN    NaN  NaN  \n",
       " 2.30             2.0  NaN NaN    NaN  NaN  \n",
       " 3.00             NaN  NaN NaN   42.0  NaN  \n",
       " 3.34             NaN  NaN NaN    NaN  NaN  \n",
       " 4.00             NaN  NaN NaN    3.0  NaN  \n",
       " 4.30             NaN  NaN NaN    NaN  NaN  \n",
       " 5.00           196.0  NaN NaN  234.0  NaN  \n",
       " 5.40             NaN  NaN NaN    3.0  NaN  \n",
       "...               ...  ...  ..    ...  ...  \n",
       " 2018768.00       NaN  NaN NaN    NaN  NaN  \n",
       " 2080335.00       NaN  NaN NaN    NaN  NaN  \n",
       " 2089646.00       NaN  NaN NaN    NaN  NaN  \n",
       " 2208395.00       NaN  NaN NaN    NaN  NaN  \n",
       " 2300000.00       NaN  NaN NaN    NaN  NaN  \n",
       " 2400000.00       NaN  NaN NaN    NaN  NaN  \n",
       " 2416560.00       NaN  NaN NaN    NaN  NaN  \n",
       " 2500000.00       NaN  NaN NaN    NaN  NaN  \n",
       " 2800000.00       NaN  NaN NaN    NaN  NaN  \n",
       " 2880000.00       NaN  NaN NaN    NaN  NaN  \n",
       " 3000000.00       NaN  NaN NaN    NaN  NaN  \n",
       " 3500000.00       NaN  NaN NaN    NaN  NaN  \n",
       " 4000000.00       NaN  1.0 NaN    NaN  NaN  \n",
       " 4150000.00       NaN  NaN NaN    NaN  NaN  \n",
       " 4239195.00       NaN  NaN NaN    NaN  NaN  \n",
       " 5000000.00       NaN  NaN NaN    NaN  NaN  \n",
       " 5700000.00       NaN  NaN NaN    NaN  NaN  \n",
       " 5860000.00       NaN  NaN NaN    NaN  NaN  \n",
       " 6080000.00       NaN  NaN NaN    NaN  NaN  \n",
       " 7010000.00       NaN  NaN NaN    NaN  NaN  \n",
       " 7050000.00       NaN  NaN NaN    NaN  NaN  \n",
       " 8478390.00       NaN  NaN NaN    NaN  NaN  \n",
       " 8500000.00       NaN  NaN NaN    NaN  NaN  \n",
       " 8588736.00       NaN  NaN NaN    NaN  NaN  \n",
       " 9000000.00       NaN  NaN NaN    NaN  NaN  \n",
       " 9501974.67       NaN  NaN NaN    NaN  NaN  \n",
       " 9904752.00       NaN  NaN NaN    NaN  NaN  \n",
       " 9956700.00       NaN  NaN NaN    NaN  NaN  \n",
       " 10000000.00      NaN  NaN NaN    NaN  NaN  \n",
       " 12500000.00      NaN  NaN NaN    NaN  NaN  \n",
       "\n",
       "[567 rows x 17 columns]"
      ]
     },
     "execution_count": 21,
     "metadata": {},
     "output_type": "execute_result"
    }
   ],
   "source": [
    "groupbyPROPAMOUNT.unstack()"
   ]
  },
  {
   "cell_type": "code",
   "execution_count": 22,
   "metadata": {},
   "outputs": [
    {
     "data": {
      "text/plain": [
       "array([[<matplotlib.axes._subplots.AxesSubplot object at 0x7f87024bcb50>,\n",
       "        <matplotlib.axes._subplots.AxesSubplot object at 0x7f8701dc85d0>,\n",
       "        <matplotlib.axes._subplots.AxesSubplot object at 0x7f8701d1f410>,\n",
       "        <matplotlib.axes._subplots.AxesSubplot object at 0x7f8701ca6410>],\n",
       "       [<matplotlib.axes._subplots.AxesSubplot object at 0x7f8701c09e50>,\n",
       "        <matplotlib.axes._subplots.AxesSubplot object at 0x7f8701b8ef50>,\n",
       "        <matplotlib.axes._subplots.AxesSubplot object at 0x7f8701b694d0>,\n",
       "        <matplotlib.axes._subplots.AxesSubplot object at 0x7f8701af05d0>],\n",
       "       [<matplotlib.axes._subplots.AxesSubplot object at 0x7f8701a64050>,\n",
       "        <matplotlib.axes._subplots.AxesSubplot object at 0x7f87019e94d0>,\n",
       "        <matplotlib.axes._subplots.AxesSubplot object at 0x7f8701a1dd10>,\n",
       "        <matplotlib.axes._subplots.AxesSubplot object at 0x7f87018e3110>],\n",
       "       [<matplotlib.axes._subplots.AxesSubplot object at 0x7f870185bf50>,\n",
       "        <matplotlib.axes._subplots.AxesSubplot object at 0x7f87017cdc50>,\n",
       "        <matplotlib.axes._subplots.AxesSubplot object at 0x7f8701756bd0>,\n",
       "        <matplotlib.axes._subplots.AxesSubplot object at 0x7f87016c8390>],\n",
       "       [<matplotlib.axes._subplots.AxesSubplot object at 0x7f87016503d0>,\n",
       "        <matplotlib.axes._subplots.AxesSubplot object at 0x7f87015b4b90>,\n",
       "        <matplotlib.axes._subplots.AxesSubplot object at 0x7f870153cd50>,\n",
       "        <matplotlib.axes._subplots.AxesSubplot object at 0x7f870152f710>]], dtype=object)"
      ]
     },
     "execution_count": 22,
     "metadata": {},
     "output_type": "execute_result"
    },
    {
     "data": {
      "image/png": "[encoded data removed]",
      "text/plain": [
       "<matplotlib.figure.Figure at 0x7f87025f4690>"
      ]
     },
     "metadata": {},
     "output_type": "display_data"
    }
   ],
   "source": [
    "groupbyPROPAMOUNT.unstack().hist()"
   ]
  },
  {
   "cell_type": "code",
   "execution_count": 23,
   "metadata": {},
   "outputs": [
    {
     "data": {
      "text/plain": [
       "array([[<matplotlib.axes._subplots.AxesSubplot object at 0x7f87013ecc10>,\n",
       "        <matplotlib.axes._subplots.AxesSubplot object at 0x7f8701661f90>,\n",
       "        <matplotlib.axes._subplots.AxesSubplot object at 0x7f8700eceed0>,\n",
       "        <matplotlib.axes._subplots.AxesSubplot object at 0x7f8700e39910>],\n",
       "       [<matplotlib.axes._subplots.AxesSubplot object at 0x7f8700db9950>,\n",
       "        <matplotlib.axes._subplots.AxesSubplot object at 0x7f8700da8150>,\n",
       "        <matplotlib.axes._subplots.AxesSubplot object at 0x7f8700d30310>,\n",
       "        <matplotlib.axes._subplots.AxesSubplot object at 0x7f8700c97c90>],\n",
       "       [<matplotlib.axes._subplots.AxesSubplot object at 0x7f8700c1cf50>,\n",
       "        <matplotlib.axes._subplots.AxesSubplot object at 0x7f8700c33790>,\n",
       "        <matplotlib.axes._subplots.AxesSubplot object at 0x7f8700b17410>,\n",
       "        <matplotlib.axes._subplots.AxesSubplot object at 0x7f8700a9e450>],\n",
       "       [<matplotlib.axes._subplots.AxesSubplot object at 0x7f8700a10810>,\n",
       "        <matplotlib.axes._subplots.AxesSubplot object at 0x7f8700995790>,\n",
       "        <matplotlib.axes._subplots.AxesSubplot object at 0x7f87008fcfd0>,\n",
       "        <matplotlib.axes._subplots.AxesSubplot object at 0x7f8700892050>],\n",
       "       [<matplotlib.axes._subplots.AxesSubplot object at 0x7f87007f8810>,\n",
       "        <matplotlib.axes._subplots.AxesSubplot object at 0x7f870077d9d0>,\n",
       "        <matplotlib.axes._subplots.AxesSubplot object at 0x7f87006f3390>,\n",
       "        <matplotlib.axes._subplots.AxesSubplot object at 0x7f8700679550>]], dtype=object)"
      ]
     },
     "execution_count": 23,
     "metadata": {},
     "output_type": "execute_result"
    },
    {
     "data": {
      "image/png": "[encoded data removed]",
      "text/plain": [
       "<matplotlib.figure.Figure at 0x7f87014151d0>"
      ]
     },
     "metadata": {},
     "output_type": "display_data"
    }
   ],
   "source": [
    "groupbyPROPAMOUNT.unstack().hist(figsize=(18,24))"
   ]
  },
  {
   "cell_type": "code",
   "execution_count": 24,
   "metadata": {
    "collapsed": true
   },
   "outputs": [],
   "source": [
    "resTotAllProp.drop(['FILING_ID','TYPE','TITLE','SUBJECT', 'DESCRIPTION', 'COMMITTEE_ID', 'AMEND_ID', 'CITY', 'STATE', 'ZIPCODE', 'EMPLOYER', 'OCCUPATION', 'DATE'], axis=1, inplace=True)"
   ]
  },
  {
   "cell_type": "code",
   "execution_count": 25,
   "metadata": {
    "collapsed": true
   },
   "outputs": [],
   "source": [
    "resTotAllProp['FIRST_NAME'].fillna('PJ', inplace=True)"
   ]
  },
  {
   "cell_type": "code",
   "execution_count": 26,
   "metadata": {
    "collapsed": true
   },
   "outputs": [],
   "source": [
    "resTotAllProp['WHO'] = resTotAllProp.apply( lambda row: define_pjpf( row ), axis=1)"
   ]
  },
  {
   "cell_type": "code",
   "execution_count": 27,
   "metadata": {
    "collapsed": true
   },
   "outputs": [],
   "source": [
    "resTotAllProp.drop(['FIRST_NAME','LAST_NAME','COMMITTEE_NAME'], axis=1, inplace=True)"
   ]
  },
  {
   "cell_type": "code",
   "execution_count": 28,
   "metadata": {},
   "outputs": [
    {
     "name": "stdout",
     "output_type": "stream",
     "text": [
      "<class 'pandas.core.frame.DataFrame'>\n",
      "Int64Index: 86786 entries, 0 to 86785\n",
      "Data columns (total 5 columns):\n",
      "RESULT                86786 non-null object\n",
      "ID_PROPOSITION        86786 non-null int64\n",
      "COMMITTEE_POSITION    86786 non-null object\n",
      "AMOUNT                86786 non-null float64\n",
      "WHO                   86786 non-null object\n",
      "dtypes: float64(1), int64(1), object(3)\n",
      "memory usage: 4.0+ MB\n",
      "None\n"
     ]
    }
   ],
   "source": [
    "print resTotAllProp.info()"
   ]
  },
  {
   "cell_type": "code",
   "execution_count": 29,
   "metadata": {},
   "outputs": [
    {
     "name": "stdout",
     "output_type": "stream",
     "text": [
      "      RESULT  ID_PROPOSITION COMMITTEE_POSITION   AMOUNT WHO\n",
      "0   APPROVED              51            SUPPORT  75000.0  PJ\n",
      "1   APPROVED              51            SUPPORT    100.0  PJ\n",
      "2   APPROVED              51            SUPPORT    250.0  PF\n",
      "3   APPROVED              51            SUPPORT   5000.0  PJ\n",
      "4   APPROVED              51            SUPPORT   5000.0  PJ\n",
      "5   APPROVED              51            SUPPORT   1000.0  PJ\n",
      "6   APPROVED              51            SUPPORT    500.0  PJ\n",
      "7   APPROVED              51            SUPPORT   5000.0  PJ\n",
      "8   APPROVED              51            SUPPORT   5000.0  PJ\n",
      "9   APPROVED              51            SUPPORT   2500.0  PJ\n",
      "10  APPROVED              51            SUPPORT   1500.0  PJ\n",
      "11  APPROVED              51            SUPPORT    500.0  PJ\n",
      "12  APPROVED              51            SUPPORT   2000.0  PJ\n",
      "13  APPROVED              51            SUPPORT   1000.0  PJ\n",
      "14  APPROVED              51            SUPPORT   1000.0  PJ\n"
     ]
    }
   ],
   "source": [
    "print resTotAllProp.head(15)"
   ]
  },
  {
   "cell_type": "code",
   "execution_count": 30,
   "metadata": {
    "collapsed": true
   },
   "outputs": [],
   "source": [
    "AllSum = resTotAllProp.groupby(['COMMITTEE_POSITION', 'WHO', 'RESULT'])[[\"AMOUNT\"]].sum().reset_index()"
   ]
  },
  {
   "cell_type": "code",
   "execution_count": 31,
   "metadata": {
    "collapsed": true
   },
   "outputs": [],
   "source": [
    "AllQntd = resTotAllProp.groupby(['COMMITTEE_POSITION', 'WHO', 'RESULT']).agg(['count']).reset_index()"
   ]
  },
  {
   "cell_type": "code",
   "execution_count": 32,
   "metadata": {
    "collapsed": true
   },
   "outputs": [],
   "source": [
    "ByPropAllSum = resTotAllProp.groupby(['COMMITTEE_POSITION', 'WHO', 'RESULT','ID_PROPOSITION'])[[\"AMOUNT\"]].sum().reset_index()"
   ]
  },
  {
   "cell_type": "code",
   "execution_count": 33,
   "metadata": {
    "collapsed": true
   },
   "outputs": [],
   "source": [
    "ByPropAllQntd = resTotAllProp.groupby(['COMMITTEE_POSITION', 'WHO', 'RESULT','ID_PROPOSITION']).agg(['count']).reset_index()"
   ]
  },
  {
   "cell_type": "code",
   "execution_count": 34,
   "metadata": {},
   "outputs": [
    {
     "name": "stdout",
     "output_type": "stream",
     "text": [
      "  COMMITTEE_POSITION WHO    RESULT        AMOUNT\n",
      "0             OPPOSE  PF  APPROVED  1.007718e+07\n",
      "1             OPPOSE  PF  DEFEATED  1.306227e+07\n",
      "2             OPPOSE  PJ  APPROVED  7.638551e+07\n",
      "3             OPPOSE  PJ  DEFEATED  1.324030e+08\n",
      "4            SUPPORT  PF  APPROVED  4.718351e+07\n",
      "5            SUPPORT  PF  DEFEATED  1.139205e+07\n",
      "6            SUPPORT  PJ  APPROVED  1.948609e+08\n",
      "7            SUPPORT  PJ  DEFEATED  3.884276e+07\n"
     ]
    }
   ],
   "source": [
    "print AllSum"
   ]
  },
  {
   "cell_type": "code",
   "execution_count": 35,
   "metadata": {},
   "outputs": [
    {
     "name": "stdout",
     "output_type": "stream",
     "text": [
      "  COMMITTEE_POSITION WHO    RESULT ID_PROPOSITION AMOUNT\n",
      "                                            count  count\n",
      "0             OPPOSE  PF  APPROVED          10142  10142\n",
      "1             OPPOSE  PF  DEFEATED          29026  29026\n",
      "2             OPPOSE  PJ  APPROVED            365    365\n",
      "3             OPPOSE  PJ  DEFEATED            660    660\n",
      "4            SUPPORT  PF  APPROVED          39033  39033\n",
      "5            SUPPORT  PF  DEFEATED           5449   5449\n",
      "6            SUPPORT  PJ  APPROVED           1970   1970\n",
      "7            SUPPORT  PJ  DEFEATED            141    141\n"
     ]
    }
   ],
   "source": [
    "print AllQntd"
   ]
  },
  {
   "cell_type": "markdown",
   "metadata": {},
   "source": [
    "#OS CSVs abaixo estao com arquivos -new, pois, já foram gerados previamente"
   ]
  },
  {
   "cell_type": "code",
   "execution_count": null,
   "metadata": {
    "collapsed": true
   },
   "outputs": [],
   "source": []
  },
  {
   "cell_type": "code",
   "execution_count": 36,
   "metadata": {
    "collapsed": true
   },
   "outputs": [],
   "source": [
    "ByPropAllSum.to_csv('SumAll-new.csv')"
   ]
  },
  {
   "cell_type": "code",
   "execution_count": 37,
   "metadata": {
    "collapsed": true
   },
   "outputs": [],
   "source": [
    "ByPropAllQntd.to_csv('QntdAll-new.csv')"
   ]
  },
  {
   "cell_type": "markdown",
   "metadata": {},
   "source": [
    "#Lendo os arquivos CSVs gerados previamente"
   ]
  },
  {
   "cell_type": "code",
   "execution_count": null,
   "metadata": {
    "collapsed": true
   },
   "outputs": [],
   "source": []
  },
  {
   "cell_type": "code",
   "execution_count": 38,
   "metadata": {
    "collapsed": true
   },
   "outputs": [],
   "source": [
    "pdSumAll = pd.read_csv(\"SumAll.csv\")"
   ]
  },
  {
   "cell_type": "code",
   "execution_count": 39,
   "metadata": {
    "collapsed": true
   },
   "outputs": [],
   "source": [
    "pdQntdAll = pd.read_csv(\"QntdAll.csv\")"
   ]
  },
  {
   "cell_type": "markdown",
   "metadata": {},
   "source": [
    "#REMOVENDO A COLUNA 0 ABAIXO, pois, é apenas um contador"
   ]
  },
  {
   "cell_type": "code",
   "execution_count": null,
   "metadata": {
    "collapsed": true
   },
   "outputs": [],
   "source": []
  },
  {
   "cell_type": "code",
   "execution_count": 40,
   "metadata": {
    "collapsed": true
   },
   "outputs": [],
   "source": [
    "pdSumAll.drop(pdSumAll.columns[[0]], axis=1, inplace=True )"
   ]
  },
  {
   "cell_type": "code",
   "execution_count": 41,
   "metadata": {
    "collapsed": true
   },
   "outputs": [],
   "source": [
    "pdQntdAll.drop(pdQntdAll.columns[[0]], axis=1, inplace=True )"
   ]
  },
  {
   "cell_type": "code",
   "execution_count": null,
   "metadata": {
    "collapsed": true
   },
   "outputs": [],
   "source": []
  },
  {
   "cell_type": "code",
   "execution_count": 42,
   "metadata": {
    "collapsed": true
   },
   "outputs": [],
   "source": [
    "BinresTotAllProp = pd.merge(left=pdSumAll, right=pdQntdAll, left_on=['ID_PROPOSITION','COMMITTEE_POSITION', 'WHO', 'RESULT' ], right_on=['ID_PROPOSITION', 'COMMITTEE_POSITION', 'WHO', 'RESULT' ] )"
   ]
  },
  {
   "cell_type": "code",
   "execution_count": 43,
   "metadata": {
    "collapsed": true
   },
   "outputs": [],
   "source": [
    "BinresTotAllProp = BinresTotAllProp[['COMMITTEE_POSITION','WHO','AMOUNT','QNTD', 'RESULT']]"
   ]
  },
  {
   "cell_type": "code",
   "execution_count": 44,
   "metadata": {},
   "outputs": [
    {
     "name": "stdout",
     "output_type": "stream",
     "text": [
      "   COMMITTEE_POSITION WHO        AMOUNT   QNTD    RESULT\n",
      "0              OPPOSE  PF  1.450000e+03      3  APPROVED\n",
      "1              OPPOSE  PF  1.037480e+05     93  APPROVED\n",
      "2              OPPOSE  PF  4.519730e+05   5864  APPROVED\n",
      "3              OPPOSE  PF  1.386980e+06     54  APPROVED\n",
      "4              OPPOSE  PF  8.133034e+06   4128  APPROVED\n",
      "5              OPPOSE  PF  3.614500e+06     40  DEFEATED\n",
      "6              OPPOSE  PF  5.812200e+04     56  DEFEATED\n",
      "7              OPPOSE  PF  9.389649e+06  28930  DEFEATED\n",
      "8              OPPOSE  PJ  3.526622e+06      3  APPROVED\n",
      "9              OPPOSE  PJ  5.468455e+07     43  APPROVED\n",
      "10             OPPOSE  PJ  1.124433e+06     60  APPROVED\n",
      "11             OPPOSE  PJ  2.383976e+05    105  APPROVED\n",
      "12             OPPOSE  PJ  1.107950e+06     40  APPROVED\n",
      "13             OPPOSE  PJ  9.766136e+06     68  APPROVED\n",
      "14             OPPOSE  PJ  5.937413e+06     46  APPROVED\n",
      "15             OPPOSE  PJ  1.768600e+07    148  DEFEATED\n",
      "16             OPPOSE  PJ  3.190990e+05     38  DEFEATED\n",
      "17             OPPOSE  PJ  1.084582e+08    112  DEFEATED\n",
      "18             OPPOSE  PJ  5.939697e+06    362  DEFEATED\n",
      "19            SUPPORT  PF  5.355000e+04     56  APPROVED\n",
      "20            SUPPORT  PF  1.729000e+04     20  APPROVED\n",
      "21            SUPPORT  PF  2.020750e+06     14  APPROVED\n",
      "22            SUPPORT  PF  1.400181e+07     62  APPROVED\n",
      "23            SUPPORT  PF  3.952300e+06     24  APPROVED\n",
      "24            SUPPORT  PF  1.800250e+06      9  APPROVED\n",
      "25            SUPPORT  PF  1.162521e+05    537  APPROVED\n",
      "26            SUPPORT  PF  2.539519e+06   5448  APPROVED\n",
      "27            SUPPORT  PF  1.258751e+07    695  APPROVED\n",
      "28            SUPPORT  PF  9.389649e+06  28930  APPROVED\n",
      "29            SUPPORT  PF  7.046325e+05   3238  APPROVED\n",
      "30            SUPPORT  PF  3.500000e+06      7  DEFEATED\n",
      "31            SUPPORT  PF  2.161925e+04    682  DEFEATED\n",
      "32            SUPPORT  PF  7.870429e+06   4760  DEFEATED\n",
      "33            SUPPORT  PJ  1.228023e+07   1017  APPROVED\n",
      "34            SUPPORT  PJ  5.993902e+07    142  APPROVED\n",
      "35            SUPPORT  PJ  1.335640e+05     11  APPROVED\n",
      "36            SUPPORT  PJ  5.470592e+07     57  APPROVED\n",
      "37            SUPPORT  PJ  2.085972e+07     62  APPROVED\n",
      "38            SUPPORT  PJ  1.611598e+07     71  APPROVED\n",
      "39            SUPPORT  PJ  2.609200e+06     63  APPROVED\n",
      "40            SUPPORT  PJ  1.422945e+05     24  APPROVED\n",
      "41            SUPPORT  PJ  2.903500e+05      9  APPROVED\n",
      "42            SUPPORT  PJ  2.011428e+07     69  APPROVED\n",
      "43            SUPPORT  PJ  6.371497e+06    367  APPROVED\n",
      "44            SUPPORT  PJ  1.298799e+06     78  APPROVED\n",
      "45            SUPPORT  PJ  4.655000e+06     21  DEFEATED\n",
      "46            SUPPORT  PJ  1.967617e+07     24  DEFEATED\n",
      "47            SUPPORT  PJ  8.574180e+06     50  DEFEATED\n",
      "48            SUPPORT  PJ  5.937413e+06     46  DEFEATED\n"
     ]
    }
   ],
   "source": [
    "print BinresTotAllProp"
   ]
  },
  {
   "cell_type": "markdown",
   "metadata": {},
   "source": [
    "#\"\"\"\n",
    "#PREPARaCAO DA ARVORE\n",
    "#\"\"\""
   ]
  },
  {
   "cell_type": "code",
   "execution_count": 45,
   "metadata": {
    "collapsed": true
   },
   "outputs": [],
   "source": [
    "enc = LabelEncoder()"
   ]
  },
  {
   "cell_type": "code",
   "execution_count": null,
   "metadata": {
    "collapsed": true
   },
   "outputs": [],
   "source": []
  },
  {
   "cell_type": "code",
   "execution_count": 46,
   "metadata": {},
   "outputs": [
    {
     "name": "stdout",
     "output_type": "stream",
     "text": [
      "Categorical classes: ['OPPOSE' 'SUPPORT']\n"
     ]
    }
   ],
   "source": [
    "label_encoder_CP = enc.fit(BinresTotAllProp.iloc[:, 0])\n",
    "print \"Categorical classes:\", label_encoder_CP.classes_"
   ]
  },
  {
   "cell_type": "code",
   "execution_count": 47,
   "metadata": {},
   "outputs": [
    {
     "name": "stdout",
     "output_type": "stream",
     "text": [
      "Integer classes: [0 1]\n"
     ]
    }
   ],
   "source": [
    "integer_classes_CP = label_encoder_CP.transform(label_encoder_CP.classes_)\n",
    "print \"Integer classes:\", integer_classes_CP"
   ]
  },
  {
   "cell_type": "code",
   "execution_count": 48,
   "metadata": {
    "collapsed": true
   },
   "outputs": [],
   "source": [
    "t_CP = label_encoder_CP.transform(BinresTotAllProp.iloc[:, 0])\n",
    "BinresTotAllProp.iloc[:, 0] = t_CP"
   ]
  },
  {
   "cell_type": "code",
   "execution_count": null,
   "metadata": {
    "collapsed": true
   },
   "outputs": [],
   "source": []
  },
  {
   "cell_type": "code",
   "execution_count": 49,
   "metadata": {},
   "outputs": [
    {
     "name": "stdout",
     "output_type": "stream",
     "text": [
      "Categorical classes: ['PF' 'PJ']\n"
     ]
    }
   ],
   "source": [
    "label_encoder_WHO = enc.fit(BinresTotAllProp.iloc[:, 1])\n",
    "print \"Categorical classes:\", label_encoder_WHO.classes_"
   ]
  },
  {
   "cell_type": "code",
   "execution_count": 50,
   "metadata": {},
   "outputs": [
    {
     "name": "stdout",
     "output_type": "stream",
     "text": [
      "Integer classes: [0 1]\n"
     ]
    }
   ],
   "source": [
    "integer_classes_WHO = label_encoder_WHO.transform(label_encoder_WHO.classes_)\n",
    "print \"Integer classes:\", integer_classes_WHO"
   ]
  },
  {
   "cell_type": "code",
   "execution_count": 51,
   "metadata": {
    "collapsed": true
   },
   "outputs": [],
   "source": [
    "t_WHO = label_encoder_WHO.transform(BinresTotAllProp.iloc[:, 1])\n",
    "BinresTotAllProp.iloc[:, 1] = t_WHO"
   ]
  },
  {
   "cell_type": "code",
   "execution_count": null,
   "metadata": {
    "collapsed": true
   },
   "outputs": [],
   "source": []
  },
  {
   "cell_type": "code",
   "execution_count": 52,
   "metadata": {},
   "outputs": [
    {
     "name": "stdout",
     "output_type": "stream",
     "text": [
      "Categorical classes: ['APPROVED' 'DEFEATED']\n"
     ]
    }
   ],
   "source": [
    "label_encoder_RESULT = enc.fit(BinresTotAllProp.iloc[:, 4])\n",
    "print \"Categorical classes:\", label_encoder_RESULT.classes_"
   ]
  },
  {
   "cell_type": "code",
   "execution_count": 53,
   "metadata": {},
   "outputs": [
    {
     "name": "stdout",
     "output_type": "stream",
     "text": [
      "Integer classes: [0 1]\n"
     ]
    }
   ],
   "source": [
    "integer_classes_RESULT = label_encoder_RESULT.transform(label_encoder_RESULT.classes_)\n",
    "print \"Integer classes:\", integer_classes_RESULT"
   ]
  },
  {
   "cell_type": "code",
   "execution_count": 54,
   "metadata": {},
   "outputs": [],
   "source": [
    "t_RESULT = label_encoder_RESULT.transform(BinresTotAllProp.iloc[:, 4])\n",
    "BinresTotAllProp.iloc[:, 4] = t_RESULT"
   ]
  },
  {
   "cell_type": "code",
   "execution_count": null,
   "metadata": {
    "collapsed": true
   },
   "outputs": [],
   "source": []
  },
  {
   "cell_type": "code",
   "execution_count": 55,
   "metadata": {},
   "outputs": [
    {
     "name": "stdout",
     "output_type": "stream",
     "text": [
      "<class 'pandas.core.frame.DataFrame'>\n",
      "Int64Index: 49 entries, 0 to 48\n",
      "Data columns (total 5 columns):\n",
      "COMMITTEE_POSITION    49 non-null int64\n",
      "WHO                   49 non-null int64\n",
      "AMOUNT                49 non-null float64\n",
      "QNTD                  49 non-null int64\n",
      "RESULT                49 non-null int64\n",
      "dtypes: float64(1), int64(4)\n",
      "memory usage: 2.3 KB\n",
      "None\n"
     ]
    }
   ],
   "source": [
    "print BinresTotAllProp.info()"
   ]
  },
  {
   "cell_type": "code",
   "execution_count": 56,
   "metadata": {},
   "outputs": [
    {
     "name": "stdout",
     "output_type": "stream",
     "text": [
      "   COMMITTEE_POSITION  WHO     AMOUNT  QNTD  RESULT\n",
      "0                   0    0    1450.00     3       0\n",
      "1                   0    0  103748.00    93       0\n",
      "2                   0    0  451973.01  5864       0\n"
     ]
    }
   ],
   "source": [
    "print BinresTotAllProp.head(3)"
   ]
  },
  {
   "cell_type": "code",
   "execution_count": 57,
   "metadata": {
    "collapsed": true
   },
   "outputs": [],
   "source": [
    "features = BinresTotAllProp.columns.difference( ['RESULT'] )\n",
    "X = BinresTotAllProp[features].values\n",
    "y = BinresTotAllProp['RESULT'].values"
   ]
  },
  {
   "cell_type": "code",
   "execution_count": 58,
   "metadata": {
    "collapsed": true
   },
   "outputs": [],
   "source": [
    "X_train, X_test, y_train, y_test = train_test_split(X, y, random_state=1)"
   ]
  },
  {
   "cell_type": "code",
   "execution_count": 59,
   "metadata": {
    "collapsed": true
   },
   "outputs": [],
   "source": [
    "dt = DecisionTreeClassifier(random_state=1, criterion='gini', max_depth=5)\n",
    "dt.fit(X_train, y_train)\n",
    "y_predict = dt.predict(X_test)"
   ]
  },
  {
   "cell_type": "code",
   "execution_count": null,
   "metadata": {
    "collapsed": true
   },
   "outputs": [],
   "source": []
  },
  {
   "cell_type": "markdown",
   "metadata": {},
   "source": [
    "ACCURACY - PRECISAO"
   ]
  },
  {
   "cell_type": "code",
   "execution_count": 60,
   "metadata": {},
   "outputs": [
    {
     "name": "stdout",
     "output_type": "stream",
     "text": [
      "PRECISAO\n",
      "76.9230769231\n"
     ]
    }
   ],
   "source": [
    "print \"PRECISAO\"\n",
    "print accuracy_score(y_test, y_predict) * 100"
   ]
  },
  {
   "cell_type": "markdown",
   "metadata": {},
   "source": [
    "MATRIZ DE CONFUSAO"
   ]
  },
  {
   "cell_type": "code",
   "execution_count": 61,
   "metadata": {},
   "outputs": [
    {
     "name": "stdout",
     "output_type": "stream",
     "text": [
      "MATRIZ DE CONFUSAO\n",
      "   0  1\n",
      "0  8  1\n",
      "1  2  2\n"
     ]
    }
   ],
   "source": [
    "print \"MATRIZ DE CONFUSAO\"\n",
    "print pd.DataFrame( confusion_matrix(y_test, y_predict), columns=['0','1'], index=['0', '1'] )"
   ]
  },
  {
   "cell_type": "code",
   "execution_count": null,
   "metadata": {
    "collapsed": true
   },
   "outputs": [],
   "source": []
  },
  {
   "cell_type": "markdown",
   "metadata": {},
   "source": [
    "RELATORIO DA CLASSIFICACAO"
   ]
  },
  {
   "cell_type": "code",
   "execution_count": 63,
   "metadata": {},
   "outputs": [
    {
     "name": "stdout",
     "output_type": "stream",
     "text": [
      "\n",
      "             precision    recall  f1-score   support\n",
      "\n",
      "          0       0.80      0.89      0.84         9\n",
      "          1       0.67      0.50      0.57         4\n",
      "\n",
      "avg / total       0.76      0.77      0.76        13\n",
      "\n"
     ]
    }
   ],
   "source": [
    "print \"\"\n",
    "print(classification_report(y_test, y_predict))"
   ]
  },
  {
   "cell_type": "code",
   "execution_count": null,
   "metadata": {
    "collapsed": true
   },
   "outputs": [],
   "source": []
  },
  {
   "cell_type": "code",
   "execution_count": 64,
   "metadata": {
    "collapsed": true
   },
   "outputs": [],
   "source": [
    "with open(\"tree-final-new.dot\", 'w') as f:\n",
    "        export_graphviz(dt, out_file=f, feature_names=features)"
   ]
  },
  {
   "cell_type": "code",
   "execution_count": 65,
   "metadata": {
    "collapsed": true
   },
   "outputs": [],
   "source": [
    "command = [\"dot\", \"-Tpng\", \"tree-final-new.dot\", \"-o\", \"tree-final-new.png\"]"
   ]
  },
  {
   "cell_type": "code",
   "execution_count": 66,
   "metadata": {},
   "outputs": [
    {
     "data": {
      "text/plain": [
       "0"
      ]
     },
     "execution_count": 66,
     "metadata": {},
     "output_type": "execute_result"
    }
   ],
   "source": [
    "subprocess.check_call(command)"
   ]
  },
  {
   "cell_type": "code",
   "execution_count": 67,
   "metadata": {
    "collapsed": true
   },
   "outputs": [],
   "source": [
    "def get_code(tree, feature_names, target_names,\n",
    "             spacer_base=\"    \"):\n",
    "    \"\"\"Produce psuedo-code for decision tree.\n",
    "\n",
    "    Args\n",
    "    ----\n",
    "    tree -- scikit-leant DescisionTree.\n",
    "    feature_names -- list of feature names.\n",
    "    target_names -- list of target (class) names.\n",
    "    spacer_base -- used for spacing code (default: \"    \").\n",
    "\n",
    "    Notes\n",
    "    -----\n",
    "    based on http://stackoverflow.com/a/30104792.\n",
    "    \"\"\"\n",
    "    left      = tree.tree_.children_left\n",
    "    right     = tree.tree_.children_right\n",
    "    threshold = tree.tree_.threshold\n",
    "    features  = [feature_names[i] for i in tree.tree_.feature]\n",
    "    value = tree.tree_.value\n",
    "\n",
    "    def recurse(left, right, threshold, features, node, depth):\n",
    "        spacer = spacer_base * depth\n",
    "        if (threshold[node] != -2):\n",
    "            print(spacer + \"if ( \" + features[node] + \" <= \" + \\\n",
    "                  str(threshold[node]) + \" ) {\")\n",
    "            if left[node] != -1:\n",
    "                    recurse(left, right, threshold, features,\n",
    "                            left[node], depth+1)\n",
    "            print(spacer + \"}\\n\" + spacer +\"else {\")\n",
    "            if right[node] != -1:\n",
    "                    recurse(left, right, threshold, features,\n",
    "                            right[node], depth+1)\n",
    "            print(spacer + \"}\")\n",
    "        else:\n",
    "            target = value[node]\n",
    "            for i, v in zip(np.nonzero(target)[1],\n",
    "                            target[np.nonzero(target)]):\n",
    "                target_name = target_names[i]\n",
    "                target_count = int(v)\n",
    "                print(spacer + \"return \" + str(target_name) + \\\n",
    "                      \" ( \" + str(target_count) + \" examples )\")\n",
    "\n",
    "    recurse(left, right, threshold, features, 0, 0)"
   ]
  },
  {
   "cell_type": "code",
   "execution_count": null,
   "metadata": {
    "collapsed": true
   },
   "outputs": [],
   "source": []
  },
  {
   "cell_type": "code",
   "execution_count": 68,
   "metadata": {},
   "outputs": [
    {
     "name": "stdout",
     "output_type": "stream",
     "text": [
      "if ( AMOUNT <= 3570561.0 ) {\n",
      "    if ( COMMITTEE_POSITION <= 0.5 ) {\n",
      "        if ( AMOUNT <= 713524.5 ) {\n",
      "            if ( QNTD <= 74.5 ) {\n",
      "                if ( AMOUNT <= 29786.0 ) {\n",
      "                    return [ 1450.     0.     3.     0.] ( 1 examples )\n",
      "                }\n",
      "                else {\n",
      "                    return [  1.03748000e+05   0.00000000e+00   9.30000000e+01   0.00000000e+00] ( 2 examples )\n",
      "                }\n",
      "            }\n",
      "            else {\n",
      "                return [ 1450.     0.     3.     0.] ( 2 examples )\n",
      "            }\n",
      "        }\n",
      "        else {\n",
      "            return [ 1450.     0.     3.     0.] ( 3 examples )\n",
      "        }\n",
      "    }\n",
      "    else {\n",
      "        return [ 1450.     0.     3.     0.] ( 9 examples )\n",
      "    }\n",
      "}\n",
      "else {\n",
      "    if ( AMOUNT <= 3783400.0 ) {\n",
      "        return [  1.03748000e+05   0.00000000e+00   9.30000000e+01   0.00000000e+00] ( 1 examples )\n",
      "    }\n",
      "    else {\n",
      "        if ( QNTD <= 90.0 ) {\n",
      "            if ( QNTD <= 53.5 ) {\n",
      "                if ( COMMITTEE_POSITION <= 0.5 ) {\n",
      "                    return [ 1450.     0.     3.     0.] ( 2 examples )\n",
      "                }\n",
      "                else {\n",
      "                    return [ 1450.     0.     3.     0.] ( 1 examples )\n",
      "                    return [  1.03748000e+05   0.00000000e+00   9.30000000e+01   0.00000000e+00] ( 2 examples )\n",
      "                }\n",
      "            }\n",
      "            else {\n",
      "                return [ 1450.     0.     3.     0.] ( 4 examples )\n",
      "            }\n",
      "        }\n",
      "        else {\n",
      "            if ( QNTD <= 364.5 ) {\n",
      "                return [  1.03748000e+05   0.00000000e+00   9.30000000e+01   0.00000000e+00] ( 3 examples )\n",
      "            }\n",
      "            else {\n",
      "                if ( QNTD <= 4444.0 ) {\n",
      "                    return [ 1450.     0.     3.     0.] ( 3 examples )\n",
      "                }\n",
      "                else {\n",
      "                    return [ 1450.     0.     3.     0.] ( 1 examples )\n",
      "                    return [  1.03748000e+05   0.00000000e+00   9.30000000e+01   0.00000000e+00] ( 2 examples )\n",
      "                }\n",
      "            }\n",
      "        }\n",
      "    }\n",
      "}\n"
     ]
    }
   ],
   "source": [
    "get_code(dt, ['AMOUNT','COMMITTEE_POSITION','QNTD','WHO'], X)"
   ]
  },
  {
   "cell_type": "code",
   "execution_count": null,
   "metadata": {
    "collapsed": true
   },
   "outputs": [],
   "source": []
  },
  {
   "cell_type": "code",
   "execution_count": null,
   "metadata": {
    "collapsed": true
   },
   "outputs": [],
   "source": []
  },
  {
   "cell_type": "code",
   "execution_count": null,
   "metadata": {
    "collapsed": true
   },
   "outputs": [],
   "source": []
  },
  {
   "cell_type": "code",
   "execution_count": null,
   "metadata": {
    "collapsed": true
   },
   "outputs": [],
   "source": []
  },
  {
   "cell_type": "code",
   "execution_count": null,
   "metadata": {
    "collapsed": true
   },
   "outputs": [],
   "source": []
  },
  {
   "cell_type": "code",
   "execution_count": null,
   "metadata": {
    "collapsed": true
   },
   "outputs": [],
   "source": []
  },
  {
   "cell_type": "code",
   "execution_count": null,
   "metadata": {
    "collapsed": true
   },
   "outputs": [],
   "source": []
  },
  {
   "cell_type": "code",
   "execution_count": null,
   "metadata": {
    "collapsed": true
   },
   "outputs": [],
   "source": []
  },
  {
   "cell_type": "code",
   "execution_count": null,
   "metadata": {
    "collapsed": true
   },
   "outputs": [],
   "source": []
  },
  {
   "cell_type": "code",
   "execution_count": null,
   "metadata": {
    "collapsed": true
   },
   "outputs": [],
   "source": []
  },
  {
   "cell_type": "code",
   "execution_count": null,
   "metadata": {
    "collapsed": true
   },
   "outputs": [],
   "source": []
  },
  {
   "cell_type": "code",
   "execution_count": null,
   "metadata": {
    "collapsed": true
   },
   "outputs": [],
   "source": []
  },
  {
   "cell_type": "code",
   "execution_count": null,
   "metadata": {
    "collapsed": true
   },
   "outputs": [],
   "source": []
  },
  {
   "cell_type": "code",
   "execution_count": null,
   "metadata": {
    "collapsed": true
   },
   "outputs": [],
   "source": []
  },
  {
   "cell_type": "code",
   "execution_count": null,
   "metadata": {
    "collapsed": true
   },
   "outputs": [],
   "source": []
  },
  {
   "cell_type": "code",
   "execution_count": null,
   "metadata": {
    "collapsed": true
   },
   "outputs": [],
   "source": []
  },
  {
   "cell_type": "code",
   "execution_count": null,
   "metadata": {
    "collapsed": true
   },
   "outputs": [],
   "source": []
  },
  {
   "cell_type": "code",
   "execution_count": null,
   "metadata": {
    "collapsed": true
   },
   "outputs": [],
   "source": []
  },
  {
   "cell_type": "code",
   "execution_count": null,
   "metadata": {
    "collapsed": true
   },
   "outputs": [],
   "source": []
  },
  {
   "cell_type": "code",
   "execution_count": null,
   "metadata": {
    "collapsed": true
   },
   "outputs": [],
   "source": []
  },
  {
   "cell_type": "code",
   "execution_count": null,
   "metadata": {
    "collapsed": true
   },
   "outputs": [],
   "source": []
  },
  {
   "cell_type": "code",
   "execution_count": null,
   "metadata": {
    "collapsed": true
   },
   "outputs": [],
   "source": []
  },
  {
   "cell_type": "code",
   "execution_count": null,
   "metadata": {
    "collapsed": true
   },
   "outputs": [],
   "source": []
  },
  {
   "cell_type": "code",
   "execution_count": null,
   "metadata": {
    "collapsed": true
   },
   "outputs": [],
   "source": []
  },
  {
   "cell_type": "code",
   "execution_count": null,
   "metadata": {
    "collapsed": true
   },
   "outputs": [],
   "source": []
  },
  {
   "cell_type": "code",
   "execution_count": null,
   "metadata": {
    "collapsed": true
   },
   "outputs": [],
   "source": []
  },
  {
   "cell_type": "code",
   "execution_count": null,
   "metadata": {
    "collapsed": true
   },
   "outputs": [],
   "source": []
  },
  {
   "cell_type": "code",
   "execution_count": null,
   "metadata": {
    "collapsed": true
   },
   "outputs": [],
   "source": []
  },
  {
   "cell_type": "code",
   "execution_count": null,
   "metadata": {
    "collapsed": true
   },
   "outputs": [],
   "source": []
  },
  {
   "cell_type": "code",
   "execution_count": null,
   "metadata": {
    "collapsed": true
   },
   "outputs": [],
   "source": []
  },
  {
   "cell_type": "code",
   "execution_count": null,
   "metadata": {
    "collapsed": true
   },
   "outputs": [],
   "source": []
  },
  {
   "cell_type": "code",
   "execution_count": null,
   "metadata": {
    "collapsed": true
   },
   "outputs": [],
   "source": []
  },
  {
   "cell_type": "code",
   "execution_count": null,
   "metadata": {
    "collapsed": true
   },
   "outputs": [],
   "source": []
  },
  {
   "cell_type": "code",
   "execution_count": null,
   "metadata": {
    "collapsed": true
   },
   "outputs": [],
   "source": []
  },
  {
   "cell_type": "code",
   "execution_count": null,
   "metadata": {
    "collapsed": true
   },
   "outputs": [],
   "source": []
  },
  {
   "cell_type": "code",
   "execution_count": null,
   "metadata": {
    "collapsed": true
   },
   "outputs": [],
   "source": []
  },
  {
   "cell_type": "code",
   "execution_count": null,
   "metadata": {
    "collapsed": true
   },
   "outputs": [],
   "source": []
  }
 ],
 "metadata": {
  "kernelspec": {
   "display_name": "Python 2",
   "language": "python",
   "name": "python2"
  },
  "language_info": {
   "codemirror_mode": {
    "name": "ipython",
    "version": 2
   },
   "file_extension": ".py",
   "mimetype": "text/x-python",
   "name": "python",
   "nbconvert_exporter": "python",
   "pygments_lexer": "ipython2",
   "version": "2.7.12"
  }
 },
 "nbformat": 4,
 "nbformat_minor": 2
}
